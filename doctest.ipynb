{
  "nbformat": 4,
  "nbformat_minor": 0,
  "metadata": {
    "colab": {
      "provenance": [],
      "collapsed_sections": []
    },
    "kernelspec": {
      "name": "python3",
      "display_name": "Python 3"
    },
    "language_info": {
      "name": "python"
    }
  },
  "cells": [
    {
      "cell_type": "markdown",
      "source": [
        "# Historia de una función llamada `eco`"
      ],
      "metadata": {
        "id": "J-0bq09q-aqG"
      }
    },
    {
      "cell_type": "code",
      "source": [
        "#@title\n",
        "\n",
        "def eco(grito):"
      ],
      "metadata": {
        "id": "Q0OaZm9V-N4p",
        "colab": {
          "base_uri": "https://localhost:8080/",
          "height": 135
        },
        "outputId": "d56a2b9c-a452-48d0-a968-5c65108ab6fb"
      },
      "execution_count": 2,
      "outputs": [
        {
          "output_type": "error",
          "ename": "SyntaxError",
          "evalue": "ignored",
          "traceback": [
            "\u001b[0;36m  File \u001b[0;32m\"<ipython-input-2-8ed14caa15d3>\"\u001b[0;36m, line \u001b[0;32m3\u001b[0m\n\u001b[0;31m    def eco(grito):\u001b[0m\n\u001b[0m                   ^\u001b[0m\n\u001b[0;31mSyntaxError\u001b[0m\u001b[0;31m:\u001b[0m unexpected EOF while parsing\n"
          ]
        }
      ]
    },
    {
      "cell_type": "code",
      "source": [
        "#@title\n",
        "def eco(grito):\n",
        "    ..."
      ],
      "metadata": {
        "id": "STpR2ma3-N0-"
      },
      "execution_count": 4,
      "outputs": []
    },
    {
      "cell_type": "code",
      "source": [
        "#@title\n",
        "eco('eco')"
      ],
      "metadata": {
        "id": "R7cds8iW-8rH"
      },
      "execution_count": 5,
      "outputs": []
    },
    {
      "cell_type": "code",
      "source": [
        "#@title\n",
        "help(eco)"
      ],
      "metadata": {
        "colab": {
          "base_uri": "https://localhost:8080/"
        },
        "id": "fPMfp9JM_E-r",
        "outputId": "c622b9fe-13d0-4868-ad13-cacdc280e3d1",
        "collapsed": true
      },
      "execution_count": 6,
      "outputs": [
        {
          "output_type": "stream",
          "name": "stdout",
          "text": [
            "Help on function eco in module __main__:\n",
            "\n",
            "eco(grito)\n",
            "    #@title\n",
            "\n"
          ]
        }
      ]
    },
    {
      "cell_type": "markdown",
      "source": [
        "## Comentarios `#`\n",
        "Describe el código, el cual ayuda a su desarrollo y mantenimiento. "
      ],
      "metadata": {
        "id": "QS9kccmI_TQ9"
      }
    },
    {
      "cell_type": "code",
      "source": [
        "#@title\n",
        "def eco(grito):\n",
        "    # Repite las últimas letras del grito\n",
        "    pass"
      ],
      "metadata": {
        "id": "93NbcH5c-Nxw"
      },
      "execution_count": 7,
      "outputs": []
    },
    {
      "cell_type": "code",
      "source": [
        "#@title\n",
        "help(eco)"
      ],
      "metadata": {
        "colab": {
          "base_uri": "https://localhost:8080/"
        },
        "id": "fcsuLstt-Nuh",
        "outputId": "a4651229-afbd-4a4f-ad4a-f11807e286ac",
        "collapsed": true
      },
      "execution_count": 8,
      "outputs": [
        {
          "output_type": "stream",
          "name": "stdout",
          "text": [
            "Help on function eco in module __main__:\n",
            "\n",
            "eco(grito)\n",
            "    #@title\n",
            "\n"
          ]
        }
      ]
    },
    {
      "cell_type": "markdown",
      "source": [
        "## Pistas en el tipado"
      ],
      "metadata": {
        "id": "xaoEujWmBbrF"
      }
    },
    {
      "cell_type": "code",
      "source": [
        "#@title\n",
        "def eco(grito : str) -> str:\n",
        "    # Repite las últimas letras del grito\n",
        "    pass"
      ],
      "metadata": {
        "id": "9VEcI1Gg-Nrg"
      },
      "execution_count": 10,
      "outputs": []
    },
    {
      "cell_type": "code",
      "source": [
        "#@title\n",
        "help(eco)"
      ],
      "metadata": {
        "colab": {
          "base_uri": "https://localhost:8080/"
        },
        "id": "J9E5Sfmh-Noo",
        "outputId": "9d6e2a50-1a80-4e39-ae85-d2ffd1a48647",
        "collapsed": true
      },
      "execution_count": 11,
      "outputs": [
        {
          "output_type": "stream",
          "name": "stdout",
          "text": [
            "Help on function eco in module __main__:\n",
            "\n",
            "eco(grito: str) -> str\n",
            "    #@title\n",
            "\n"
          ]
        }
      ]
    },
    {
      "cell_type": "markdown",
      "source": [
        "## Documentación \n"
      ],
      "metadata": {
        "id": "arNmAF7ZCWUi"
      }
    },
    {
      "cell_type": "code",
      "source": [
        "#@title\n",
        "def eco(grito : str) -> str:\n",
        "    '''\n",
        "    Retorna el `grito`, repitiendo dos veces las últimas tres letras\n",
        "    '''\n",
        "    pass"
      ],
      "metadata": {
        "id": "DK829jYVCVMF"
      },
      "execution_count": 13,
      "outputs": []
    },
    {
      "cell_type": "code",
      "source": [
        "#@title\n",
        "help(eco)"
      ],
      "metadata": {
        "colab": {
          "base_uri": "https://localhost:8080/"
        },
        "id": "lqwGgpec-Nlg",
        "outputId": "aaa69b15-4833-4201-b588-ce87b659dcd5",
        "collapsed": true
      },
      "execution_count": 14,
      "outputs": [
        {
          "output_type": "stream",
          "name": "stdout",
          "text": [
            "Help on function eco in module __main__:\n",
            "\n",
            "eco(grito: str) -> str\n",
            "    Retorna el `grito`, repitiendo dos veces las últimas tres letras\n",
            "\n"
          ]
        }
      ]
    },
    {
      "cell_type": "markdown",
      "source": [
        "# `doctest`"
      ],
      "metadata": {
        "id": "41nf12ohD95u"
      }
    },
    {
      "cell_type": "markdown",
      "source": [
        "Una buena documentación puede incluir ejemplos de la siguiente forma"
      ],
      "metadata": {
        "id": "pKZggzTbIyM7"
      }
    },
    {
      "cell_type": "code",
      "source": [
        "#@title\n",
        "def eco(grito : str) -> str:\n",
        "    '''\n",
        "    Retorna el `grito` repitiendo dos veces las últimas tres letras\n",
        "    >>> eco('hola eco')\n",
        "    hola eco eco eco\n",
        "    >>> eco('ya me despido')\n",
        "    ya me despido ido ido \n",
        "    '''\n",
        "\n",
        "    # Este comentario no se ve con help\n",
        "    pass"
      ],
      "metadata": {
        "id": "k4qHXDmhETzr"
      },
      "execution_count": 18,
      "outputs": []
    },
    {
      "cell_type": "code",
      "source": [
        "#@title\n",
        "help(eco)"
      ],
      "metadata": {
        "colab": {
          "base_uri": "https://localhost:8080/"
        },
        "id": "8wgR7FON-NiK",
        "outputId": "9dee1702-2a26-4a5b-ded6-76ba75574d04",
        "collapsed": true
      },
      "execution_count": 20,
      "outputs": [
        {
          "output_type": "stream",
          "name": "stdout",
          "text": [
            "Help on function eco in module __main__:\n",
            "\n",
            "eco(grito: str) -> str\n",
            "    Retorna el `grito` repitiendo dos veces las últimas tres letras\n",
            "    >>> eco('hola eco')\n",
            "    hola eco eco eco\n",
            "    >>> eco('ya me despido')\n",
            "    ya me despido ido ido\n",
            "\n"
          ]
        }
      ]
    },
    {
      "cell_type": "markdown",
      "source": [
        "`doctest` permite ejecutar los ejemplos.\n",
        "\n",
        " Desde la línea de comando se puede ejecutar así: \n",
        " \n",
        ">`python.exe -m doctest -v pd_sim.py`\n",
        "\n",
        "Para ejecutar `doctest` desde mi computador tengo que ejecutar el siguiente comando\n",
        "\n",
        ">`C:/Users/PC_GM_4/AppData/Local/Programs/Python/Python39/python.exe -m doctest -v c:/Users/PC_GM_4/machine_sim/pd_sim.py`\n",
        "\n",
        "`doctest` también se puede usar dentro del programa\n",
        "\n",
        "```\n",
        "import doctest\n",
        "import pd_sim\n",
        "\n",
        "if __name__ == \"__main__\":\n",
        "    doctest.testmod(pd_sim,verbose=True)\n",
        "```\n",
        "\n",
        "Para usar `doctest` en una sola celda de Jupyter basta con copiar al final de la celda \n",
        "\n",
        "```\n",
        "import doctest\n",
        "doctest.testmod()\n",
        "```\n",
        "\n",
        "como se muestra a continuación."
      ],
      "metadata": {
        "id": "4oXvfmhOIbsw"
      }
    },
    {
      "cell_type": "code",
      "source": [
        "#@title\n",
        "def eco(grito : str) -> str:\n",
        "    '''\n",
        "    Retorna el `grito` repitiendo dos veces las últimas tres letras\n",
        "    >>> eco('hola eco')\n",
        "    hola eco eco eco\n",
        "    >>> eco('ya me despido')\n",
        "    ya me despido ido ido \n",
        "    '''\n",
        "    pass\n",
        "\n",
        "import doctest\n",
        "doctest.testmod(verbose=True)"
      ],
      "metadata": {
        "colab": {
          "base_uri": "https://localhost:8080/"
        },
        "id": "cBeGnAdpWhZs",
        "outputId": "ee3e176f-8910-4db3-dd00-1b3b866c8a4b",
        "collapsed": true
      },
      "execution_count": 21,
      "outputs": [
        {
          "output_type": "stream",
          "name": "stderr",
          "text": [
            "\n",
            "PYDEV DEBUGGER WARNING:\n",
            "sys.settrace() should not be used when the debugger is being used.\n",
            "This may cause the debugger to stop working correctly.\n",
            "If this is needed, please check: \n",
            "http://pydev.blogspot.com/2007/06/why-cant-pydev-debugger-work-with.html\n",
            "to see how to restore the debug tracing back correctly.\n",
            "Call Location:\n",
            "  File \"/usr/lib/python3.7/doctest.py\", line 1487, in run\n",
            "    sys.settrace(save_trace)\n",
            "\n"
          ]
        },
        {
          "output_type": "stream",
          "name": "stdout",
          "text": [
            "Trying:\n",
            "    eco('hola eco')\n",
            "Expecting:\n",
            "    hola eco eco eco\n",
            "**********************************************************************\n",
            "File \"__main__\", line 5, in __main__.eco\n",
            "Failed example:\n",
            "    eco('hola eco')\n",
            "Expected:\n",
            "    hola eco eco eco\n",
            "Got nothing\n",
            "Trying:\n",
            "    eco('ya me despido')\n",
            "Expecting:\n",
            "    ya me despido ido ido \n",
            "**********************************************************************\n",
            "File \"__main__\", line 7, in __main__.eco\n",
            "Failed example:\n",
            "    eco('ya me despido')\n",
            "Expected:\n",
            "    ya me despido ido ido \n",
            "Got nothing\n",
            "1 items had no tests:\n",
            "    __main__\n",
            "**********************************************************************\n",
            "1 items had failures:\n",
            "   2 of   2 in __main__.eco\n",
            "2 tests in 2 items.\n",
            "0 passed and 2 failed.\n",
            "***Test Failed*** 2 failures.\n"
          ]
        },
        {
          "output_type": "execute_result",
          "data": {
            "text/plain": [
              "TestResults(failed=2, attempted=2)"
            ]
          },
          "metadata": {},
          "execution_count": 21
        }
      ]
    },
    {
      "cell_type": "markdown",
      "source": [
        "## Escribiendo el código"
      ],
      "metadata": {
        "id": "lO_BPc9CU6TO"
      }
    },
    {
      "cell_type": "code",
      "source": [
        "#@title\n",
        "def eco(grito : str) -> str:\n",
        "    '''\n",
        "    Retorna el `grito` repitiendo dos veces las últimas tres letras\n",
        "    >>> eco('hola eco')\n",
        "    hola eco eco eco\n",
        "    >>> eco('ya me despido')\n",
        "    ya me despido ido ido \n",
        "    '''\n",
        "    return grito\n",
        "    pass\n",
        "\n",
        "import doctest\n",
        "doctest.testmod(verbose=True)"
      ],
      "metadata": {
        "colab": {
          "base_uri": "https://localhost:8080/"
        },
        "id": "MnswfIbMVHo1",
        "outputId": "d3b385fb-78f0-49e8-f75b-878268b5405b",
        "collapsed": true
      },
      "execution_count": 22,
      "outputs": [
        {
          "output_type": "stream",
          "name": "stdout",
          "text": [
            "Trying:\n",
            "    eco('hola eco')\n",
            "Expecting:\n",
            "    hola eco eco eco\n",
            "**********************************************************************\n",
            "File \"__main__\", line 5, in __main__.eco\n",
            "Failed example:\n",
            "    eco('hola eco')\n",
            "Expected:\n",
            "    hola eco eco eco\n",
            "Got:\n",
            "    'hola eco'\n",
            "Trying:\n",
            "    eco('ya me despido')\n",
            "Expecting:\n",
            "    ya me despido ido ido \n",
            "**********************************************************************\n",
            "File \"__main__\", line 7, in __main__.eco\n",
            "Failed example:\n",
            "    eco('ya me despido')\n",
            "Expected:\n",
            "    ya me despido ido ido \n",
            "Got:\n",
            "    'ya me despido'\n",
            "1 items had no tests:\n",
            "    __main__\n",
            "**********************************************************************\n",
            "1 items had failures:\n",
            "   2 of   2 in __main__.eco\n",
            "2 tests in 2 items.\n",
            "0 passed and 2 failed.\n",
            "***Test Failed*** 2 failures.\n"
          ]
        },
        {
          "output_type": "execute_result",
          "data": {
            "text/plain": [
              "TestResults(failed=2, attempted=2)"
            ]
          },
          "metadata": {},
          "execution_count": 22
        }
      ]
    },
    {
      "cell_type": "code",
      "source": [
        "#@title\n",
        "def eco(grito : str) -> str:\n",
        "    '''\n",
        "    Retorna el `grito` repitiendo dos veces las últimas tres letras\n",
        "    >>> eco('hola eco')\n",
        "    hola eco eco eco\n",
        "    >>> eco('ya me despido')\n",
        "    ya me despido ido ido \n",
        "    '''\n",
        "    return grito + (' '+grito[-3:])*2\n",
        "    pass\n",
        "\n",
        "import doctest\n",
        "doctest.testmod(verbose=True)"
      ],
      "metadata": {
        "colab": {
          "base_uri": "https://localhost:8080/"
        },
        "id": "keFqnWbOW4Co",
        "outputId": "5d60403e-a2f8-422f-fc25-6e8f76511063",
        "collapsed": true
      },
      "execution_count": 23,
      "outputs": [
        {
          "output_type": "stream",
          "name": "stdout",
          "text": [
            "Trying:\n",
            "    eco('hola eco')\n",
            "Expecting:\n",
            "    hola eco eco eco\n",
            "**********************************************************************\n",
            "File \"__main__\", line 5, in __main__.eco\n",
            "Failed example:\n",
            "    eco('hola eco')\n",
            "Expected:\n",
            "    hola eco eco eco\n",
            "Got:\n",
            "    'hola eco eco eco'\n",
            "Trying:\n",
            "    eco('ya me despido')\n",
            "Expecting:\n",
            "    ya me despido ido ido \n",
            "**********************************************************************\n",
            "File \"__main__\", line 7, in __main__.eco\n",
            "Failed example:\n",
            "    eco('ya me despido')\n",
            "Expected:\n",
            "    ya me despido ido ido \n",
            "Got:\n",
            "    'ya me despido ido ido'\n",
            "1 items had no tests:\n",
            "    __main__\n",
            "**********************************************************************\n",
            "1 items had failures:\n",
            "   2 of   2 in __main__.eco\n",
            "2 tests in 2 items.\n",
            "0 passed and 2 failed.\n",
            "***Test Failed*** 2 failures.\n"
          ]
        },
        {
          "output_type": "execute_result",
          "data": {
            "text/plain": [
              "TestResults(failed=2, attempted=2)"
            ]
          },
          "metadata": {},
          "execution_count": 23
        }
      ]
    },
    {
      "cell_type": "code",
      "source": [
        "#@title\n",
        "def eco(grito : str) -> str:\n",
        "    '''\n",
        "    Retorna el `grito` repitiendo dos veces las últimas tres letras\n",
        "    >>> eco('hola eco')\n",
        "    \"hola eco eco eco\"\n",
        "    >>> eco('ya me despido')\n",
        "    \"ya me despido ido ido\" \n",
        "    '''\n",
        "    return grito + (' '+grito[-3:])*2\n",
        "    pass\n",
        "\n",
        "import doctest\n",
        "doctest.testmod(verbose=True)"
      ],
      "metadata": {
        "colab": {
          "base_uri": "https://localhost:8080/"
        },
        "id": "59XqP38bXWab",
        "outputId": "1eb613d7-5bd5-4878-9f10-4ee0bcfaf5fe",
        "collapsed": true
      },
      "execution_count": 24,
      "outputs": [
        {
          "output_type": "stream",
          "name": "stdout",
          "text": [
            "Trying:\n",
            "    eco('hola eco')\n",
            "Expecting:\n",
            "    \"hola eco eco eco\"\n",
            "**********************************************************************\n",
            "File \"__main__\", line 5, in __main__.eco\n",
            "Failed example:\n",
            "    eco('hola eco')\n",
            "Expected:\n",
            "    \"hola eco eco eco\"\n",
            "Got:\n",
            "    'hola eco eco eco'\n",
            "Trying:\n",
            "    eco('ya me despido')\n",
            "Expecting:\n",
            "    \"ya me despido ido ido\" \n",
            "**********************************************************************\n",
            "File \"__main__\", line 7, in __main__.eco\n",
            "Failed example:\n",
            "    eco('ya me despido')\n",
            "Expected:\n",
            "    \"ya me despido ido ido\" \n",
            "Got:\n",
            "    'ya me despido ido ido'\n",
            "1 items had no tests:\n",
            "    __main__\n",
            "**********************************************************************\n",
            "1 items had failures:\n",
            "   2 of   2 in __main__.eco\n",
            "2 tests in 2 items.\n",
            "0 passed and 2 failed.\n",
            "***Test Failed*** 2 failures.\n"
          ]
        },
        {
          "output_type": "execute_result",
          "data": {
            "text/plain": [
              "TestResults(failed=2, attempted=2)"
            ]
          },
          "metadata": {},
          "execution_count": 24
        }
      ]
    },
    {
      "cell_type": "code",
      "source": [
        "#@title\n",
        "def eco(grito : str) -> str:\n",
        "    '''\n",
        "    Retorna el `grito` repitiendo dos veces las últimas tres letras\n",
        "    >>> eco('hola eco')\n",
        "    'hola eco eco eco'\n",
        "    >>> eco('ya me despido')\n",
        "    'ya me despido ido ido' \n",
        "    '''\n",
        "    return grito + (' '+grito[-3:])*2\n",
        "    pass\n",
        "\n",
        "import doctest\n",
        "doctest.testmod(verbose=True)"
      ],
      "metadata": {
        "colab": {
          "base_uri": "https://localhost:8080/"
        },
        "id": "qtfjh6UBXgaR",
        "outputId": "e0a1aa05-c986-471d-bdb6-2dbdb9e6cfe1",
        "collapsed": true
      },
      "execution_count": 25,
      "outputs": [
        {
          "output_type": "stream",
          "name": "stdout",
          "text": [
            "Trying:\n",
            "    eco('hola eco')\n",
            "Expecting:\n",
            "    'hola eco eco eco'\n",
            "ok\n",
            "Trying:\n",
            "    eco('ya me despido')\n",
            "Expecting:\n",
            "    'ya me despido ido ido' \n",
            "**********************************************************************\n",
            "File \"__main__\", line 7, in __main__.eco\n",
            "Failed example:\n",
            "    eco('ya me despido')\n",
            "Expected:\n",
            "    'ya me despido ido ido' \n",
            "Got:\n",
            "    'ya me despido ido ido'\n",
            "1 items had no tests:\n",
            "    __main__\n",
            "**********************************************************************\n",
            "1 items had failures:\n",
            "   1 of   2 in __main__.eco\n",
            "2 tests in 2 items.\n",
            "1 passed and 1 failed.\n",
            "***Test Failed*** 1 failures.\n"
          ]
        },
        {
          "output_type": "execute_result",
          "data": {
            "text/plain": [
              "TestResults(failed=1, attempted=2)"
            ]
          },
          "metadata": {},
          "execution_count": 25
        }
      ]
    },
    {
      "cell_type": "markdown",
      "source": [
        "Es importante quitar los espacios después del final o del inicio"
      ],
      "metadata": {
        "id": "uUOvHhwebH0j"
      }
    },
    {
      "cell_type": "code",
      "source": [
        "#@title\n",
        "def eco(grito : str) -> str:\n",
        "    '''\n",
        "    Retorna el `grito` repitiendo dos veces las últimas tres letras\n",
        "    >>> eco('hola eco')\n",
        "    'hola eco eco eco'\n",
        "    >>> eco('ya me despido')\n",
        "    'ya me despido ido ido'\n",
        "    '''\n",
        "    return grito + (' '+grito[-3:])*2\n",
        "    pass\n",
        "\n",
        "import doctest\n",
        "doctest.testmod()"
      ],
      "metadata": {
        "colab": {
          "base_uri": "https://localhost:8080/"
        },
        "id": "Js56K5oYVHls",
        "outputId": "2775275a-fda8-42d6-edec-4776b0c873d2",
        "collapsed": true
      },
      "execution_count": 29,
      "outputs": [
        {
          "output_type": "execute_result",
          "data": {
            "text/plain": [
              "TestResults(failed=0, attempted=2)"
            ]
          },
          "metadata": {},
          "execution_count": 29
        }
      ]
    },
    {
      "cell_type": "markdown",
      "source": [
        "## Documentación final"
      ],
      "metadata": {
        "id": "SNsutGZ8cDvR"
      }
    },
    {
      "cell_type": "code",
      "source": [
        "#@title\n",
        "def eco(grito : str) -> str:\n",
        "    '''\n",
        "    Retorna el `grito` repitiendo dos veces las últimas tres letras\n",
        "\n",
        "    Parametros\n",
        "    ----------\n",
        "    grito : str \n",
        "\n",
        "    Ejemplos\n",
        "    --------\n",
        "    >>> eco('hola eco')\n",
        "    'hola eco eco eco'\n",
        "    >>> eco('ya me despido')\n",
        "    'ya me despido ido ido'\n",
        "    '''\n",
        "    return grito + (' '+grito[-3:])*2\n",
        "    \n",
        "\n",
        "import doctest\n",
        "doctest.testmod(verbose=True)"
      ],
      "metadata": {
        "id": "yvNC1JTTcAjM",
        "colab": {
          "base_uri": "https://localhost:8080/"
        },
        "outputId": "d8dfac67-3450-404e-d2ba-5a070a55936e"
      },
      "execution_count": 30,
      "outputs": [
        {
          "output_type": "stream",
          "name": "stdout",
          "text": [
            "Trying:\n",
            "    eco('hola eco')\n",
            "Expecting:\n",
            "    'hola eco eco eco'\n",
            "ok\n",
            "Trying:\n",
            "    eco('ya me despido')\n",
            "Expecting:\n",
            "    'ya me despido ido ido'\n",
            "ok\n",
            "1 items had no tests:\n",
            "    __main__\n",
            "1 items passed all tests:\n",
            "   2 tests in __main__.eco\n",
            "2 tests in 2 items.\n",
            "2 passed and 0 failed.\n",
            "Test passed.\n"
          ]
        },
        {
          "output_type": "execute_result",
          "data": {
            "text/plain": [
              "TestResults(failed=0, attempted=2)"
            ]
          },
          "metadata": {},
          "execution_count": 30
        }
      ]
    }
  ]
}