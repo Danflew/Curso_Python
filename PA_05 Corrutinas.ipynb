{
 "cells": [
  {
   "cell_type": "markdown",
   "metadata": {},
   "source": [
    "# `time`\n",
    "El módulo `time` tiene algunas utilidades para medir el tiempo."
   ]
  },
  {
   "cell_type": "code",
   "execution_count": null,
   "metadata": {},
   "outputs": [],
   "source": [
    "import time\n",
    "time.asctime()"
   ]
  },
  {
   "cell_type": "code",
   "execution_count": null,
   "metadata": {},
   "outputs": [],
   "source": [
    "time.time()"
   ]
  },
  {
   "cell_type": "markdown",
   "metadata": {},
   "source": [
    "https://docs.python.org/es/3/library/time.html\n",
    "> Retorna el tiempo en segundos desde epoch como un número de coma flotante. La fecha específica de la época y el manejo de los leap seconds depende de la plataforma. En Windows y la mayoría de los sistemas Unix, la época es el 1 de enero de 1970, 00:00:00 (UTC) y los segundos bisiestos no se cuentan para el tiempo en segundos desde la época. Esto se conoce comúnmente como Tiempo Unix. Para saber cuál es la época en una plataforma determinada, mire gmtime(0). "
   ]
  },
  {
   "cell_type": "code",
   "execution_count": null,
   "metadata": {},
   "outputs": [],
   "source": [
    "time.gmtime(0)"
   ]
  },
  {
   "cell_type": "code",
   "execution_count": null,
   "metadata": {},
   "outputs": [],
   "source": [
    "time.localtime()"
   ]
  },
  {
   "cell_type": "code",
   "execution_count": null,
   "metadata": {},
   "outputs": [],
   "source": [
    "time.strftime(\"%a, %d %b %Y %H:%M:%S +0000\", time.localtime())"
   ]
  },
  {
   "cell_type": "markdown",
   "metadata": {},
   "source": [
    "https://docs.python.org/es/3/library/time.html\n",
    "> <p>Las siguientes directivas se pueden incrustar en la cadena <em>format</em>. Se muestran sin el ancho de campo opcional y la especificación de precisión, y se reemplazan por los caracteres indicados en el resultado <a class=\"reference internal\" href=\"#time.strftime\" title=\"time.strftime\"><code class=\"xref py py-func docutils literal notranslate\"><span class=\"pre\">strftime()</span></code></a>:</p>\n",
    "<table class=\"docutils align-default\">\n",
    "<colgroup>\n",
    "<col style=\"width: 17%\" />\n",
    "<col style=\"width: 73%\" />\n",
    "<col style=\"width: 11%\" />\n",
    "</colgroup>\n",
    "<thead>\n",
    "<tr class=\"row-odd\"><th class=\"head\"><p>Directiva</p></th>\n",
    "<th class=\"head\"><p>Sentido</p></th>\n",
    "<th class=\"head\"><p>Notas</p></th>\n",
    "</tr>\n",
    "</thead>\n",
    "<tbody>\n",
    "<tr class=\"row-even\"><td><p><code class=\"docutils literal notranslate\"><span class=\"pre\">%a</span></code></p></td>\n",
    "<td><p>Nombre abreviado del día local de la localidad.</p></td>\n",
    "<td></td>\n",
    "</tr>\n",
    "<tr class=\"row-odd\"><td><p><code class=\"docutils literal notranslate\"><span class=\"pre\">%A</span></code></p></td>\n",
    "<td><p>Nombre completo del día laborable de Localidad.</p></td>\n",
    "<td></td>\n",
    "</tr>\n",
    "<tr class=\"row-even\"><td><p><code class=\"docutils literal notranslate\"><span class=\"pre\">%b</span></code></p></td>\n",
    "<td><p>Nombre abreviado del mes de la localidad.</p></td>\n",
    "<td></td>\n",
    "</tr>\n",
    "<tr class=\"row-odd\"><td><p><code class=\"docutils literal notranslate\"><span class=\"pre\">%B</span></code></p></td>\n",
    "<td><p>Nombre completo del mes de la localidad.</p></td>\n",
    "<td></td>\n",
    "</tr>\n",
    "<tr class=\"row-even\"><td><p><code class=\"docutils literal notranslate\"><span class=\"pre\">%c</span></code></p></td>\n",
    "<td><p>Representación apropiada de fecha y hora de la localidad.</p></td>\n",
    "<td></td>\n",
    "</tr>\n",
    "<tr class=\"row-odd\"><td><p><code class=\"docutils literal notranslate\"><span class=\"pre\">%d</span></code></p></td>\n",
    "<td><p>Día del mes como número decimal [01,31].</p></td>\n",
    "<td></td>\n",
    "</tr>\n",
    "<tr class=\"row-even\"><td><p><code class=\"docutils literal notranslate\"><span class=\"pre\">%H</span></code></p></td>\n",
    "<td><p>Hora (reloj de 24 horas) como un número decimal [00,23].</p></td>\n",
    "<td></td>\n",
    "</tr>\n",
    "<tr class=\"row-odd\"><td><p><code class=\"docutils literal notranslate\"><span class=\"pre\">%I</span></code></p></td>\n",
    "<td><p>Hora (reloj de 12 horas) como un número decimal [01,12].</p></td>\n",
    "<td></td>\n",
    "</tr>\n",
    "<tr class=\"row-even\"><td><p><code class=\"docutils literal notranslate\"><span class=\"pre\">%j</span></code></p></td>\n",
    "<td><p>Día del año como número decimal [001,366].</p></td>\n",
    "<td></td>\n",
    "</tr>\n",
    "<tr class=\"row-odd\"><td><p><code class=\"docutils literal notranslate\"><span class=\"pre\">%m</span></code></p></td>\n",
    "<td><p>Mes como un número decimal [01,12].</p></td>\n",
    "<td></td>\n",
    "</tr>\n",
    "<tr class=\"row-even\"><td><p><code class=\"docutils literal notranslate\"><span class=\"pre\">%M</span></code></p></td>\n",
    "<td><p>Minuto como un número decimal [00,59].</p></td>\n",
    "<td></td>\n",
    "</tr>\n",
    "<tr class=\"row-odd\"><td><p><code class=\"docutils literal notranslate\"><span class=\"pre\">%p</span></code></p></td>\n",
    "<td><p>El equivalente de la configuración regional de AM o PM.</p></td>\n",
    "<td><p>(1)</p></td>\n",
    "</tr>\n",
    "<tr class=\"row-even\"><td><p><code class=\"docutils literal notranslate\"><span class=\"pre\">%S</span></code></p></td>\n",
    "<td><p>Segunda como un número decimal [00,61].</p></td>\n",
    "<td><p>(2)</p></td>\n",
    "</tr>\n",
    "<tr class=\"row-odd\"><td><p><code class=\"docutils literal notranslate\"><span class=\"pre\">%U</span></code></p></td>\n",
    "<td><p>Número de semana del año (domingo como primer día de la semana) como número decimal [00,53]. Todos los días en un nuevo año anterior al primer domingo se consideran en la semana 0.</p></td>\n",
    "<td><p>(3)</p></td>\n",
    "</tr>\n",
    "<tr class=\"row-even\"><td><p><code class=\"docutils literal notranslate\"><span class=\"pre\">%w</span></code></p></td>\n",
    "<td><p>Día de la semana como un número decimal [0 (domingo), 6].</p></td>\n",
    "<td></td>\n",
    "</tr>\n",
    "<tr class=\"row-odd\"><td><p><code class=\"docutils literal notranslate\"><span class=\"pre\">%W</span></code></p></td>\n",
    "<td><p>Número de semana del año (lunes como primer día de la semana) como número decimal [00,53]. Todos los días en un nuevo año anterior al primer lunes se consideran en la semana 0.</p></td>\n",
    "<td><p>(3)</p></td>\n",
    "</tr>\n",
    "<tr class=\"row-even\"><td><p><code class=\"docutils literal notranslate\"><span class=\"pre\">%x</span></code></p></td>\n",
    "<td><p>Representación de fecha apropiada de la localidad.</p></td>\n",
    "<td></td>\n",
    "</tr>\n",
    "<tr class=\"row-odd\"><td><p><code class=\"docutils literal notranslate\"><span class=\"pre\">%X</span></code></p></td>\n",
    "<td><p>Representación del tiempo apropiado de la localidad.</p></td>\n",
    "<td></td>\n",
    "</tr>\n",
    "<tr class=\"row-even\"><td><p><code class=\"docutils literal notranslate\"><span class=\"pre\">%y</span></code></p></td>\n",
    "<td><p>Año sin siglo como número decimal [00,99].</p></td>\n",
    "<td></td>\n",
    "</tr>\n",
    "<tr class=\"row-odd\"><td><p><code class=\"docutils literal notranslate\"><span class=\"pre\">%Y</span></code></p></td>\n",
    "<td><p>Año con siglo como número decimal.</p></td>\n",
    "<td></td>\n",
    "</tr>\n",
    "<tr class=\"row-even\"><td><p><code class=\"docutils literal notranslate\"><span class=\"pre\">%z</span></code></p></td>\n",
    "<td><p>Desplazamiento de zona horaria que indica una diferencia horaria positiva o negativa con respecto a UTC / GMT de la forma + HHMM o -HHMM, donde H representa dígitos decimales de hora y M representa dígitos decimales de minuto [-23: 59, +23: 59].</p></td>\n",
    "<td></td>\n",
    "</tr>\n",
    "<tr class=\"row-odd\"><td><p><code class=\"docutils literal notranslate\"><span class=\"pre\">%Z</span></code></p></td>\n",
    "<td><p>Nombre de zona horaria (sin caracteres si no existe zona horaria).</p></td>\n",
    "<td></td>\n",
    "</tr>\n",
    "<tr class=\"row-even\"><td><p><code class=\"docutils literal notranslate\"><span class=\"pre\">%%</span></code></p></td>\n",
    "<td><p>Un carácter literal <code class=\"docutils literal notranslate\"><span class=\"pre\">'%'</span></code>.</p></td>\n",
    "<td></td>\n",
    "</tr>\n",
    "</tbody>\n",
    "</table>\n",
    "<p>Notas:</p>\n",
    "<ol class=\"arabic simple\">\n",
    "<li><p>Cuando se usa con la función <a class=\"reference internal\" href=\"#time.strptime\" title=\"time.strptime\"><code class=\"xref py py-func docutils literal notranslate\"><span class=\"pre\">strptime()</span></code></a>, la directiva <code class=\"docutils literal notranslate\"><span class=\"pre\">%p</span></code> solo afecta el campo de hora de salida si se usa la directiva <code class=\"docutils literal notranslate\"><span class=\"pre\">%I</span></code> para analizar la hora.</p></li>\n",
    "<li><p>El rango realmente es `` 0`` a `` 61``; el valor `` 60`` es válido en las marcas de tiempo que representan <a class=\"reference external\" href=\"https://en.wikipedia.org/wiki/Leap_second\">segundos intercalares</a> y el valor <code class=\"docutils literal notranslate\"><span class=\"pre\">61</span></code> es compatible por razones históricas.</p></li>\n",
    "<li><p>Cuando se usa con la función <a class=\"reference internal\" href=\"#time.strptime\" title=\"time.strptime\"><code class=\"xref py py-func docutils literal notranslate\"><span class=\"pre\">strptime()</span></code></a>, <code class=\"docutils literal notranslate\"><span class=\"pre\">%U</span></code> y <code class=\"docutils literal notranslate\"><span class=\"pre\">%W</span></code> solo se usan en los cálculos cuando se especifica el día de la semana y el año.</p></li>\n",
    "</ol>\n",
    "<p>Aquí hay un ejemplo, un formato para fechas compatibles con el especificado en estándar de correo electrónico de Internet <span class=\"target\" id=\"index-36\"></span><a class=\"rfc reference external\" href=\"https://tools.ietf.org/html/rfc2822.html\"><strong>RFC 2822</strong></a>. <a class=\"footnote-reference brackets\" href=\"#id2\" id=\"id1\">1</a></p>\n"
   ]
  },
  {
   "cell_type": "markdown",
   "metadata": {},
   "source": [
    "## time.sleep(tiemp)\n",
    "https://docs.python.org/es/3/library/time.html#time.sleep\n",
    " \n",
    "> Suspende la ejecución del hilo que lo invoca por el número de segundos dado. El argumento puede ser un número de punto flotante para indicar un tiempo de suspensión más preciso. El tiempo de suspensión real puede ser menor que el solicitado porque cualquier señal detectada terminará la función sleep() siguiendo la rutina de captura de la señal. El tiempo de suspensión también puede ser más largo que el solicitado por una cantidad arbitraria debido a la programación de otra actividad en el sistema."
   ]
  },
  {
   "cell_type": "code",
   "execution_count": null,
   "metadata": {},
   "outputs": [],
   "source": [
    "tiempo1=time.time()\n",
    "print('tiempo1: ',tiempo1)\n",
    "\n",
    "time.sleep(3.5)\n",
    "\n",
    "tiempo2=time.time()\n",
    "print('tiempo2: ',tiempo2)\n",
    "\n",
    "print('tiempo2-tiempo1:',tiempo2-tiempo1)"
   ]
  },
  {
   "cell_type": "code",
   "execution_count": null,
   "metadata": {},
   "outputs": [],
   "source": [
    "tiempo1=time.time()\n",
    "print('tiempo1: ',tiempo1)\n",
    "\n",
    "time.sleep(3.5)\n",
    "\n",
    "tiempo2=time.time()\n",
    "print('tiempo2: ',tiempo2)\n",
    "\n",
    "print('tiempo2-tiempo1:',tiempo2-tiempo1)"
   ]
  },
  {
   "cell_type": "markdown",
   "metadata": {},
   "source": [
    "# Raspberry Pi\n",
    "El Raspberry pi es uno de los dispositivos más pequeños y populares que permite ejecutar Python. Además tiene puertos de entrada y salida que permiten interactuar directamente con sensores, actuadores u otros circuitos. El siguiente enlace tiene información de la librería de Python usada para interactuar con los puertos.\n",
    "\n",
    "* https://www.raspberrypi.org/documentation/usage/gpio/\n",
    "* https://gpiozero.readthedocs.io/en/stable/\n",
    "\n",
    "\n",
    "Hay que tener en cuenta que Linux no es un sistema operativo en tiempo real. Es decir que el tiempo que hay desde que ocurre un evento hasta que el programa reacciona, depende mucho de los procesos que se estén realizando y por lo tanto no se puede asegurar un tiempo de respuesta máximo. Esto no impide que con las precauciones adecuadas se puedan realizar prototipos.    \n",
    "\n",
    "En https://stackoverflow.com/questions/1402933/python-on-an-real-time-operation-system-rtos se comenta que los sistemas operativos de tiempo real (RTOS) permiten usar Python en algunas aplicaciones con tiempos de respuesta de milisegundos. "
   ]
  },
  {
   "cell_type": "markdown",
   "metadata": {},
   "source": [
    "# `def`-`yield`\n",
    "## Dferencia entre `def`-`return`  y  `def`-`yield`"
   ]
  },
  {
   "cell_type": "code",
   "execution_count": null,
   "metadata": {},
   "outputs": [],
   "source": [
    "def def_return():\n",
    "    return \"hola mundo\"\n",
    "\n",
    "def_return"
   ]
  },
  {
   "cell_type": "code",
   "execution_count": null,
   "metadata": {},
   "outputs": [],
   "source": [
    "def_return()"
   ]
  },
  {
   "cell_type": "code",
   "execution_count": null,
   "metadata": {},
   "outputs": [],
   "source": [
    "def def_yield():\n",
    "    yield \"hola mundo\"\n",
    "\n",
    "def_yield"
   ]
  },
  {
   "cell_type": "code",
   "execution_count": null,
   "metadata": {},
   "outputs": [],
   "source": [
    "def_yield()"
   ]
  },
  {
   "cell_type": "code",
   "execution_count": null,
   "metadata": {},
   "outputs": [],
   "source": [
    "def_yield().__next__"
   ]
  },
  {
   "cell_type": "code",
   "execution_count": null,
   "metadata": {},
   "outputs": [],
   "source": [
    "def_yield().__next__()"
   ]
  },
  {
   "cell_type": "markdown",
   "metadata": {},
   "source": [
    "## `def`-`yield` como corrutina"
   ]
  },
  {
   "cell_type": "code",
   "execution_count": null,
   "metadata": {},
   "outputs": [],
   "source": [
    "def EjemploCorrutina(n=1):\n",
    "    for i in range(n): \n",
    "        nombre = yield 'Cuál es su nombre '\n",
    "        print('Su nombre es:',nombre)\n",
    "        codigo = yield 'Cuál es su código '\n",
    "        print('Su código es:',codigo)\n",
    "\n",
    "una_corrutina = EjemploCorrutina(3)\n",
    "pregunta = next(una_corrutina)\n",
    "while True:\n",
    "    respuesta = input(pregunta)\n",
    "    pregunta = una_corrutina.send(respuesta)\n",
    "    "
   ]
  },
  {
   "cell_type": "markdown",
   "metadata": {},
   "source": [
    "# `async def`-`await`\n",
    "* https://docs.python.org/es/3/library/asyncio-task.html\n",
    "* https://docs.python.org/3/library/asyncio-task.html"
   ]
  },
  {
   "cell_type": "code",
   "execution_count": 1,
   "metadata": {},
   "outputs": [
    {
     "name": "stdout",
     "output_type": "stream",
     "text": [
      "hello\n",
      "world\n"
     ]
    }
   ],
   "source": [
    "import asyncio\n",
    "\n",
    "async def principal():\n",
    "    print('hello')\n",
    "    await asyncio.sleep(1)\n",
    "    print('world')\n",
    "    \n",
    "await principal()#asyncio.run(main())"
   ]
  },
  {
   "cell_type": "code",
   "execution_count": 2,
   "metadata": {},
   "outputs": [
    {
     "data": {
      "text/plain": [
       "<function __main__.async-def-wrapper.<locals>.principal()>"
      ]
     },
     "execution_count": 2,
     "metadata": {},
     "output_type": "execute_result"
    }
   ],
   "source": [
    "principal"
   ]
  },
  {
   "cell_type": "code",
   "execution_count": 3,
   "metadata": {},
   "outputs": [
    {
     "data": {
      "text/plain": [
       "<coroutine object async-def-wrapper.<locals>.principal at 0x00000235E3D18CC8>"
      ]
     },
     "execution_count": 3,
     "metadata": {},
     "output_type": "execute_result"
    }
   ],
   "source": [
    "principal()"
   ]
  },
  {
   "cell_type": "code",
   "execution_count": 5,
   "metadata": {},
   "outputs": [
    {
     "name": "stdout",
     "output_type": "stream",
     "text": [
      "started at 21:50:27\n",
      "hello\n",
      "world\n",
      "finished at 21:50:32\n"
     ]
    }
   ],
   "source": [
    "import asyncio\n",
    "import time\n",
    "\n",
    "async def say_after(delay, what):\n",
    "    await asyncio.sleep(delay)\n",
    "    print(what)\n",
    "\n",
    "async def principal():\n",
    "    print(f\"started at {time.strftime('%X')}\")\n",
    "\n",
    "    await say_after(3, 'hello')\n",
    "    await say_after(2, 'world')\n",
    "\n",
    "    print(f\"finished at {time.strftime('%X')}\")\n",
    "\n",
    "await principal()#asyncio.run(principal())"
   ]
  },
  {
   "cell_type": "code",
   "execution_count": 7,
   "metadata": {},
   "outputs": [
    {
     "name": "stdout",
     "output_type": "stream",
     "text": [
      "started at 21:51:32\n",
      "world\n",
      "hello\n",
      "finished at 21:51:35\n"
     ]
    }
   ],
   "source": [
    "async def principal():\n",
    "    task1 = asyncio.create_task(\n",
    "        say_after(3, 'hello'))\n",
    "\n",
    "    task2 = asyncio.create_task(\n",
    "        say_after(2, 'world'))\n",
    "\n",
    "    print(f\"started at {time.strftime('%X')}\")\n",
    "\n",
    "    # Wait until both tasks are completed (should take\n",
    "    # around 2 seconds.)\n",
    "    \n",
    "    await task1\n",
    "    await task2\n",
    "\n",
    "    print(f\"finished at {time.strftime('%X')}\")\n",
    "\n",
    "await principal()#asyncio.run(main())"
   ]
  },
  {
   "cell_type": "code",
   "execution_count": 9,
   "metadata": {},
   "outputs": [
    {
     "name": "stdout",
     "output_type": "stream",
     "text": [
      "world\n",
      "hello\n"
     ]
    }
   ],
   "source": [
    "import asyncio\n",
    "import time\n",
    "\n",
    "async def principal():\n",
    "    # Schedule three calls *concurrently*:\n",
    "    await asyncio.gather(\n",
    "        say_after(3, 'hello'),\n",
    "        say_after(2, 'world'),\n",
    "    )\n",
    "\n",
    "await principal()#asyncio.run(main())\n"
   ]
  },
  {
   "cell_type": "code",
   "execution_count": null,
   "metadata": {},
   "outputs": [],
   "source": []
  },
  {
   "cell_type": "code",
   "execution_count": null,
   "metadata": {},
   "outputs": [],
   "source": []
  },
  {
   "cell_type": "code",
   "execution_count": null,
   "metadata": {},
   "outputs": [],
   "source": []
  },
  {
   "cell_type": "code",
   "execution_count": null,
   "metadata": {},
   "outputs": [],
   "source": []
  },
  {
   "cell_type": "code",
   "execution_count": null,
   "metadata": {},
   "outputs": [],
   "source": []
  }
 ],
 "metadata": {
  "kernelspec": {
   "display_name": "Python 3",
   "language": "python",
   "name": "python3"
  },
  "language_info": {
   "codemirror_mode": {
    "name": "ipython",
    "version": 3
   },
   "file_extension": ".py",
   "mimetype": "text/x-python",
   "name": "python",
   "nbconvert_exporter": "python",
   "pygments_lexer": "ipython3",
   "version": "3.7.4"
  }
 },
 "nbformat": 4,
 "nbformat_minor": 4
}
