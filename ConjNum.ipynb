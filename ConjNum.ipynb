{
  "nbformat": 4,
  "nbformat_minor": 0,
  "metadata": {
    "colab": {
      "name": "ConjNum.ipynb",
      "provenance": [],
      "collapsed_sections": [],
      "include_colab_link": true
    },
    "interpreter": {
      "hash": "92d6b3a05e9e8c68507114c49cf9da635036ff8ac36025d12f74e72be0cae55d"
    },
    "kernelspec": {
      "display_name": "Python 3.9.5 64-bit",
      "name": "python3"
    },
    "language_info": {
      "codemirror_mode": {
        "name": "ipython",
        "version": 3
      },
      "file_extension": ".py",
      "mimetype": "text/x-python",
      "name": "python",
      "nbconvert_exporter": "python",
      "pygments_lexer": "ipython3",
      "version": "3.9.5"
    },
    "orig_nbformat": 4
  },
  "cells": [
    {
      "cell_type": "markdown",
      "metadata": {
        "id": "view-in-github",
        "colab_type": "text"
      },
      "source": [
        "<a href=\"https://colab.research.google.com/github/GerardoMunoz/Curso_Python/blob/main/ConjNum.ipynb\" target=\"_parent\"><img src=\"https://colab.research.google.com/assets/colab-badge.svg\" alt=\"Open In Colab\"/></a>"
      ]
    },
    {
      "cell_type": "markdown",
      "metadata": {
        "id": "mCNmh2V1wbC8"
      },
      "source": [
        "# Conjuntos"
      ]
    },
    {
      "cell_type": "markdown",
      "metadata": {
        "id": "tXHhi5ItwbC-"
      },
      "source": [
        "Los conjuntos se denotan con corchetes, { }. incluso en Python."
      ]
    },
    {
      "cell_type": "markdown",
      "metadata": {
        "id": "jHtTCLEcwbC_"
      },
      "source": [
        "## Conjuntos finitos por extensión"
      ]
    },
    {
      "cell_type": "markdown",
      "metadata": {
        "id": "LpOxB2yOwbC_"
      },
      "source": [
        "En un conjunto por **extensión** todos los elementos se explicitan y se separan con coma, incluso en Python. Algunos ejemplos son:\n",
        "\n",
        "$B = \\{0,1\\}$\n",
        "\n",
        "$D = \\{0,1,2,3,4,5,6,7,8,9\\}$"
      ]
    },
    {
      "cell_type": "code",
      "metadata": {
        "id": "ZOqrm5UqwbC_",
        "colab": {
          "base_uri": "https://localhost:8080/"
        },
        "outputId": "a3f23ef0-53c1-443c-ca87-74c11d903021"
      },
      "source": [
        "B={0,1}\n",
        "B"
      ],
      "execution_count": 1,
      "outputs": [
        {
          "output_type": "execute_result",
          "data": {
            "text/plain": [
              "{0, 1}"
            ]
          },
          "metadata": {},
          "execution_count": 1
        }
      ]
    },
    {
      "cell_type": "code",
      "metadata": {
        "id": "4QoM7X5XwbDB",
        "colab": {
          "base_uri": "https://localhost:8080/"
        },
        "outputId": "37552337-71c3-4f10-ee86-0d00dfb9d9fb"
      },
      "source": [
        "D={0,1,2,3,4,5,6,7,8,9}\n",
        "D"
      ],
      "execution_count": 2,
      "outputs": [
        {
          "output_type": "execute_result",
          "data": {
            "text/plain": [
              "{0, 1, 2, 3, 4, 5, 6, 7, 8, 9}"
            ]
          },
          "metadata": {},
          "execution_count": 2
        }
      ]
    },
    {
      "cell_type": "markdown",
      "metadata": {
        "id": "s6tN5mX0wbDB"
      },
      "source": [
        "En los conjuntos no se pueden repetir elementos y el orden no se tiene en cuanta. "
      ]
    },
    {
      "cell_type": "code",
      "metadata": {
        "id": "QDZ_L7wGwbDB",
        "colab": {
          "base_uri": "https://localhost:8080/"
        },
        "outputId": "d738bbba-d50a-4ede-c44c-758125b4cdee"
      },
      "source": [
        "A={3,1,2,1,3,2,1}\n",
        "A"
      ],
      "execution_count": 3,
      "outputs": [
        {
          "output_type": "execute_result",
          "data": {
            "text/plain": [
              "{1, 2, 3}"
            ]
          },
          "metadata": {},
          "execution_count": 3
        }
      ]
    },
    {
      "cell_type": "code",
      "metadata": {
        "id": "1iOtoT9vwbDC",
        "colab": {
          "base_uri": "https://localhost:8080/"
        },
        "outputId": "7b430112-bb3d-42fc-f94d-d53875c2c8d8"
      },
      "source": [
        "{3,2,1}"
      ],
      "execution_count": 4,
      "outputs": [
        {
          "output_type": "execute_result",
          "data": {
            "text/plain": [
              "{1, 2, 3}"
            ]
          },
          "metadata": {},
          "execution_count": 4
        }
      ]
    },
    {
      "cell_type": "markdown",
      "metadata": {
        "id": "aSkzGPMqwbDC"
      },
      "source": [
        "La **cardinalidad** de los conjuntos finitos corresponde al número de elementos del conjunto. Se denota con dos líneas verticales \n",
        "\n",
        "$|B|=2$\n",
        "\n",
        "$|D|=10$\n",
        "\n",
        "En Python se usa la función `len`."
      ]
    },
    {
      "cell_type": "code",
      "metadata": {
        "id": "E9-EOiFAwbDD",
        "colab": {
          "base_uri": "https://localhost:8080/"
        },
        "outputId": "8e86dd17-24d3-499a-d341-b053118b69b2"
      },
      "source": [
        "len(B)"
      ],
      "execution_count": 5,
      "outputs": [
        {
          "output_type": "execute_result",
          "data": {
            "text/plain": [
              "2"
            ]
          },
          "metadata": {},
          "execution_count": 5
        }
      ]
    },
    {
      "cell_type": "code",
      "metadata": {
        "id": "tYvonoShwbDD",
        "colab": {
          "base_uri": "https://localhost:8080/"
        },
        "outputId": "2bddd59b-59a6-405d-de94-8fc1090f93d0"
      },
      "source": [
        "len(D)"
      ],
      "execution_count": 6,
      "outputs": [
        {
          "output_type": "execute_result",
          "data": {
            "text/plain": [
              "10"
            ]
          },
          "metadata": {},
          "execution_count": 6
        }
      ]
    },
    {
      "cell_type": "markdown",
      "metadata": {
        "id": "q92bqoXswbDD"
      },
      "source": [
        "Los símbolos $\\in$ y $\\notin$ se utilizan para saber si un elemento **pertenece** o **no pertenece** a un conjunto.\n",
        "\n",
        "$2 \\notin B$\n",
        "\n",
        "$2 \\in D $\n",
        "\n",
        "En Python se usa `in` y `not in`"
      ]
    },
    {
      "cell_type": "code",
      "metadata": {
        "id": "jBX61_86wbDE",
        "colab": {
          "base_uri": "https://localhost:8080/"
        },
        "outputId": "d063a9b7-4807-41ec-d568-9d7ddf1cd616"
      },
      "source": [
        "2 in B"
      ],
      "execution_count": 7,
      "outputs": [
        {
          "output_type": "execute_result",
          "data": {
            "text/plain": [
              "False"
            ]
          },
          "metadata": {},
          "execution_count": 7
        }
      ]
    },
    {
      "cell_type": "code",
      "metadata": {
        "id": "70KztX9awbDE",
        "colab": {
          "base_uri": "https://localhost:8080/"
        },
        "outputId": "defa7403-4f1b-4eed-f9b0-f885cbdb3ec7"
      },
      "source": [
        "2 not in B"
      ],
      "execution_count": 8,
      "outputs": [
        {
          "output_type": "execute_result",
          "data": {
            "text/plain": [
              "True"
            ]
          },
          "metadata": {},
          "execution_count": 8
        }
      ]
    },
    {
      "cell_type": "code",
      "metadata": {
        "id": "3qZz3YKUwbDE",
        "colab": {
          "base_uri": "https://localhost:8080/"
        },
        "outputId": "46d93b21-140e-42b0-e588-14c1ca740a44"
      },
      "source": [
        "2 in D"
      ],
      "execution_count": 9,
      "outputs": [
        {
          "output_type": "execute_result",
          "data": {
            "text/plain": [
              "True"
            ]
          },
          "metadata": {},
          "execution_count": 9
        }
      ]
    },
    {
      "cell_type": "code",
      "metadata": {
        "id": "Kifnj861wbDF",
        "colab": {
          "base_uri": "https://localhost:8080/"
        },
        "outputId": "5ff0fa96-b40e-4df6-b907-ea62ae964890"
      },
      "source": [
        "2 not in D"
      ],
      "execution_count": 10,
      "outputs": [
        {
          "output_type": "execute_result",
          "data": {
            "text/plain": [
              "False"
            ]
          },
          "metadata": {},
          "execution_count": 10
        }
      ]
    },
    {
      "cell_type": "markdown",
      "metadata": {
        "id": "feWLWI-WwbDF"
      },
      "source": [
        "## Conjuntos por comprensión"
      ]
    },
    {
      "cell_type": "markdown",
      "metadata": {
        "id": "zjIpvTpMwbDG"
      },
      "source": [
        "Los elementos en un conjunto por **comprensión**  están dados por expresiones cuyas variables pertenecen a otros conjuntos. Por ejemplo,\n",
        "\n",
        "$A=\\{3x \\mid x \\in D \\text{ además } x \\notin B\\}$\n",
        "\n",
        "En este caso la variable $x$ es un elemento del conjunto $D$.\n",
        "\n",
        "En Python se pueden crear conjuntos por comprensión utilizando las palabras `for` y `if`."
      ]
    },
    {
      "cell_type": "code",
      "metadata": {
        "id": "KztUK2lDwbDG",
        "colab": {
          "base_uri": "https://localhost:8080/"
        },
        "outputId": "0a4107ad-a0a2-43ca-d856-5b11bcdcdc40"
      },
      "source": [
        "A={ 3*x for x in D if x not in B }\n",
        "A"
      ],
      "execution_count": 11,
      "outputs": [
        {
          "output_type": "execute_result",
          "data": {
            "text/plain": [
              "{6, 9, 12, 15, 18, 21, 24, 27}"
            ]
          },
          "metadata": {},
          "execution_count": 11
        }
      ]
    },
    {
      "cell_type": "markdown",
      "metadata": {
        "id": "1-CuJsg_wbDG"
      },
      "source": [
        "## Algunos conjuntos de números\n",
        "Las definiciones formales de los siguientes conjuntos quedan fuera del alcance de este curso.  Sin embargo, se describen algunos conjuntos y se comenta sus representaciones en Python. Sabemos que los conjuntos de números son infinitos, pero debido a las limitaciones de los computadores reales, usualmente sólo es posible representar un subconjunto finito de números. Esto genera problemas de **desbordamiento** o de **aproximaciones**.  \n",
        "\n",
        "Es de resaltar que, si bien Python tiene implementaciones para algunos de estos conjuntos, hay librerías de Python (como `numpy` o `sympy`) que realiza otras implementaciones para los mismos conjuntos, pero con algunas propiedades diferentes. Es muy importante que esté consiente de la representación usada para conocer las aproximaciones usadas y los límites de desbordamiento. Las implementaciones de los números hechas con `sympy`, en principio, sólo están limitadas por los recursos del computador, pero tienen problemas al tratar de implementar arreglos grandes. Mientras que las implementaciones de los números hachas con `numpy` son más eficientes, pero tienen problemas con las aproximaciones y los desbordamientos, a continuación se describen algunas de sus limitaciones."
      ]
    },
    {
      "cell_type": "markdown",
      "metadata": {
        "id": "Naoc_u1R0-IH"
      },
      "source": [
        "### Conjunto de los números naturales ($\\mathbb{N}$)\n",
        "\n",
        "$\\mathbb{N}=\\{ 0, 1, 2, 3, \\ldots\\}$\n",
        "\n",
        "En los lenguajes de programación, los números naturales usualmente son llamados como enteros sin signo (*unsigned integer* `uint`). \n",
        "\n",
        "En Python no hay una representación explícita para los números naturales o enteros sin signo, ya que estos son cubiertos por los números enteros. \n",
        "\n",
        "Sin embargo, en `numpy` hay varias representaciones para este conjunto:\n",
        "* `numpy.uint16`: desde 0 hasta 65_535.\n",
        "* `numpy.uint32`: desde 0 hasta  4_294_967_295.\n",
        "* `numpy.uint64`: desde 0 hasta  18_446_744_073_709_551_615.   \n",
        "\n",
        "Observe que, en estos tres casos, sólo se representa un conjunto finito de números. Sin embargo, `numpy.uint64` es prácticamente suficiente para todas las aplicaciones. Sin embargo, algunos algoritmos (como algunas implementaciones de la eliminación de Gauss) pueden requerir números muy grandes en los pasos intermedios "
      ]
    },
    {
      "cell_type": "code",
      "metadata": {
        "colab": {
          "base_uri": "https://localhost:8080/",
          "height": 78
        },
        "id": "EvZKZUTN_cqd",
        "outputId": "3777e543-5dd9-42a5-853a-7a3c24e61a12"
      },
      "source": [
        "import sympy as sp\n",
        "A=sp.Matrix([[9,12,14,15],[11,1,18,19],[13,1,1,1]])\n",
        "M=A[:,:]\n",
        "M"
      ],
      "execution_count": 12,
      "outputs": [
        {
          "output_type": "execute_result",
          "data": {
            "text/latex": "$\\displaystyle \\left[\\begin{matrix}9 & 12 & 14 & 15\\\\11 & 1 & 18 & 19\\\\13 & 1 & 1 & 1\\end{matrix}\\right]$",
            "text/plain": [
              "Matrix([\n",
              "[ 9, 12, 14, 15],\n",
              "[11,  1, 18, 19],\n",
              "[13,  1,  1,  1]])"
            ]
          },
          "metadata": {},
          "execution_count": 12
        }
      ]
    },
    {
      "cell_type": "code",
      "metadata": {
        "colab": {
          "base_uri": "https://localhost:8080/",
          "height": 78
        },
        "id": "h36wW-NN_cqe",
        "outputId": "03a271a6-cac6-4aed-a5b3-a88cdb21ac30"
      },
      "source": [
        "M[1,:] = 11*M[0,:] - 9*M[1,:]\n",
        "M[2,:] = 13*M[0,:] - 9*M[2,:]\n",
        "M"
      ],
      "execution_count": 13,
      "outputs": [
        {
          "output_type": "execute_result",
          "data": {
            "text/latex": "$\\displaystyle \\left[\\begin{matrix}9 & 12 & 14 & 15\\\\0 & 123 & -8 & -6\\\\0 & 147 & 173 & 186\\end{matrix}\\right]$",
            "text/plain": [
              "Matrix([\n",
              "[9,  12,  14,  15],\n",
              "[0, 123,  -8,  -6],\n",
              "[0, 147, 173, 186]])"
            ]
          },
          "metadata": {},
          "execution_count": 13
        }
      ]
    },
    {
      "cell_type": "code",
      "metadata": {
        "colab": {
          "base_uri": "https://localhost:8080/",
          "height": 78
        },
        "id": "l8rRQ6p0_cqf",
        "outputId": "1f887c53-432e-468a-b466-89766b887d58"
      },
      "source": [
        "M[2,:] = 147*M[1,:] - 123*M[2,:]\n",
        "M"
      ],
      "execution_count": 14,
      "outputs": [
        {
          "output_type": "execute_result",
          "data": {
            "text/latex": "$\\displaystyle \\left[\\begin{matrix}9 & 12 & 14 & 15\\\\0 & 123 & -8 & -6\\\\0 & 0 & -22455 & -23760\\end{matrix}\\right]$",
            "text/plain": [
              "Matrix([\n",
              "[9,  12,     14,     15],\n",
              "[0, 123,     -8,     -6],\n",
              "[0,   0, -22455, -23760]])"
            ]
          },
          "metadata": {},
          "execution_count": 14
        }
      ]
    },
    {
      "cell_type": "markdown",
      "metadata": {
        "id": "lxDwqsHB_cqf"
      },
      "source": [
        "Por ejemplo, al encontrar la forma escalón de una matriz de 3 renglones (con ese algoritmo y esos valores iniciales), los números pasaron de 2 dígitos a 5 dígitos. \n",
        "\n",
        "En el `chat-de-la-clase` discutir la siguiente pregunta.\n",
        "\n",
        "¿Cuántos dígitos se necesitarán máximo, para encontrar la forma escalón de una matriz de 20 renglones, con ese algoritmo para valores iniciales de 6 dígitos?     "
      ]
    },
    {
      "cell_type": "markdown",
      "metadata": {
        "id": "5DwTDKa7wbDH"
      },
      "source": [
        "\n",
        "### Conjunto de los números enteros ($\\mathbb{Z}$)\n",
        "\n",
        "$\\mathbb{Z}=\\{\\ldots , -3,-2, -1, 0, 1, 2, 3, \\ldots\\}$\n",
        "\n",
        "En Python los **números enteros**  corresponden al tipo de dato `int` algunas veces los llaman enteros signados (*signed integer*) en contraste de los naturales que son los enteros no signados (*unsigned integer*). En principio, no hay límite para los números enteros. \n",
        "\n",
        "Sin embargo, en la librería `numpy` los enteros sí tienen un límite.\n",
        "\n",
        "* numpy.int8:  desde -128 hasta  127.\n",
        "* numpy.int16: desde -32_768 hasta 32_767.\n",
        "* numpy.int32: desde -2_147_483_648 hasta 2_147_483_647.\n",
        "* numpy.int64: desde -9_223_372_036_854_775_808 hasta 9_223_372_036_854_775_807.\n",
        "\n",
        "\n",
        "### Conjunto de los números racionales ($\\mathbb{Q}$)\n",
        "\n",
        "$\\mathbb{Q}$ es el conjunto \n",
        "$\\{a/b \\mid  a,b \\in \\mathbb{Z}, \\\\ b\\neq 0 \\}$ \n",
        "pero teniendo en cuenta que los números $a/b$ y $c/d$ son iguales si cumplen que $ad=cb$.\n",
        "\n",
        "Python no permite representar números racionales directamente al igual que en `numpy`.\n",
        "\n",
        "Para usar un número racional hay que usar `fractions.Fraction` o con `sympy` usar `Rational`. "
      ]
    },
    {
      "cell_type": "code",
      "metadata": {
        "id": "MaH2VrKewbDH",
        "colab": {
          "base_uri": "https://localhost:8080/"
        },
        "outputId": "bef4b1d8-8272-4b5e-abb0-3be613b9171a"
      },
      "source": [
        "import fractions\n",
        "fractions.Fraction(8,6)"
      ],
      "execution_count": 15,
      "outputs": [
        {
          "output_type": "execute_result",
          "data": {
            "text/plain": [
              "Fraction(4, 3)"
            ]
          },
          "metadata": {},
          "execution_count": 15
        }
      ]
    },
    {
      "cell_type": "code",
      "metadata": {
        "id": "Xz2GWl4UwbDI",
        "colab": {
          "base_uri": "https://localhost:8080/",
          "height": 51
        },
        "outputId": "37306111-f76f-4fe4-e170-38fd9d8a5d34"
      },
      "source": [
        "import sympy as sp\n",
        "sp.Rational(8,6) # Racional simplificado"
      ],
      "execution_count": 16,
      "outputs": [
        {
          "output_type": "execute_result",
          "data": {
            "text/latex": "$\\displaystyle \\frac{4}{3}$",
            "text/plain": [
              "4/3"
            ]
          },
          "metadata": {},
          "execution_count": 16
        }
      ]
    },
    {
      "cell_type": "code",
      "metadata": {
        "colab": {
          "base_uri": "https://localhost:8080/",
          "height": 51
        },
        "id": "xGdvuaaC_cqh",
        "outputId": "404401cf-9736-46b0-af51-d69f6220de2f"
      },
      "source": [
        "sp.Rational(8/6) # La división da un número aproximado "
      ],
      "execution_count": 17,
      "outputs": [
        {
          "output_type": "execute_result",
          "data": {
            "text/latex": "$\\displaystyle \\frac{6004799503160661}{4503599627370496}$",
            "text/plain": [
              "6004799503160661/4503599627370496"
            ]
          },
          "metadata": {},
          "execution_count": 17
        }
      ]
    },
    {
      "cell_type": "code",
      "metadata": {
        "colab": {
          "base_uri": "https://localhost:8080/",
          "height": 51
        },
        "id": "cX5rI9Ss_cqh",
        "outputId": "2c416ac8-acca-48c1-facc-d0f5d603c871"
      },
      "source": [
        "sp.S(8)/6 # Esto permite convertir el 8 a sympy y lo de la derecha"
      ],
      "execution_count": 18,
      "outputs": [
        {
          "output_type": "execute_result",
          "data": {
            "text/latex": "$\\displaystyle \\frac{4}{3}$",
            "text/plain": [
              "4/3"
            ]
          },
          "metadata": {},
          "execution_count": 18
        }
      ]
    },
    {
      "cell_type": "code",
      "metadata": {
        "colab": {
          "base_uri": "https://localhost:8080/",
          "height": 37
        },
        "id": "0pulRyv9_cqi",
        "outputId": "e2f40864-e020-445d-fef8-def951cd23df"
      },
      "source": [
        "sp.S(8/6) # Convierte a sympy el valor de la división"
      ],
      "execution_count": 19,
      "outputs": [
        {
          "output_type": "execute_result",
          "data": {
            "text/latex": "$\\displaystyle 1.33333333333333$",
            "text/plain": [
              "1.33333333333333"
            ]
          },
          "metadata": {},
          "execution_count": 19
        }
      ]
    },
    {
      "cell_type": "markdown",
      "metadata": {
        "id": "nwJGQgxbwbDI"
      },
      "source": [
        "### Conjunto de los números reales ($\\mathbb{R}$)\n",
        "\n",
        "Cada número real se puede representar como una secuencia de dígitos ($d_i$) de la siguiente forma\n",
        "$d_n d_{n-1} \\ldots d_2 d_1 d_0 . d_{-1} d_{-2} \\ldots$\n",
        "\n",
        "#### `float`\n",
        "\n",
        "En Python se acostumbra a aproximar un número real a un número de tipo `float` que tiene aproximadamente 15 cifras significativas, de los cuales se hablará con más detalle en el curso. En Python un número de tipo flotante se indica con el punto decimal."
      ]
    },
    {
      "cell_type": "code",
      "metadata": {
        "id": "qEnvqqBUwbDI",
        "colab": {
          "base_uri": "https://localhost:8080/"
        },
        "outputId": "49aeb4d0-cfb5-48b8-d011-f5f7efb99c08"
      },
      "source": [
        "type(5.2)"
      ],
      "execution_count": 20,
      "outputs": [
        {
          "output_type": "execute_result",
          "data": {
            "text/plain": [
              "float"
            ]
          },
          "metadata": {},
          "execution_count": 20
        }
      ]
    },
    {
      "cell_type": "code",
      "metadata": {
        "id": "ldCKQE7VwbDJ",
        "colab": {
          "base_uri": "https://localhost:8080/"
        },
        "outputId": "06f99b20-a57d-41d2-c1ed-85859240d194"
      },
      "source": [
        "type(5)"
      ],
      "execution_count": 21,
      "outputs": [
        {
          "output_type": "execute_result",
          "data": {
            "text/plain": [
              "int"
            ]
          },
          "metadata": {},
          "execution_count": 21
        }
      ]
    },
    {
      "cell_type": "code",
      "metadata": {
        "id": "JRDPeFhGwbDJ",
        "colab": {
          "base_uri": "https://localhost:8080/"
        },
        "outputId": "7c3bb1a6-79d9-4be8-f496-a5c5246c249b"
      },
      "source": [
        "type(5.0)"
      ],
      "execution_count": 22,
      "outputs": [
        {
          "output_type": "execute_result",
          "data": {
            "text/plain": [
              "float"
            ]
          },
          "metadata": {},
          "execution_count": 22
        }
      ]
    },
    {
      "cell_type": "markdown",
      "metadata": {
        "id": "XQLi_mN1wbDK"
      },
      "source": [
        "Cómo los flotantes son aproximaciones, algunas veces las operaciones simples no dan resultados exactos"
      ]
    },
    {
      "cell_type": "code",
      "metadata": {
        "id": "pg9hAbtuwbDK",
        "colab": {
          "base_uri": "https://localhost:8080/"
        },
        "outputId": "ae220441-a637-4dde-f4d7-df2aee582cb7"
      },
      "source": [
        "             0.1 + 0.1 + 0.1 \n",
        "             "
      ],
      "execution_count": 23,
      "outputs": [
        {
          "output_type": "execute_result",
          "data": {
            "text/plain": [
              "0.30000000000000004"
            ]
          },
          "metadata": {},
          "execution_count": 23
        }
      ]
    },
    {
      "cell_type": "code",
      "metadata": {
        "id": "cWN-tLmywbDK",
        "colab": {
          "base_uri": "https://localhost:8080/"
        },
        "outputId": "6d09be88-3da9-4a5e-d52d-4bea0a721661"
      },
      "source": [
        "                0.1 + 0.1 + 0.1 == 0.3\n",
        "                "
      ],
      "execution_count": 24,
      "outputs": [
        {
          "output_type": "execute_result",
          "data": {
            "text/plain": [
              "False"
            ]
          },
          "metadata": {},
          "execution_count": 24
        }
      ]
    },
    {
      "cell_type": "markdown",
      "metadata": {
        "id": "N1vlytfBwbDK"
      },
      "source": [
        "Por ese motivo es preferible compara los flotantes usando la función `math.isclose` "
      ]
    },
    {
      "cell_type": "code",
      "metadata": {
        "id": "vw1EVl_fwbDL",
        "colab": {
          "base_uri": "https://localhost:8080/"
        },
        "outputId": "5b4ebebe-fc85-4954-c970-69d92c2ff867"
      },
      "source": [
        "import math\n",
        "math.isclose(0.1 + 0.1 + 0.1, 0.3) "
      ],
      "execution_count": 25,
      "outputs": [
        {
          "output_type": "execute_result",
          "data": {
            "text/plain": [
              "True"
            ]
          },
          "metadata": {},
          "execution_count": 25
        }
      ]
    },
    {
      "cell_type": "markdown",
      "metadata": {
        "id": "JQMwtz1Z_cql"
      },
      "source": [
        "#### `numpy`\n",
        "\n",
        "En `numpy` los números son representados de la forma $a*2^b$ donde $a$, $b$ dependen de la siguiente forma:\n",
        "* numpy.float16: $2^{10}< abs(a) <2^{11}, \\ \\  2^{-4}<b<2^{4}$.  Aproximadamente 3 cifras significativas menor a 65,000.\n",
        "* numpy.float32: $2^{23}< abs(a) <2^{24}, \\ \\  2^{-7}<b<2^{7}$.  Aproximadamente 7 cifras significativas menor a $10^{38}$.\n",
        "* numpy.float64: $2^{52}< abs(a) <2^{53}, \\ \\  2^{-10}<b<2^{10}$. Aproximadamente 15 cifras significativas menor a $10^{308}$.\n",
        "\n"
      ]
    },
    {
      "cell_type": "markdown",
      "metadata": {
        "id": "x5Q9wUWD_cqm"
      },
      "source": [
        "#### `decimal.Decimal`\n",
        "\n",
        "Los números `decimal.Decimal` permiten representaciones prácticamente arbitrarias de decimales (limitadas por las características del computador). Por lo tanto sus operaciones consumen más tiempo que los números tipo `float`."
      ]
    },
    {
      "cell_type": "code",
      "metadata": {
        "colab": {
          "base_uri": "https://localhost:8080/"
        },
        "id": "mrlV0WQ__cqm",
        "outputId": "b8444a56-0ad9-4e92-8d41-f46ea7869048"
      },
      "source": [
        "import decimal\n",
        "decimal.Decimal('0.1') + decimal.Decimal('0.1') + decimal.Decimal('0.1') == decimal.Decimal('0.3')"
      ],
      "execution_count": 26,
      "outputs": [
        {
          "output_type": "execute_result",
          "data": {
            "text/plain": [
              "True"
            ]
          },
          "metadata": {},
          "execution_count": 26
        }
      ]
    },
    {
      "cell_type": "code",
      "metadata": {
        "colab": {
          "base_uri": "https://localhost:8080/"
        },
        "id": "5iBE1fIh_cqn",
        "outputId": "edd39953-b385-414d-b740-e03d81badbf6"
      },
      "source": [
        "     0.1 + 0.1 + 0.1 == 0.3"
      ],
      "execution_count": 27,
      "outputs": [
        {
          "output_type": "execute_result",
          "data": {
            "text/plain": [
              "False"
            ]
          },
          "metadata": {},
          "execution_count": 27
        }
      ]
    },
    {
      "cell_type": "code",
      "metadata": {
        "colab": {
          "base_uri": "https://localhost:8080/"
        },
        "id": "KBf0HHam_cqo",
        "outputId": "19a2cb11-08c8-43a3-e8c5-39642b3831c4"
      },
      "source": [
        "sum([decimal.Decimal('0.1')]*10**8) # la suma de 100 millones de números demoró 4.1 segundos y dió exacta."
      ],
      "execution_count": 28,
      "outputs": [
        {
          "output_type": "execute_result",
          "data": {
            "text/plain": [
              "Decimal('10000000.0')"
            ]
          },
          "metadata": {},
          "execution_count": 28
        }
      ]
    },
    {
      "cell_type": "code",
      "metadata": {
        "colab": {
          "base_uri": "https://localhost:8080/"
        },
        "id": "OEs_6yqx_cqp",
        "outputId": "52ed5dec-350f-4ed0-e178-ac672d572c30"
      },
      "source": [
        "sum([0.1]*10**8) # la suma de 100 millones de números demoró 0.7 segundos y no dió exacta."
      ],
      "execution_count": 29,
      "outputs": [
        {
          "output_type": "execute_result",
          "data": {
            "text/plain": [
              "9999999.98112945"
            ]
          },
          "metadata": {},
          "execution_count": 29
        }
      ]
    }
  ]
}