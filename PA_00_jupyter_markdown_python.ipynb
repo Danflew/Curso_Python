{
  "nbformat": 4,
  "nbformat_minor": 0,
  "metadata": {
    "kernelspec": {
      "display_name": "Python 3",
      "language": "python",
      "name": "python3"
    },
    "language_info": {
      "codemirror_mode": {
        "name": "ipython",
        "version": 3
      },
      "file_extension": ".py",
      "mimetype": "text/x-python",
      "name": "python",
      "nbconvert_exporter": "python",
      "pygments_lexer": "ipython3",
      "version": "3.7.4"
    },
    "colab": {
      "name": "PA_00_jupyter_markdown_python.ipynb",
      "provenance": [],
      "include_colab_link": true
    }
  },
  "cells": [
    {
      "cell_type": "markdown",
      "metadata": {
        "id": "view-in-github",
        "colab_type": "text"
      },
      "source": [
        "<a href=\"https://colab.research.google.com/github/GerardoMunoz/Curso_Python/blob/main/PA_00_jupyter_markdown_python.ipynb\" target=\"_parent\"><img src=\"https://colab.research.google.com/assets/colab-badge.svg\" alt=\"Open In Colab\"/></a>"
      ]
    },
    {
      "cell_type": "markdown",
      "metadata": {
        "id": "0ydCmiWpRwMY"
      },
      "source": [
        "# Universidad Distrital F. J. C.\n",
        "## Facultad De Ingeniería\n",
        "### Programación Aplicada\n",
        "#### Gerardo Muñoz\n",
        "gmunoz@udistrital.edu.co"
      ]
    },
    {
      "cell_type": "markdown",
      "metadata": {
        "id": "XrcV3toiRwMe"
      },
      "source": [
        "<!-- De acuerdo con lo que veo en Condor:\n",
        "*\tEl 35% del primer corte ya está definido.\n",
        "*\tEl 30% del laboratorio lo asigna el profesor de la práctica.\n",
        "*\tEl 35% de la nota del curso se propone definir de la siguiente manera:\n",
        "  *\t20% Participación en clase en el chat de Discord.\n",
        "  *\t15% Examen.\n",
        "  \n",
        "La participación se realiza haciendo un aporte al tema expuesto en la clase. Por ejemplo:\n",
        "*\tPuede dar un ejemplo del tema visto donde se produzca un error y como se corrige. Si varios estudiantes tienen el mismo error en el mismo tema, tienen menor nota.\n",
        "*\tPueden complementar la presentación del profesor con opciones o variaciones que no fueron explicadas de alguna función explicada en clase. (En Python abundan estas opciones)\n",
        "*\tSi se indica en la clase, puede modificar la aplicación presentada.\n",
        "*\tOtra opción que sea pertinente.\n",
        "\n",
        "Se espera un mínimo de una participación pertinente por cada clase de febrero para sacar 5.0. \n",
        "\n",
        "En estos momentos estoy configurando un servidor en Discord con los chats, para realizar las participaciones en clase. \n",
        "\n",
        "A cualquier hora pueden escribirme al correo gmunoz@udistrital.edu.co. Usualmente respondo en las primeras 24 horas. -->"
      ]
    },
    {
      "cell_type": "markdown",
      "metadata": {
        "id": "uNZCopdgRwMg"
      },
      "source": [
        "# Introducción al curso de Programación Aplicada\n"
      ]
    },
    {
      "cell_type": "markdown",
      "metadata": {
        "id": "lbbqpQhmRwMh"
      },
      "source": [
        "# Jupyter\n",
        "\n",
        "Un cuaderno de Jupyter tiene celdas de **texto** y celdas de **código**. En la nube vamos a usar:\n",
        "\n",
        "http://colab.research.google.com/notebooks/intro.ipynb\n",
        "\n",
        "También es posible instalar Jupyter en su computador cuando se instala Python. \n",
        "\n",
        "Las celdas de texto usan el formato Markdown. "
      ]
    },
    {
      "cell_type": "markdown",
      "metadata": {
        "id": "MwodlJa-RwMi"
      },
      "source": [
        "### Ejercicio\n",
        "1. Abrir un cuaderno de Jupyter en Google Colab.\n",
        "2. Escribir una operación en la celda de código. `1 + 1`\n",
        "3. Ejecutar la operación con el triángulo de la izquierda.\n",
        "4. Crear una nueva celda de texto.\n",
        "5. Escribir en la nueva celda el título `# Título`.\n",
        "6. Crear otra celda, pero de código.\n",
        "7. Escribir en esta otra celda la operación `0/0`.\n",
        "8. Ejecutar esta otra celda."
      ]
    },
    {
      "cell_type": "code",
      "metadata": {
        "id": "sbdE3L3oRwMi",
        "outputId": "3c54b335-0c8f-4825-9d40-e87fdf0ec577"
      },
      "source": [
        "1+1"
      ],
      "execution_count": null,
      "outputs": [
        {
          "data": {
            "text/plain": [
              "2"
            ]
          },
          "execution_count": 1,
          "metadata": {},
          "output_type": "execute_result"
        }
      ]
    },
    {
      "cell_type": "markdown",
      "metadata": {
        "id": "JcnwdmUhRwMk"
      },
      "source": [
        "# Título"
      ]
    },
    {
      "cell_type": "code",
      "metadata": {
        "id": "PSrWB7A_RwMk",
        "outputId": "ff99f054-308f-423d-889a-917a3e093a9c"
      },
      "source": [
        "0/0"
      ],
      "execution_count": null,
      "outputs": [
        {
          "ename": "ZeroDivisionError",
          "evalue": "division by zero",
          "output_type": "error",
          "traceback": [
            "\u001b[1;31m---------------------------------------------------------------------------\u001b[0m",
            "\u001b[1;31mZeroDivisionError\u001b[0m                         Traceback (most recent call last)",
            "\u001b[1;32m<ipython-input-2-9ab73e148374>\u001b[0m in \u001b[0;36m<module>\u001b[1;34m\u001b[0m\n\u001b[1;32m----> 1\u001b[1;33m \u001b[1;36m0\u001b[0m\u001b[1;33m/\u001b[0m\u001b[1;36m0\u001b[0m\u001b[1;33m\u001b[0m\u001b[1;33m\u001b[0m\u001b[0m\n\u001b[0m",
            "\u001b[1;31mZeroDivisionError\u001b[0m: division by zero"
          ]
        }
      ]
    },
    {
      "cell_type": "code",
      "metadata": {
        "id": "C8PStNTBRwMl",
        "outputId": "25570def-ad50-4f32-abb5-8f06e2628671"
      },
      "source": [
        "0=0"
      ],
      "execution_count": null,
      "outputs": [
        {
          "ename": "SyntaxError",
          "evalue": "can't assign to literal (<ipython-input-3-6baa06a40030>, line 1)",
          "output_type": "error",
          "traceback": [
            "\u001b[1;36m  File \u001b[1;32m\"<ipython-input-3-6baa06a40030>\"\u001b[1;36m, line \u001b[1;32m1\u001b[0m\n\u001b[1;33m    0=0\u001b[0m\n\u001b[1;37m       ^\u001b[0m\n\u001b[1;31mSyntaxError\u001b[0m\u001b[1;31m:\u001b[0m can't assign to literal\n"
          ]
        }
      ]
    },
    {
      "cell_type": "code",
      "metadata": {
        "id": "EMnA__iJRwMl",
        "outputId": "0f293ab0-f134-4d76-c30a-9410a15bb042"
      },
      "source": [
        "*0"
      ],
      "execution_count": null,
      "outputs": [
        {
          "ename": "SyntaxError",
          "evalue": "can't use starred expression here (<ipython-input-4-38343ff34e44>, line 4)",
          "output_type": "error",
          "traceback": [
            "\u001b[1;36m  File \u001b[1;32m\"<ipython-input-4-38343ff34e44>\"\u001b[1;36m, line \u001b[1;32m4\u001b[0m\n\u001b[1;31mSyntaxError\u001b[0m\u001b[1;31m:\u001b[0m can't use starred expression here\n"
          ]
        }
      ]
    },
    {
      "cell_type": "markdown",
      "metadata": {
        "id": "wNrnFiUBRwMm"
      },
      "source": [
        "# Markdown\n",
        "\n",
        "\n",
        "En Markdown se pueden colocar diferentes niveles de subtítulos como los siguientes:\n",
        "\n",
        "## Título 2\n",
        "###### Título 6\n",
        "\n",
        "También se puede usar letra *itálica* y se puede escribir _también así_. De manera análoga se define la letra **negrilla** __de dos formas__\n",
        "\n",
        "\n",
        "Se pueden colocar viñetas de diferentes niveles\n",
        "* Nivel 1 ítem a\n",
        "  * Nivel 2 ítem b \n",
        "  * Nivel 2 ítem c \n",
        "* Nivel 1 ítem d\n",
        "  * Nivel 2 ítem e \n",
        "    * Nivel 3 ítem f \n",
        "\n",
        "Al igual que  listas numeradas    \n",
        "1. Nivel 1 ítem a\n",
        "  1. Nivel 2 ítem b \n",
        "  1. Nivel 2 ítem c \n",
        "1. Nivel 1 ítem d\n",
        "  1. Nivel 2 ítem e \n",
        "    1. Nivel 3 ítem f \n",
        "\n",
        "\n",
        "También es posible colocar `código`, En particular vamos a ver el código que generó esta sección.\n",
        "\n",
        "```\n",
        "En Markdown se pueden colocar diferentes niveles de subtítulos como los siguientes:\n",
        "\n",
        "## Título 2\n",
        "###### Título 6\n",
        "\n",
        "También se puede usar letra *itálica* y se puede escribir _también así_. De manera análoga se define la letra **negrilla** __de dos formas__\n",
        "\n",
        "\n",
        "Se pueden colocar viñetas de diferentes niveles\n",
        "* Nivel 1 ítem a\n",
        "  * Nivel 2 ítem b \n",
        "  * Nivel 2 ítem c \n",
        "* Nivel 1 ítem d\n",
        "  * Nivel 2 ítem e \n",
        "    * Nivel 3 ítem f \n",
        "\n",
        "Al igual que listas numeradas    \n",
        "1. Nivel 1 ítem a\n",
        "  1. Nivel 2 ítem b \n",
        "  1. Nivel 2 ítem c \n",
        "1. Nivel 1 ítem d\n",
        "  1. Nivel 2 ítem e \n",
        "    1. Nivel 3 ítem f \n",
        "```"
      ]
    },
    {
      "cell_type": "markdown",
      "metadata": {
        "id": "2aL40d4TRwMm"
      },
      "source": [
        "# Introducción\n",
        "\n",
        "## ¿Por qué usar Python?\n",
        "\n",
        "* Lenguaje sencillo y fácil de entender\n",
        "* Tiene librerías poderosas:\n",
        "  *  `numpy` para procesamiento de arreglos \n",
        "  *  `matplotlib` para graficar\n",
        "  *  `scikit-learn` para aprendizaje por máquinas\n",
        "  *  `keras` para aprendizaje profundo\n",
        "  *  `opencv` para procesamiento de imágenes\n",
        "  *  `sympy` para procesamiento simbólico\n",
        "  *  `flask` y `django` para desarrollo Web.\n",
        "  *  entre muchas otras.\n",
        "* Usado en tarjetas para IoT\n",
        "\n",
        "## ¿Cuáles características tiene Python?\n",
        "* Interpretado, no compilado \n",
        "* Abundancia de documentación y tutoriales. Además, cuenta con la función `help(...)`.     \n",
        "* Muy eficiente en el desarrollo de prototipos. \n",
        "* Programas extensos requieren herramientas adicionales para depurar.\n"
      ]
    },
    {
      "cell_type": "markdown",
      "metadata": {
        "id": "yYsD_FoPRwMn"
      },
      "source": [
        "# Python\n",
        "\n",
        "\n",
        "## Tipos numéricos\n",
        "### `int`. Ejemplos: `0`, `1`, `-2`.\n",
        "### `float`. Ejemplos: `0.0`, `1.0`, `-2.0`, `3.14`, `0.05`, `3.08e-5`,`-5e4`.\n",
        "### Operaciones: `+`, `-`, `*`,`**` , `/`, `//`, `%` "
      ]
    },
    {
      "cell_type": "code",
      "metadata": {
        "id": "hgu9OJvMRwMo",
        "outputId": "4204f6cb-2192-45b6-d502-7f292caa0911"
      },
      "source": [
        "2**3"
      ],
      "execution_count": null,
      "outputs": [
        {
          "data": {
            "text/plain": [
              "8"
            ]
          },
          "execution_count": 5,
          "metadata": {},
          "output_type": "execute_result"
        }
      ]
    },
    {
      "cell_type": "code",
      "metadata": {
        "id": "UocRnW_TRwMo",
        "outputId": "14472407-744a-4ce7-d726-cd763c0daa2c"
      },
      "source": [
        "13//4"
      ],
      "execution_count": null,
      "outputs": [
        {
          "data": {
            "text/plain": [
              "3"
            ]
          },
          "execution_count": 6,
          "metadata": {},
          "output_type": "execute_result"
        }
      ]
    },
    {
      "cell_type": "code",
      "metadata": {
        "id": "TreQITihRwMp",
        "outputId": "ca2bd058-739e-4596-b29a-5a4590818c48"
      },
      "source": [
        "13%4"
      ],
      "execution_count": null,
      "outputs": [
        {
          "data": {
            "text/plain": [
              "1"
            ]
          },
          "execution_count": 7,
          "metadata": {},
          "output_type": "execute_result"
        }
      ]
    },
    {
      "cell_type": "markdown",
      "metadata": {
        "id": "8CXzoaPGRwMq"
      },
      "source": [
        "### `bool`: `True`, `False`.\n",
        "### Comparadores: `<`,`>`,`<=`,`>=`,`==`,`!=`"
      ]
    },
    {
      "cell_type": "code",
      "metadata": {
        "id": "5uQgw4HgRwMr",
        "outputId": "61f08734-9e1b-47b3-82fe-e12304a35f6f"
      },
      "source": [
        "1<1"
      ],
      "execution_count": null,
      "outputs": [
        {
          "data": {
            "text/plain": [
              "False"
            ]
          },
          "execution_count": 8,
          "metadata": {},
          "output_type": "execute_result"
        }
      ]
    },
    {
      "cell_type": "code",
      "metadata": {
        "id": "cnONkemnRwMr",
        "outputId": "d41a40de-9207-4f30-f560-b3fb9aef3bcd"
      },
      "source": [
        "1<=1"
      ],
      "execution_count": null,
      "outputs": [
        {
          "data": {
            "text/plain": [
              "True"
            ]
          },
          "execution_count": 9,
          "metadata": {},
          "output_type": "execute_result"
        }
      ]
    },
    {
      "cell_type": "code",
      "metadata": {
        "id": "2HKFFAh5RwMs",
        "outputId": "c4850efc-e8a1-4800-d01a-4cbda9dadb2a"
      },
      "source": [
        "1==1"
      ],
      "execution_count": null,
      "outputs": [
        {
          "data": {
            "text/plain": [
              "True"
            ]
          },
          "execution_count": 10,
          "metadata": {},
          "output_type": "execute_result"
        }
      ]
    },
    {
      "cell_type": "code",
      "metadata": {
        "id": "vRMoegRmRwMs",
        "outputId": "744b426c-d4c4-4a3a-f879-809b7d30910a"
      },
      "source": [
        "1!=1"
      ],
      "execution_count": null,
      "outputs": [
        {
          "data": {
            "text/plain": [
              "False"
            ]
          },
          "execution_count": 11,
          "metadata": {},
          "output_type": "execute_result"
        }
      ]
    },
    {
      "cell_type": "markdown",
      "metadata": {
        "id": "W6RXep2RRwMs"
      },
      "source": [
        "### Operaciones: `and`,`or`,`not`"
      ]
    },
    {
      "cell_type": "code",
      "metadata": {
        "id": "nfMGC7BcRwMt",
        "outputId": "3c6686e2-7569-4f1f-8c1a-0703418ea62b"
      },
      "source": [
        "1<2 and 2<1"
      ],
      "execution_count": null,
      "outputs": [
        {
          "data": {
            "text/plain": [
              "False"
            ]
          },
          "execution_count": 12,
          "metadata": {},
          "output_type": "execute_result"
        }
      ]
    },
    {
      "cell_type": "code",
      "metadata": {
        "id": "r5LUB_plRwMt",
        "outputId": "dda1b49b-f09e-40a9-e236-f427733f64e5"
      },
      "source": [
        "1<2 or 2<1"
      ],
      "execution_count": null,
      "outputs": [
        {
          "data": {
            "text/plain": [
              "True"
            ]
          },
          "execution_count": 13,
          "metadata": {},
          "output_type": "execute_result"
        }
      ]
    },
    {
      "cell_type": "code",
      "metadata": {
        "id": "EXKJf19nRwMt",
        "outputId": "2d282522-6ad0-4462-c58f-6edbbe01ed3a"
      },
      "source": [
        "1<2 and not(2<1)"
      ],
      "execution_count": null,
      "outputs": [
        {
          "data": {
            "text/plain": [
              "True"
            ]
          },
          "execution_count": 14,
          "metadata": {},
          "output_type": "execute_result"
        }
      ]
    },
    {
      "cell_type": "markdown",
      "metadata": {
        "id": "eWGmX-ebRwMt"
      },
      "source": [
        "### Algunas funciones incorporadas de Python: `abs(x)`, `max(x,y)`, `min(x,y)`, `pow(x,y)`, `round(x,n)`"
      ]
    },
    {
      "cell_type": "code",
      "metadata": {
        "id": "toZVWlu7RwMu",
        "outputId": "deb49f34-ad0b-41e2-ef6d-a291b19a4687"
      },
      "source": [
        "max(3,6,2)"
      ],
      "execution_count": null,
      "outputs": [
        {
          "data": {
            "text/plain": [
              "6"
            ]
          },
          "execution_count": 15,
          "metadata": {},
          "output_type": "execute_result"
        }
      ]
    },
    {
      "cell_type": "markdown",
      "metadata": {
        "id": "6cp6NJf-RwMu"
      },
      "source": [
        "## Variables"
      ]
    },
    {
      "cell_type": "code",
      "metadata": {
        "id": "JPrVmTjuRwMu",
        "outputId": "c96af3b0-2491-4de0-df10-25b6c36f7c34"
      },
      "source": [
        "a=5\n",
        "a"
      ],
      "execution_count": null,
      "outputs": [
        {
          "data": {
            "text/plain": [
              "5"
            ]
          },
          "execution_count": 16,
          "metadata": {},
          "output_type": "execute_result"
        }
      ]
    },
    {
      "cell_type": "code",
      "metadata": {
        "id": "nxHNDIS3RwMu",
        "outputId": "aba40b1b-6e9e-4dfc-d433-fab27c4a389b"
      },
      "source": [
        "b=6\n",
        "b"
      ],
      "execution_count": null,
      "outputs": [
        {
          "data": {
            "text/plain": [
              "6"
            ]
          },
          "execution_count": 17,
          "metadata": {},
          "output_type": "execute_result"
        }
      ]
    },
    {
      "cell_type": "code",
      "metadata": {
        "id": "1VfeK4s2RwMv",
        "outputId": "e4d313df-0dc3-4389-8d13-519c35103b91"
      },
      "source": [
        "b>a"
      ],
      "execution_count": null,
      "outputs": [
        {
          "data": {
            "text/plain": [
              "True"
            ]
          },
          "execution_count": 18,
          "metadata": {},
          "output_type": "execute_result"
        }
      ]
    },
    {
      "cell_type": "code",
      "metadata": {
        "id": "zGXBttMiRwMv",
        "outputId": "1ca3849c-39a3-46f8-8c47-765341150166"
      },
      "source": [
        "c = b>a\n",
        "c"
      ],
      "execution_count": null,
      "outputs": [
        {
          "data": {
            "text/plain": [
              "True"
            ]
          },
          "execution_count": 19,
          "metadata": {},
          "output_type": "execute_result"
        }
      ]
    },
    {
      "cell_type": "code",
      "metadata": {
        "id": "jtAXyK_yRwMv",
        "outputId": "22fe6e1d-7bd3-4f52-c23f-42ada60dfeab"
      },
      "source": [
        "numero_de_estrellas_en_el_universo = 1000000000000000000000 + 1\n",
        "numero_de_estrellas_en_el_universo"
      ],
      "execution_count": null,
      "outputs": [
        {
          "data": {
            "text/plain": [
              "1000000000000000000001"
            ]
          },
          "execution_count": 20,
          "metadata": {},
          "output_type": "execute_result"
        }
      ]
    },
    {
      "cell_type": "markdown",
      "metadata": {
        "id": "20kK1rm9RwMw"
      },
      "source": [
        "##  `def`\n",
        "Se utiliza para definir funciones"
      ]
    },
    {
      "cell_type": "code",
      "metadata": {
        "id": "bqSd2j8yRwMw",
        "outputId": "e486aee2-14c4-43cc-a80f-916a9eb347ea"
      },
      "source": [
        "def conv_automoviles_y_ciclas_en_ruedas(numero_de_automoviles,numero_de_ciclas):\n",
        "    numero_de_ruedas = numero_de_automoviles * 4 + numero_de_ciclas * 2\n",
        "    return numero_de_ruedas\n",
        "\n",
        "conv_automoviles_y_ciclas_en_ruedas(3,6)"
      ],
      "execution_count": null,
      "outputs": [
        {
          "data": {
            "text/plain": [
              "24"
            ]
          },
          "execution_count": 21,
          "metadata": {},
          "output_type": "execute_result"
        }
      ]
    },
    {
      "cell_type": "code",
      "metadata": {
        "id": "g52llZ1PRwMw",
        "outputId": "6bfc6b15-33b4-4028-8162-92793cc6b764"
      },
      "source": [
        "conv_automoviles_y_ciclas_en_ruedas(1,0)"
      ],
      "execution_count": null,
      "outputs": [
        {
          "data": {
            "text/plain": [
              "4"
            ]
          },
          "execution_count": 22,
          "metadata": {},
          "output_type": "execute_result"
        }
      ]
    },
    {
      "cell_type": "markdown",
      "metadata": {
        "id": "2kSrrcr2RwMx"
      },
      "source": [
        "## `if`, `elif`, `else`"
      ]
    },
    {
      "cell_type": "markdown",
      "metadata": {
        "id": "Q8qnyF2cRwMx"
      },
      "source": [
        "\n",
        "Aunque Python tiene definida la función de valor absoluto. Se va a definir nuevamente como un ejemplo, algo explícito, de `if`.\n",
        "\n",
        "$abs(a)=\\left\\{\\matrix{a & \\text{ si } a > 0 \\\\0 & \\text{ si } a = 0 \\\\ -a & \\text{ si } a < 0  }\\right.$"
      ]
    },
    {
      "cell_type": "code",
      "metadata": {
        "id": "1ZsoMw-gRwMx"
      },
      "source": [
        "def valor_absoluto(a):\n",
        "    if a>0:\n",
        "        return a\n",
        "    elif a == 0:\n",
        "        return 0\n",
        "    else:\n",
        "        return -a"
      ],
      "execution_count": null,
      "outputs": []
    },
    {
      "cell_type": "code",
      "metadata": {
        "id": "CXOQR_f2RwMx",
        "outputId": "8a0fb926-cd5a-43a8-b7a3-d74391358b57"
      },
      "source": [
        "valor_absoluto(5.3)"
      ],
      "execution_count": null,
      "outputs": [
        {
          "data": {
            "text/plain": [
              "5.3"
            ]
          },
          "execution_count": 24,
          "metadata": {},
          "output_type": "execute_result"
        }
      ]
    },
    {
      "cell_type": "code",
      "metadata": {
        "id": "hxiI6Hw7RwMy",
        "outputId": "7cba7e81-e416-4a57-9b6a-2fc9098d074e"
      },
      "source": [
        "valor_absoluto(-7)"
      ],
      "execution_count": null,
      "outputs": [
        {
          "data": {
            "text/plain": [
              "7"
            ]
          },
          "execution_count": 25,
          "metadata": {},
          "output_type": "execute_result"
        }
      ]
    },
    {
      "cell_type": "code",
      "metadata": {
        "id": "3Na5f44jRwMy",
        "outputId": "96abf9a4-71c0-45d4-c607-fead1687c8e9"
      },
      "source": [
        "valor_absoluto(-5.6e-8)"
      ],
      "execution_count": null,
      "outputs": [
        {
          "data": {
            "text/plain": [
              "5.6e-08"
            ]
          },
          "execution_count": 26,
          "metadata": {},
          "output_type": "execute_result"
        }
      ]
    },
    {
      "cell_type": "markdown",
      "metadata": {
        "id": "O0GgWVOLRwMy"
      },
      "source": [
        "# while"
      ]
    },
    {
      "cell_type": "code",
      "metadata": {
        "id": "-Fo4JsxPRwMy",
        "outputId": "c48f0396-1fe1-4ea5-99b3-c17c63d367c7"
      },
      "source": [
        "def busca_divisor(num):\n",
        "    if abs(num) <= 1:\n",
        "        return 1\n",
        "    \n",
        "    div = abs(num)-1\n",
        "    while  num%div != 0 :\n",
        "        div = div - 1\n",
        "    return div\n",
        "        \n",
        "busca_divisor(100)"
      ],
      "execution_count": null,
      "outputs": [
        {
          "data": {
            "text/plain": [
              "50"
            ]
          },
          "execution_count": 27,
          "metadata": {},
          "output_type": "execute_result"
        }
      ]
    },
    {
      "cell_type": "code",
      "metadata": {
        "id": "4-vboTDfRwMy",
        "outputId": "6e45f596-fcdc-4601-afd6-c79a7cfe56f1"
      },
      "source": [
        "busca_divisor(2)"
      ],
      "execution_count": null,
      "outputs": [
        {
          "data": {
            "text/plain": [
              "1"
            ]
          },
          "execution_count": 28,
          "metadata": {},
          "output_type": "execute_result"
        }
      ]
    },
    {
      "cell_type": "code",
      "metadata": {
        "id": "xqBsehKKRwMz",
        "outputId": "17bb7728-1ee3-4454-c083-14eaf0a8a5a6"
      },
      "source": [
        "busca_divisor(1)"
      ],
      "execution_count": null,
      "outputs": [
        {
          "data": {
            "text/plain": [
              "1"
            ]
          },
          "execution_count": 29,
          "metadata": {},
          "output_type": "execute_result"
        }
      ]
    },
    {
      "cell_type": "code",
      "metadata": {
        "id": "T8v5YsslRwMz",
        "outputId": "9058653c-b264-40b8-ce11-5d2d47a28951"
      },
      "source": [
        "busca_divisor(0)"
      ],
      "execution_count": null,
      "outputs": [
        {
          "data": {
            "text/plain": [
              "1"
            ]
          },
          "execution_count": 30,
          "metadata": {},
          "output_type": "execute_result"
        }
      ]
    },
    {
      "cell_type": "code",
      "metadata": {
        "id": "mJufuStARwMz",
        "outputId": "50fd5caf-9d82-4551-b09e-944a32c9d30e"
      },
      "source": [
        "busca_divisor(-1)"
      ],
      "execution_count": null,
      "outputs": [
        {
          "data": {
            "text/plain": [
              "1"
            ]
          },
          "execution_count": 31,
          "metadata": {},
          "output_type": "execute_result"
        }
      ]
    },
    {
      "cell_type": "code",
      "metadata": {
        "id": "NjOe5LLfRwMz",
        "outputId": "2eb3d2aa-a7f2-42a9-d897-27f86babae1e"
      },
      "source": [
        "busca_divisor(-2)"
      ],
      "execution_count": null,
      "outputs": [
        {
          "data": {
            "text/plain": [
              "1"
            ]
          },
          "execution_count": 32,
          "metadata": {},
          "output_type": "execute_result"
        }
      ]
    },
    {
      "cell_type": "code",
      "metadata": {
        "id": "cOykyVOSRwM0",
        "outputId": "f6154526-0ad5-4f6b-ae4a-806df7c91bc2"
      },
      "source": [
        "busca_divisor(-3)"
      ],
      "execution_count": null,
      "outputs": [
        {
          "data": {
            "text/plain": [
              "1"
            ]
          },
          "execution_count": 33,
          "metadata": {},
          "output_type": "execute_result"
        }
      ]
    },
    {
      "cell_type": "code",
      "metadata": {
        "id": "a4JntI4PRwM0",
        "outputId": "80f3f45c-2c25-44e3-c8db-b4e5482ae30a"
      },
      "source": [
        "busca_divisor(-4)"
      ],
      "execution_count": null,
      "outputs": [
        {
          "data": {
            "text/plain": [
              "2"
            ]
          },
          "execution_count": 34,
          "metadata": {},
          "output_type": "execute_result"
        }
      ]
    },
    {
      "cell_type": "markdown",
      "metadata": {
        "id": "KWrbnjpARwM0"
      },
      "source": [
        "## `tuple`\n",
        "Una secuencia de datos, separados por coma, forman un tipo de dato llamado tupla (`tuple`), el cual no se puede modificar parcialmente. En algunos casos es recomendable colocar la tupla entre paréntesis."
      ]
    },
    {
      "cell_type": "code",
      "metadata": {
        "id": "6j5QfUb9RwM0",
        "outputId": "a19e59e9-2c53-408f-b340-e9901e247384"
      },
      "source": [
        "v=11, 22, 35, 44\n",
        "v"
      ],
      "execution_count": null,
      "outputs": [
        {
          "data": {
            "text/plain": [
              "(11, 22, 35, 44)"
            ]
          },
          "execution_count": 35,
          "metadata": {},
          "output_type": "execute_result"
        }
      ]
    },
    {
      "cell_type": "code",
      "metadata": {
        "id": "JmXHFEXeRwM5",
        "outputId": "ce276028-cda3-4e7f-ef61-596a7326fbac"
      },
      "source": [
        "v[2]"
      ],
      "execution_count": null,
      "outputs": [
        {
          "data": {
            "text/plain": [
              "35"
            ]
          },
          "execution_count": 36,
          "metadata": {},
          "output_type": "execute_result"
        }
      ]
    },
    {
      "cell_type": "code",
      "metadata": {
        "id": "tV7rzwWlRwM6",
        "outputId": "3bb0667d-38cc-456e-8482-0c01c76c3a08"
      },
      "source": [
        "v[2]=33\n",
        "v"
      ],
      "execution_count": null,
      "outputs": [
        {
          "ename": "TypeError",
          "evalue": "'tuple' object does not support item assignment",
          "output_type": "error",
          "traceback": [
            "\u001b[1;31m---------------------------------------------------------------------------\u001b[0m",
            "\u001b[1;31mTypeError\u001b[0m                                 Traceback (most recent call last)",
            "\u001b[1;32m<ipython-input-37-27cd8a72686d>\u001b[0m in \u001b[0;36m<module>\u001b[1;34m\u001b[0m\n\u001b[1;32m----> 1\u001b[1;33m \u001b[0mv\u001b[0m\u001b[1;33m[\u001b[0m\u001b[1;36m2\u001b[0m\u001b[1;33m]\u001b[0m\u001b[1;33m=\u001b[0m\u001b[1;36m33\u001b[0m\u001b[1;33m\u001b[0m\u001b[1;33m\u001b[0m\u001b[0m\n\u001b[0m\u001b[0;32m      2\u001b[0m \u001b[0mv\u001b[0m\u001b[1;33m\u001b[0m\u001b[1;33m\u001b[0m\u001b[0m\n",
            "\u001b[1;31mTypeError\u001b[0m: 'tuple' object does not support item assignment"
          ]
        }
      ]
    },
    {
      "cell_type": "code",
      "metadata": {
        "id": "oL_LjcUGRwM6",
        "outputId": "624ee86a-80c7-418e-c969-4aedb6f41ea6"
      },
      "source": [
        "v[-1]"
      ],
      "execution_count": null,
      "outputs": [
        {
          "data": {
            "text/plain": [
              "44"
            ]
          },
          "execution_count": 38,
          "metadata": {},
          "output_type": "execute_result"
        }
      ]
    },
    {
      "cell_type": "code",
      "metadata": {
        "scrolled": true,
        "id": "av1GnMPVRwM6",
        "outputId": "053001cf-63ab-462e-b436-4fe08de74eae"
      },
      "source": [
        "v[1:3]"
      ],
      "execution_count": null,
      "outputs": [
        {
          "data": {
            "text/plain": [
              "(22, 35)"
            ]
          },
          "execution_count": 39,
          "metadata": {},
          "output_type": "execute_result"
        }
      ]
    },
    {
      "cell_type": "code",
      "metadata": {
        "id": "TUnOyru3RwM7",
        "outputId": "5133c5a2-4680-4b98-ca7f-ba6c356d624f"
      },
      "source": [
        "v[1:]"
      ],
      "execution_count": null,
      "outputs": [
        {
          "data": {
            "text/plain": [
              "(22, 35, 44)"
            ]
          },
          "execution_count": 40,
          "metadata": {},
          "output_type": "execute_result"
        }
      ]
    },
    {
      "cell_type": "code",
      "metadata": {
        "id": "Wo3Xx81JRwM7",
        "outputId": "44925d17-1d1b-400d-adf9-73935bb67854"
      },
      "source": [
        "v[:3]"
      ],
      "execution_count": null,
      "outputs": [
        {
          "data": {
            "text/plain": [
              "(11, 22, 35)"
            ]
          },
          "execution_count": 41,
          "metadata": {},
          "output_type": "execute_result"
        }
      ]
    },
    {
      "cell_type": "markdown",
      "metadata": {
        "id": "jO6xn_7KRwM7"
      },
      "source": [
        "La concatenación de dos o más tuplas se realiza con el operador `+`"
      ]
    },
    {
      "cell_type": "code",
      "metadata": {
        "id": "sz0znlXxRwM7",
        "outputId": "0a81b6fd-57bc-42e0-962f-16fd68c13cb8"
      },
      "source": [
        "(3,4) + (5,7)"
      ],
      "execution_count": null,
      "outputs": [
        {
          "data": {
            "text/plain": [
              "(3, 4, 5, 7)"
            ]
          },
          "execution_count": 43,
          "metadata": {},
          "output_type": "execute_result"
        }
      ]
    },
    {
      "cell_type": "code",
      "metadata": {
        "id": "6_a5bwDdRwM8",
        "outputId": "ec53a43c-6fc6-479c-e28f-b6ce775453fb"
      },
      "source": [
        "3, 4+5, 7"
      ],
      "execution_count": null,
      "outputs": [
        {
          "data": {
            "text/plain": [
              "(3, 9, 7)"
            ]
          },
          "execution_count": 44,
          "metadata": {},
          "output_type": "execute_result"
        }
      ]
    },
    {
      "cell_type": "markdown",
      "metadata": {
        "id": "CbwyaG-_RwM8"
      },
      "source": [
        "Una tupla se puede repetir usando el operador `*`"
      ]
    },
    {
      "cell_type": "code",
      "metadata": {
        "id": "WCcwPw0wRwM8",
        "outputId": "b5bc5857-2b21-4b06-eafa-b626541adc4c"
      },
      "source": [
        "v* 4"
      ],
      "execution_count": null,
      "outputs": [
        {
          "data": {
            "text/plain": [
              "(11, 22, 35, 44, 11, 22, 35, 44, 11, 22, 35, 44, 11, 22, 35, 44)"
            ]
          },
          "execution_count": 46,
          "metadata": {},
          "output_type": "execute_result"
        }
      ]
    },
    {
      "cell_type": "markdown",
      "metadata": {
        "id": "HzcC5nyHRwM8"
      },
      "source": [
        "## `list`\n",
        "Una tupla (`tuple`) encerrada en corchetes define una lista (`list`) la cual sí permite modificar parcialmente."
      ]
    },
    {
      "cell_type": "code",
      "metadata": {
        "id": "8XLQ9JdMRwM9",
        "outputId": "a021e4ed-72f8-4d28-d94c-d6bd3348fb4f"
      },
      "source": [
        "u=[11, 21, 35, 44]\n",
        "u"
      ],
      "execution_count": null,
      "outputs": [
        {
          "data": {
            "text/plain": [
              "[11, 21, 35, 44]"
            ]
          },
          "execution_count": 47,
          "metadata": {},
          "output_type": "execute_result"
        }
      ]
    },
    {
      "cell_type": "markdown",
      "metadata": {
        "id": "CX8hkgF9RwM9"
      },
      "source": [
        "Una de las principales diferencias entre las tuplas y las listas es que la lista se puede modificar (es mutable) pero la tupla no (es inmutable), esto la hace un poco más eficiente."
      ]
    },
    {
      "cell_type": "code",
      "metadata": {
        "id": "OC5nKVWCRwM9",
        "outputId": "733222fa-2b52-471d-ffdb-4abcdc96f823"
      },
      "source": [
        "u=[11, 22, 35, 44]\n",
        "u"
      ],
      "execution_count": null,
      "outputs": [
        {
          "data": {
            "text/plain": [
              "[11, 22, 35, 44]"
            ]
          },
          "execution_count": 48,
          "metadata": {},
          "output_type": "execute_result"
        }
      ]
    },
    {
      "cell_type": "code",
      "metadata": {
        "id": "QPw9K-DzRwM9",
        "outputId": "4dee6e56-a064-46a3-efcc-0960d60e00f8"
      },
      "source": [
        "u[2]"
      ],
      "execution_count": null,
      "outputs": [
        {
          "data": {
            "text/plain": [
              "35"
            ]
          },
          "execution_count": 49,
          "metadata": {},
          "output_type": "execute_result"
        }
      ]
    },
    {
      "cell_type": "code",
      "metadata": {
        "id": "N3RJwiR2RwM9",
        "outputId": "083e0b2b-7582-4b9b-edf9-b0cd41f0f5c3"
      },
      "source": [
        "u[2]=33\n",
        "u"
      ],
      "execution_count": null,
      "outputs": [
        {
          "data": {
            "text/plain": [
              "[11, 22, 33, 44]"
            ]
          },
          "execution_count": 50,
          "metadata": {},
          "output_type": "execute_result"
        }
      ]
    },
    {
      "cell_type": "code",
      "metadata": {
        "id": "v2tDoelIRwM-",
        "outputId": "4cc343ac-44dc-4f04-ba08-da50939a3d75"
      },
      "source": [
        "u[-1]"
      ],
      "execution_count": null,
      "outputs": [
        {
          "data": {
            "text/plain": [
              "44"
            ]
          },
          "execution_count": 51,
          "metadata": {},
          "output_type": "execute_result"
        }
      ]
    },
    {
      "cell_type": "code",
      "metadata": {
        "scrolled": true,
        "id": "RuFYVld7RwM-",
        "outputId": "f7c79eee-7d62-49df-f163-34097440ca0e"
      },
      "source": [
        "u[1:3]"
      ],
      "execution_count": null,
      "outputs": [
        {
          "data": {
            "text/plain": [
              "[22, 33]"
            ]
          },
          "execution_count": 52,
          "metadata": {},
          "output_type": "execute_result"
        }
      ]
    },
    {
      "cell_type": "code",
      "metadata": {
        "id": "lmF66xc7RwM-",
        "outputId": "76b1616d-ae72-468a-da76-964afe12454b"
      },
      "source": [
        "u[1:3]=88,99\n",
        "u"
      ],
      "execution_count": null,
      "outputs": [
        {
          "data": {
            "text/plain": [
              "[11, 88, 99, 44]"
            ]
          },
          "execution_count": 53,
          "metadata": {},
          "output_type": "execute_result"
        }
      ]
    },
    {
      "cell_type": "code",
      "metadata": {
        "id": "2lVk-5SIRwM-",
        "outputId": "16431d17-f92c-459f-bcd1-50a2d4b80bd6"
      },
      "source": [
        "u[1:]"
      ],
      "execution_count": null,
      "outputs": [
        {
          "data": {
            "text/plain": [
              "[88, 99, 44]"
            ]
          },
          "execution_count": 54,
          "metadata": {},
          "output_type": "execute_result"
        }
      ]
    },
    {
      "cell_type": "code",
      "metadata": {
        "id": "H_jRL1w9RwM-",
        "outputId": "f9f3957c-a170-4afb-9ac5-e812e1edc021"
      },
      "source": [
        "u[:3]"
      ],
      "execution_count": null,
      "outputs": [
        {
          "data": {
            "text/plain": [
              "[11, 88, 99]"
            ]
          },
          "execution_count": 55,
          "metadata": {},
          "output_type": "execute_result"
        }
      ]
    },
    {
      "cell_type": "code",
      "metadata": {
        "id": "Ay5uQzuGRwM_",
        "outputId": "b6b4d0d7-254c-4cd3-9aec-b4cd9e65628d"
      },
      "source": [
        "u+u"
      ],
      "execution_count": null,
      "outputs": [
        {
          "data": {
            "text/plain": [
              "[11, 88, 99, 44, 11, 88, 99, 44]"
            ]
          },
          "execution_count": 56,
          "metadata": {},
          "output_type": "execute_result"
        }
      ]
    },
    {
      "cell_type": "code",
      "metadata": {
        "id": "JZnOPAQbRwM_",
        "outputId": "a3e35157-6b23-4fd0-cc2e-6ec57e39a326"
      },
      "source": [
        "u*4"
      ],
      "execution_count": null,
      "outputs": [
        {
          "data": {
            "text/plain": [
              "[11, 88, 99, 44, 11, 88, 99, 44, 11, 88, 99, 44, 11, 88, 99, 44]"
            ]
          },
          "execution_count": 57,
          "metadata": {},
          "output_type": "execute_result"
        }
      ]
    },
    {
      "cell_type": "markdown",
      "metadata": {
        "id": "Eghi6bHHRwM_"
      },
      "source": [
        "## `str`\n",
        "Una secuencia de caracteres se conoce como una cadena o _string_ (`str`). Esta se define con comillas dobles o sencillas. Este tipo de dato tampoco permite modificar parcialmente"
      ]
    },
    {
      "cell_type": "code",
      "metadata": {
        "id": "o5UegRL5RwM_",
        "outputId": "cb035582-684e-4994-f01b-ca96dbdf11f6"
      },
      "source": [
        "texto_1 = \"Usualmente aquí se escribe 'Hola Mundo'\"\n",
        "texto_1"
      ],
      "execution_count": null,
      "outputs": [
        {
          "data": {
            "text/plain": [
              "\"Usualmente aquí se escribe 'Hola Mundo'\""
            ]
          },
          "execution_count": 58,
          "metadata": {},
          "output_type": "execute_result"
        }
      ]
    },
    {
      "cell_type": "code",
      "metadata": {
        "id": "n_JVVLBGRwNA",
        "outputId": "d9b9a8ac-d1ad-4c3c-b017-c9b851f5b572"
      },
      "source": [
        "texto_2 = 'Usualmente aquí se escribe \"Hola Mundo\"'\n",
        "texto_2"
      ],
      "execution_count": null,
      "outputs": [
        {
          "data": {
            "text/plain": [
              "'Usualmente aquí se escribe \"Hola Mundo\"'"
            ]
          },
          "execution_count": 59,
          "metadata": {},
          "output_type": "execute_result"
        }
      ]
    },
    {
      "cell_type": "code",
      "metadata": {
        "id": "wDfwbhdgRwNA",
        "outputId": "b270104d-c43e-4962-80ef-3fdc0eae4852"
      },
      "source": [
        "texto_1[11:15]"
      ],
      "execution_count": null,
      "outputs": [
        {
          "data": {
            "text/plain": [
              "'aquí'"
            ]
          },
          "execution_count": 60,
          "metadata": {},
          "output_type": "execute_result"
        }
      ]
    },
    {
      "cell_type": "code",
      "metadata": {
        "id": "GAgwEBZDRwNA",
        "outputId": "180568f6-9a48-46b5-aeea-271750834c45"
      },
      "source": [
        "texto_1[11:15]='allá'"
      ],
      "execution_count": null,
      "outputs": [
        {
          "ename": "TypeError",
          "evalue": "'str' object does not support item assignment",
          "output_type": "error",
          "traceback": [
            "\u001b[1;31m---------------------------------------------------------------------------\u001b[0m",
            "\u001b[1;31mTypeError\u001b[0m                                 Traceback (most recent call last)",
            "\u001b[1;32m<ipython-input-61-da9f71756e4a>\u001b[0m in \u001b[0;36m<module>\u001b[1;34m\u001b[0m\n\u001b[1;32m----> 1\u001b[1;33m \u001b[0mtexto_1\u001b[0m\u001b[1;33m[\u001b[0m\u001b[1;36m11\u001b[0m\u001b[1;33m:\u001b[0m\u001b[1;36m15\u001b[0m\u001b[1;33m]\u001b[0m\u001b[1;33m=\u001b[0m\u001b[1;34m'allá'\u001b[0m\u001b[1;33m\u001b[0m\u001b[1;33m\u001b[0m\u001b[0m\n\u001b[0m",
            "\u001b[1;31mTypeError\u001b[0m: 'str' object does not support item assignment"
          ]
        }
      ]
    },
    {
      "cell_type": "code",
      "metadata": {
        "id": "bcwPtKjfRwNA",
        "outputId": "69bff3e2-9dca-43c6-f7c7-5e5c7f8be499"
      },
      "source": [
        "texto_1[-1]"
      ],
      "execution_count": null,
      "outputs": [
        {
          "data": {
            "text/plain": [
              "\"'\""
            ]
          },
          "execution_count": 62,
          "metadata": {},
          "output_type": "execute_result"
        }
      ]
    },
    {
      "cell_type": "markdown",
      "metadata": {
        "id": "GwCHUrfFRwNA"
      },
      "source": [
        "Para presentar un texto se puede usar la función `print`"
      ]
    },
    {
      "cell_type": "code",
      "metadata": {
        "id": "4BaMb3xQRwNB",
        "outputId": "d7f5a867-4126-48a4-8bce-de71a968ce90"
      },
      "source": [
        "print(texto_1)"
      ],
      "execution_count": null,
      "outputs": [
        {
          "name": "stdout",
          "output_type": "stream",
          "text": [
            "Usualmente aquí se escribe 'Hola Mundo'\n"
          ]
        }
      ]
    },
    {
      "cell_type": "code",
      "metadata": {
        "id": "lnJLYI26RwNB",
        "outputId": "f78f8781-b4b7-450f-aa22-c5e5f4101380"
      },
      "source": [
        "print(texto_2)"
      ],
      "execution_count": null,
      "outputs": [
        {
          "name": "stdout",
          "output_type": "stream",
          "text": [
            "Usualmente aquí se escribe \"Hola Mundo\"\n"
          ]
        }
      ]
    },
    {
      "cell_type": "markdown",
      "metadata": {
        "id": "AJvpnYqMRwNB"
      },
      "source": [
        "Para leer un texto del teclado puede usarse `input`"
      ]
    },
    {
      "cell_type": "code",
      "metadata": {
        "id": "aT1KiJ7CRwNB",
        "outputId": "29f040f5-50ea-4b68-de45-53ec4e752952"
      },
      "source": [
        "texto_3 = input('Piense un dígito y escríbalo: ')\n",
        "print('El dígito que pensó por 11 es:',texto_3*2)"
      ],
      "execution_count": null,
      "outputs": [
        {
          "name": "stdout",
          "output_type": "stream",
          "text": [
            "Piense un dígito y escríbalo: Hola\n",
            "El dígito que pensó por 11 es: HolaHola\n"
          ]
        }
      ]
    },
    {
      "cell_type": "markdown",
      "metadata": {
        "id": "399qExTVRwNB"
      },
      "source": [
        "## `iterable`\n",
        "`tuple`, `list` y `str` son subtipos del tipo de dato `iterable`, sobre el cual se pueden aplicar algunas funciones"
      ]
    },
    {
      "cell_type": "markdown",
      "metadata": {
        "id": "TVDK5aA3RwNC"
      },
      "source": [
        "## `len`\n",
        "La función incorporada de python `len` indica la cantidad de elementos de un iterable"
      ]
    },
    {
      "cell_type": "markdown",
      "metadata": {
        "id": "ZDQsznqoRwNC"
      },
      "source": [
        "La función `len` permite conocer la cantidad de elementos de una tupla o una lista"
      ]
    },
    {
      "cell_type": "code",
      "metadata": {
        "id": "OCMf1Ib4RwNC",
        "outputId": "12755d75-3f5d-4846-ee60-f4ac1451357c"
      },
      "source": [
        "len([2,6,2,7,2,9,2])"
      ],
      "execution_count": null,
      "outputs": [
        {
          "data": {
            "text/plain": [
              "7"
            ]
          },
          "execution_count": 66,
          "metadata": {},
          "output_type": "execute_result"
        }
      ]
    },
    {
      "cell_type": "code",
      "metadata": {
        "id": "ZZwcUWXHRwNC",
        "outputId": "2e42c10c-04a6-4e2b-80b2-4a3682f3a58a"
      },
      "source": [
        "len((2,6,2,7,2)) # en este caso es necesario encerrar la tupla entre paréntesis para indicar que sólo hay un argumento en la función"
      ],
      "execution_count": null,
      "outputs": [
        {
          "data": {
            "text/plain": [
              "5"
            ]
          },
          "execution_count": 67,
          "metadata": {},
          "output_type": "execute_result"
        }
      ]
    },
    {
      "cell_type": "code",
      "metadata": {
        "id": "ExfmRQ7yRwNC",
        "outputId": "579d0710-197a-4e98-de6f-723e10abef75"
      },
      "source": [
        "len(texto_1)"
      ],
      "execution_count": null,
      "outputs": [
        {
          "data": {
            "text/plain": [
              "39"
            ]
          },
          "execution_count": 68,
          "metadata": {},
          "output_type": "execute_result"
        }
      ]
    },
    {
      "cell_type": "markdown",
      "metadata": {
        "id": "IRpA23N_RwNC"
      },
      "source": [
        "# in \n",
        "Determina si un elemento está en un iterable"
      ]
    },
    {
      "cell_type": "code",
      "metadata": {
        "id": "0B68EjZvRwND",
        "outputId": "65afccbf-b29f-4012-bd83-43cef983ca28"
      },
      "source": [
        "2 in (3,5,6)"
      ],
      "execution_count": null,
      "outputs": [
        {
          "data": {
            "text/plain": [
              "False"
            ]
          },
          "execution_count": 69,
          "metadata": {},
          "output_type": "execute_result"
        }
      ]
    },
    {
      "cell_type": "code",
      "metadata": {
        "id": "GaVfP5VIRwND",
        "outputId": "5c407097-4fed-4739-aeba-0357ef88d051"
      },
      "source": [
        "5 in [3,5,6]"
      ],
      "execution_count": null,
      "outputs": [
        {
          "data": {
            "text/plain": [
              "True"
            ]
          },
          "execution_count": 70,
          "metadata": {},
          "output_type": "execute_result"
        }
      ]
    },
    {
      "cell_type": "code",
      "metadata": {
        "id": "gvJ00VWORwND",
        "outputId": "b87dcd98-89f3-4052-b8e8-77c49436ff2d"
      },
      "source": [
        "'l' in 'hola'"
      ],
      "execution_count": null,
      "outputs": [
        {
          "data": {
            "text/plain": [
              "True"
            ]
          },
          "execution_count": 71,
          "metadata": {},
          "output_type": "execute_result"
        }
      ]
    },
    {
      "cell_type": "markdown",
      "metadata": {
        "id": "Hnz6TF5FRwND"
      },
      "source": [
        "# `range`\n",
        "La función incorporada de Python `range`, permite generar un rango de números"
      ]
    },
    {
      "cell_type": "code",
      "metadata": {
        "id": "wYdcE7JJRwND",
        "outputId": "0dad2fac-421e-40e0-b4ab-66d4bf8b063e"
      },
      "source": [
        "list(range(3))"
      ],
      "execution_count": null,
      "outputs": [
        {
          "data": {
            "text/plain": [
              "[0, 1, 2]"
            ]
          },
          "execution_count": 72,
          "metadata": {},
          "output_type": "execute_result"
        }
      ]
    },
    {
      "cell_type": "code",
      "metadata": {
        "id": "owyUzj7BRwNE",
        "outputId": "86fbc54d-e6e8-4f57-8e6a-85ffc5c23487"
      },
      "source": [
        "tuple(range(10))"
      ],
      "execution_count": null,
      "outputs": [
        {
          "data": {
            "text/plain": [
              "(0, 1, 2, 3, 4, 5, 6, 7, 8, 9)"
            ]
          },
          "execution_count": 73,
          "metadata": {},
          "output_type": "execute_result"
        }
      ]
    },
    {
      "cell_type": "code",
      "metadata": {
        "id": "-wHGxf7yRwNF",
        "outputId": "abc25b79-126f-4ca3-f157-b9d994035d06"
      },
      "source": [
        "tuple(range(2,10,3))"
      ],
      "execution_count": null,
      "outputs": [
        {
          "data": {
            "text/plain": [
              "(2, 5, 8)"
            ]
          },
          "execution_count": 74,
          "metadata": {},
          "output_type": "execute_result"
        }
      ]
    },
    {
      "cell_type": "markdown",
      "metadata": {
        "id": "_WI0NEB3RwNG"
      },
      "source": [
        "# `for` variable `in` iterable:"
      ]
    },
    {
      "cell_type": "code",
      "metadata": {
        "id": "Ixmm8FrhRwNG",
        "outputId": "b5e4d58e-d144-4d46-a28c-0e23474ba0b6"
      },
      "source": [
        "for i in range(4):\n",
        "    print(i)"
      ],
      "execution_count": null,
      "outputs": [
        {
          "name": "stdout",
          "output_type": "stream",
          "text": [
            "0\n",
            "1\n",
            "2\n",
            "3\n"
          ]
        }
      ]
    },
    {
      "cell_type": "code",
      "metadata": {
        "id": "GnbPVUr7RwNG",
        "outputId": "d41f1b95-b911-43b4-fc32-ee91d6601933"
      },
      "source": [
        "for i in 'hola':\n",
        "    print(i)"
      ],
      "execution_count": null,
      "outputs": [
        {
          "name": "stdout",
          "output_type": "stream",
          "text": [
            "h\n",
            "o\n",
            "l\n",
            "a\n"
          ]
        }
      ]
    },
    {
      "cell_type": "code",
      "metadata": {
        "id": "oSdILNNwRwNG",
        "outputId": "f74049c9-ef20-4ae6-e6ac-75e84fb17e5a"
      },
      "source": [
        "for i in [8,4,7]:\n",
        "    print(i)"
      ],
      "execution_count": null,
      "outputs": [
        {
          "name": "stdout",
          "output_type": "stream",
          "text": [
            "8\n",
            "4\n",
            "7\n"
          ]
        }
      ]
    },
    {
      "cell_type": "code",
      "metadata": {
        "id": "GMZ5N3Z2RwNG",
        "outputId": "6f22d789-22a8-4170-c2f5-a8971a99f44e"
      },
      "source": [
        "for i in [(3,4,5),[7,8,4],'hola']:\n",
        "    print(i)"
      ],
      "execution_count": null,
      "outputs": [
        {
          "name": "stdout",
          "output_type": "stream",
          "text": [
            "(3, 4, 5)\n",
            "[7, 8, 4]\n",
            "hola\n"
          ]
        }
      ]
    },
    {
      "cell_type": "code",
      "metadata": {
        "id": "EosYX96PRwNH",
        "outputId": "da106a4e-b55b-447e-81e8-629298932036"
      },
      "source": [
        "for i in 'uno','dos','tres':\n",
        "    print(i)"
      ],
      "execution_count": null,
      "outputs": [
        {
          "name": "stdout",
          "output_type": "stream",
          "text": [
            "uno\n",
            "dos\n",
            "tres\n"
          ]
        }
      ]
    },
    {
      "cell_type": "markdown",
      "metadata": {
        "id": "Lns4T_zbRwNH"
      },
      "source": [
        "#  `open` `.readline` `close`\n",
        "Estas 3 instrucciones permiten leer las 'líneas' de un archivo y las pasa a una lista de `str`."
      ]
    },
    {
      "cell_type": "code",
      "metadata": {
        "id": "qCABfc8URwNH",
        "outputId": "0824dd93-09fd-45bc-e37f-b37239eb73c6"
      },
      "source": [
        "archivo  = open('palabras500.csv', encoding=\"utf-8\")\n",
        "lineas = archivo.readlines()\n",
        "archivo.close()\n",
        "\n",
        "len(lineas)"
      ],
      "execution_count": null,
      "outputs": [
        {
          "data": {
            "text/plain": [
              "500"
            ]
          },
          "execution_count": 80,
          "metadata": {},
          "output_type": "execute_result"
        }
      ]
    },
    {
      "cell_type": "code",
      "metadata": {
        "id": "19EvET9ARwNH",
        "outputId": "ddffc721-6f0c-49b6-b4b5-e0e2163c9b13"
      },
      "source": [
        "lineas[0]"
      ],
      "execution_count": null,
      "outputs": [
        {
          "data": {
            "text/plain": [
              "'de\\n'"
            ]
          },
          "execution_count": 81,
          "metadata": {},
          "output_type": "execute_result"
        }
      ]
    },
    {
      "cell_type": "code",
      "metadata": {
        "id": "gW9EImvKRwNI",
        "outputId": "8e075eb2-16a7-4b5e-e0be-e0fac87d3c8b"
      },
      "source": [
        "lineas[1]"
      ],
      "execution_count": null,
      "outputs": [
        {
          "data": {
            "text/plain": [
              "'la\\n'"
            ]
          },
          "execution_count": 82,
          "metadata": {},
          "output_type": "execute_result"
        }
      ]
    },
    {
      "cell_type": "code",
      "metadata": {
        "id": "kk15URf7RwNI",
        "outputId": "7bf0431a-4e3c-4e0a-a964-20419bfab4d6"
      },
      "source": [
        "lineas[499]"
      ],
      "execution_count": null,
      "outputs": [
        {
          "data": {
            "text/plain": [
              "'serán\\n'"
            ]
          },
          "execution_count": 83,
          "metadata": {},
          "output_type": "execute_result"
        }
      ]
    },
    {
      "cell_type": "code",
      "metadata": {
        "id": "mw-znIe5RwNI",
        "outputId": "dfcb8c09-5e0e-4959-81e5-1ced797b97c5"
      },
      "source": [
        "palabra  = input('Escriba una palabra: ')\n",
        "if palabra+'\\n' in lineas:\n",
        "    print('Sí es de las 500 más comunes')\n",
        "else:\n",
        "    print('No es de las 500 más comunes')"
      ],
      "execution_count": null,
      "outputs": [
        {
          "name": "stdout",
          "output_type": "stream",
          "text": [
            "Escriba una palabra: aya\n",
            "No es de las 500 más comunes\n"
          ]
        }
      ]
    },
    {
      "cell_type": "markdown",
      "metadata": {
        "id": "aTqsleUERwNJ"
      },
      "source": [
        "# Reto\n",
        "Realice una función `rima` que encuentre las palabras que finalizan según el parámetro."
      ]
    },
    {
      "cell_type": "code",
      "metadata": {
        "id": "DRUhy5e-RwNJ",
        "outputId": "2fecbd94-fe40-4089-8b48-52da8835e08c"
      },
      "source": [
        "lineas=[\"de\",\n",
        "\"la\",\n",
        "\"que\",\n",
        "\"el\",\n",
        "\"y\",\n",
        "\"en\",\n",
        "\"a\",\n",
        "\"los\",\n",
        "\"del\",\n",
        "\"se\",\n",
        "\"las\",\n",
        "\"por\",\n",
        "\"un\",\n",
        "\"con\",\n",
        "\"para\",\n",
        "\"no\",\n",
        "\"una\",\n",
        "\"es\",\n",
        "\"su\",\n",
        "\"al\",\n",
        "\"lo\",\n",
        "\"como\",\n",
        "\"más\",\n",
        "\"o\",\n",
        "\"este\",\n",
        "\"pero\",\n",
        "\"sus\",\n",
        "\"esta\",\n",
        "\"si\",\n",
        "\"ha\",\n",
        "\"me\",\n",
        "\"ya\",\n",
        "\"le\",\n",
        "\"son\",\n",
        "\"sobre\",\n",
        "\"entre\",\n",
        "\"ser\",\n",
        "\"fue\",\n",
        "\"sin\",\n",
        "\"todo\",\n",
        "\"también\",\n",
        "\"desde\",\n",
        "\"cuando\",\n",
        "\"muy\",\n",
        "\"a?os\",\n",
        "\"está\",\n",
        "\"todos\",\n",
        "\"hay\",\n",
        "\"tiene\",\n",
        "\"nos\",\n",
        "\"porque\",\n",
        "\"dos\",\n",
        "\"hasta\",\n",
        "\"donde\",\n",
        "\"parte\",\n",
        "\"así\",\n",
        "\"han\",\n",
        "\"puede\",\n",
        "\"mi\",\n",
        "\"a?o\",\n",
        "\"cada\",\n",
        "\"uno\",\n",
        "\"vez\",\n",
        "\"bien\",\n",
        "\"hace\",\n",
        "\"trabajo\",\n",
        "\"nacional\",\n",
        "\"estado\",\n",
        "\"otros\",\n",
        "\"gobierno\",\n",
        "\"eso\",\n",
        "\"tiempo\",\n",
        "\"además\",\n",
        "\"mismo\",\n",
        "\"ese\",\n",
        "\"hacer\",\n",
        "\"país\",\n",
        "\"yo\",\n",
        "\"durante\",\n",
        "\"te\",\n",
        "\"día\",\n",
        "\"tanto\",\n",
        "\"vida\",\n",
        "\"esto\",\n",
        "\"forma\",\n",
        "\"estos\",\n",
        "\"sólo\",\n",
        "\"personas\",\n",
        "\"ni\",\n",
        "\"otro\",\n",
        "\"ahora\",\n",
        "\"hoy\",\n",
        "\"era\",\n",
        "\"caso\",\n",
        "\"están\",\n",
        "\"les\",\n",
        "\"mejor\",\n",
        "\"lugar\",\n",
        "\"qué\",\n",
        "\"quien\",\n",
        "]\n",
        "\n",
        "lineas"
      ],
      "execution_count": null,
      "outputs": [
        {
          "data": {
            "text/plain": [
              "['de',\n",
              " 'la',\n",
              " 'que',\n",
              " 'el',\n",
              " 'y',\n",
              " 'en',\n",
              " 'a',\n",
              " 'los',\n",
              " 'del',\n",
              " 'se',\n",
              " 'las',\n",
              " 'por',\n",
              " 'un',\n",
              " 'con',\n",
              " 'para',\n",
              " 'no',\n",
              " 'una',\n",
              " 'es',\n",
              " 'su',\n",
              " 'al',\n",
              " 'lo',\n",
              " 'como',\n",
              " 'más',\n",
              " 'o',\n",
              " 'este',\n",
              " 'pero',\n",
              " 'sus',\n",
              " 'esta',\n",
              " 'si',\n",
              " 'ha',\n",
              " 'me',\n",
              " 'ya',\n",
              " 'le',\n",
              " 'son',\n",
              " 'sobre',\n",
              " 'entre',\n",
              " 'ser',\n",
              " 'fue',\n",
              " 'sin',\n",
              " 'todo',\n",
              " 'también',\n",
              " 'desde',\n",
              " 'cuando',\n",
              " 'muy',\n",
              " 'a?os',\n",
              " 'está',\n",
              " 'todos',\n",
              " 'hay',\n",
              " 'tiene',\n",
              " 'nos',\n",
              " 'porque',\n",
              " 'dos',\n",
              " 'hasta',\n",
              " 'donde',\n",
              " 'parte',\n",
              " 'así',\n",
              " 'han',\n",
              " 'puede',\n",
              " 'mi',\n",
              " 'a?o',\n",
              " 'cada',\n",
              " 'uno',\n",
              " 'vez',\n",
              " 'bien',\n",
              " 'hace',\n",
              " 'trabajo',\n",
              " 'nacional',\n",
              " 'estado',\n",
              " 'otros',\n",
              " 'gobierno',\n",
              " 'eso',\n",
              " 'tiempo',\n",
              " 'además',\n",
              " 'mismo',\n",
              " 'ese',\n",
              " 'hacer',\n",
              " 'país',\n",
              " 'yo',\n",
              " 'durante',\n",
              " 'te',\n",
              " 'día',\n",
              " 'tanto',\n",
              " 'vida',\n",
              " 'esto',\n",
              " 'forma',\n",
              " 'estos',\n",
              " 'sólo',\n",
              " 'personas',\n",
              " 'ni',\n",
              " 'otro',\n",
              " 'ahora',\n",
              " 'hoy',\n",
              " 'era',\n",
              " 'caso',\n",
              " 'están',\n",
              " 'les',\n",
              " 'mejor',\n",
              " 'lugar',\n",
              " 'qué',\n",
              " 'quien']"
            ]
          },
          "execution_count": 127,
          "metadata": {},
          "output_type": "execute_result"
        }
      ]
    },
    {
      "cell_type": "code",
      "metadata": {
        "id": "4QLA2zRORwNK"
      },
      "source": [
        "def rima(final):\n",
        "    #print(lineas)\n",
        "    n=len(final)\n",
        "    for linea in lineas:\n",
        "        if linea[-n:]==final:\n",
        "            print(linea)\n",
        "    print('---')"
      ],
      "execution_count": null,
      "outputs": []
    },
    {
      "cell_type": "code",
      "metadata": {
        "id": "FZfoTug0RwNK",
        "outputId": "db0c097c-4cb8-4a5b-bfaa-23f867164819"
      },
      "source": [
        "rima('a')"
      ],
      "execution_count": null,
      "outputs": [
        {
          "name": "stdout",
          "output_type": "stream",
          "text": [
            "la\n",
            "a\n",
            "para\n",
            "una\n",
            "esta\n",
            "ha\n",
            "ya\n",
            "hasta\n",
            "cada\n",
            "día\n",
            "vida\n",
            "forma\n",
            "ahora\n",
            "era\n",
            "---\n"
          ]
        }
      ]
    },
    {
      "cell_type": "markdown",
      "metadata": {
        "id": "RGtNGXkHRwNK"
      },
      "source": [
        "# `type`\n",
        "`type` permite saber el tipo de una variable "
      ]
    },
    {
      "cell_type": "code",
      "metadata": {
        "id": "phP-6-3MRwNK",
        "outputId": "33978d6e-ebe6-4e02-f2a8-97a685de74df"
      },
      "source": [
        "type(1.0)"
      ],
      "execution_count": null,
      "outputs": [
        {
          "data": {
            "text/plain": [
              "float"
            ]
          },
          "execution_count": 90,
          "metadata": {},
          "output_type": "execute_result"
        }
      ]
    },
    {
      "cell_type": "code",
      "metadata": {
        "id": "aBO3ES-1RwNK",
        "outputId": "160837dd-6469-458d-f869-d199e70aef7c"
      },
      "source": [
        "type(1)"
      ],
      "execution_count": null,
      "outputs": [
        {
          "data": {
            "text/plain": [
              "int"
            ]
          },
          "execution_count": 91,
          "metadata": {},
          "output_type": "execute_result"
        }
      ]
    },
    {
      "cell_type": "code",
      "metadata": {
        "id": "OKdqMzteRwNL",
        "outputId": "e88a30b3-86f1-4aae-ed1a-0654a2d3816c"
      },
      "source": [
        "type(True)"
      ],
      "execution_count": null,
      "outputs": [
        {
          "data": {
            "text/plain": [
              "bool"
            ]
          },
          "execution_count": 92,
          "metadata": {},
          "output_type": "execute_result"
        }
      ]
    },
    {
      "cell_type": "code",
      "metadata": {
        "id": "PfTKaB5yRwNL",
        "outputId": "733c07ee-4b0b-4786-9801-fe3bee13b42b"
      },
      "source": [
        "type((1.0, 1, True))"
      ],
      "execution_count": null,
      "outputs": [
        {
          "data": {
            "text/plain": [
              "tuple"
            ]
          },
          "execution_count": 95,
          "metadata": {},
          "output_type": "execute_result"
        }
      ]
    },
    {
      "cell_type": "code",
      "metadata": {
        "id": "Ws-_Oz0RRwNL",
        "outputId": "dc92958d-1d5d-4076-89c9-f3b324a18da2"
      },
      "source": [
        "type([1.0, 1, True])"
      ],
      "execution_count": null,
      "outputs": [
        {
          "data": {
            "text/plain": [
              "list"
            ]
          },
          "execution_count": 96,
          "metadata": {},
          "output_type": "execute_result"
        }
      ]
    },
    {
      "cell_type": "code",
      "metadata": {
        "id": "Eqg5K6d1RwNL",
        "outputId": "762dc773-b7a8-4c49-dd6c-8776993dd78e"
      },
      "source": [
        "type('Adivina mi tipo')"
      ],
      "execution_count": null,
      "outputs": [
        {
          "data": {
            "text/plain": [
              "str"
            ]
          },
          "execution_count": 97,
          "metadata": {},
          "output_type": "execute_result"
        }
      ]
    },
    {
      "cell_type": "code",
      "metadata": {
        "id": "scEc_8YqRwNM",
        "outputId": "1cce0da6-f083-4021-cc34-44677e62bf1f"
      },
      "source": [
        "type(max)"
      ],
      "execution_count": null,
      "outputs": [
        {
          "data": {
            "text/plain": [
              "builtin_function_or_method"
            ]
          },
          "execution_count": 99,
          "metadata": {},
          "output_type": "execute_result"
        }
      ]
    },
    {
      "cell_type": "code",
      "metadata": {
        "id": "i7OnaX7wRwNM",
        "outputId": "0045b459-fcc7-4578-a15c-b461a3d81d3e"
      },
      "source": [
        "type(conv_automoviles_y_ciclas_en_ruedas)"
      ],
      "execution_count": null,
      "outputs": [
        {
          "data": {
            "text/plain": [
              "function"
            ]
          },
          "execution_count": 100,
          "metadata": {},
          "output_type": "execute_result"
        }
      ]
    },
    {
      "cell_type": "code",
      "metadata": {
        "id": "WLjRE8biRwNM",
        "outputId": "2bf3efff-6330-48d6-89fa-526582d28bd4"
      },
      "source": [
        "type(str)"
      ],
      "execution_count": null,
      "outputs": [
        {
          "data": {
            "text/plain": [
              "type"
            ]
          },
          "execution_count": 101,
          "metadata": {},
          "output_type": "execute_result"
        }
      ]
    },
    {
      "cell_type": "code",
      "metadata": {
        "id": "vglO_FqORwNN",
        "outputId": "ac57a471-e425-46ad-f979-fda499b4f290"
      },
      "source": [
        "a=5\n",
        "type(a)"
      ],
      "execution_count": null,
      "outputs": [
        {
          "data": {
            "text/plain": [
              "int"
            ]
          },
          "execution_count": 118,
          "metadata": {},
          "output_type": "execute_result"
        }
      ]
    },
    {
      "cell_type": "markdown",
      "metadata": {
        "id": "nEszWXr-RwNN"
      },
      "source": [
        "# `None`\n",
        "`None` es un objeto de Python que se usa cuando queremos indicar que nuestra variable no tiene ningún objeto válido. El tipo asociado es `NoneType`"
      ]
    },
    {
      "cell_type": "code",
      "metadata": {
        "id": "Ws-XddZ6RwNN",
        "outputId": "58945ec2-6e29-4edd-c145-60c656bf0f01"
      },
      "source": [
        "type(None)"
      ],
      "execution_count": null,
      "outputs": [
        {
          "data": {
            "text/plain": [
              "NoneType"
            ]
          },
          "execution_count": 89,
          "metadata": {},
          "output_type": "execute_result"
        }
      ]
    },
    {
      "cell_type": "code",
      "metadata": {
        "id": "-bOltI6pRwNN",
        "outputId": "58663199-82cd-4d23-d28d-18477040086a"
      },
      "source": [
        "bool(None)"
      ],
      "execution_count": null,
      "outputs": [
        {
          "data": {
            "text/plain": [
              "False"
            ]
          },
          "execution_count": 110,
          "metadata": {},
          "output_type": "execute_result"
        }
      ]
    },
    {
      "cell_type": "code",
      "metadata": {
        "id": "q_QQE-gzRwNN",
        "outputId": "0017eeec-6b52-4966-85da-c7ed57f0f0b1"
      },
      "source": [
        "int(None)"
      ],
      "execution_count": null,
      "outputs": [
        {
          "ename": "TypeError",
          "evalue": "int() argument must be a string, a bytes-like object or a number, not 'NoneType'",
          "output_type": "error",
          "traceback": [
            "\u001b[1;31m---------------------------------------------------------------------------\u001b[0m",
            "\u001b[1;31mTypeError\u001b[0m                                 Traceback (most recent call last)",
            "\u001b[1;32m<ipython-input-111-af2123a46eb2>\u001b[0m in \u001b[0;36m<module>\u001b[1;34m\u001b[0m\n\u001b[1;32m----> 1\u001b[1;33m \u001b[0mint\u001b[0m\u001b[1;33m(\u001b[0m\u001b[1;32mNone\u001b[0m\u001b[1;33m)\u001b[0m\u001b[1;33m\u001b[0m\u001b[1;33m\u001b[0m\u001b[0m\n\u001b[0m",
            "\u001b[1;31mTypeError\u001b[0m: int() argument must be a string, a bytes-like object or a number, not 'NoneType'"
          ]
        }
      ]
    },
    {
      "cell_type": "code",
      "metadata": {
        "id": "C2hzfukxRwNO",
        "outputId": "e6288275-72fa-4780-c9c2-6371c4e4145f"
      },
      "source": [
        "float(None)"
      ],
      "execution_count": null,
      "outputs": [
        {
          "ename": "TypeError",
          "evalue": "float() argument must be a string or a number, not 'NoneType'",
          "output_type": "error",
          "traceback": [
            "\u001b[1;31m---------------------------------------------------------------------------\u001b[0m",
            "\u001b[1;31mTypeError\u001b[0m                                 Traceback (most recent call last)",
            "\u001b[1;32m<ipython-input-113-b14d5e084cce>\u001b[0m in \u001b[0;36m<module>\u001b[1;34m\u001b[0m\n\u001b[1;32m----> 1\u001b[1;33m \u001b[0mfloat\u001b[0m\u001b[1;33m(\u001b[0m\u001b[1;32mNone\u001b[0m\u001b[1;33m)\u001b[0m\u001b[1;33m\u001b[0m\u001b[1;33m\u001b[0m\u001b[0m\n\u001b[0m",
            "\u001b[1;31mTypeError\u001b[0m: float() argument must be a string or a number, not 'NoneType'"
          ]
        }
      ]
    },
    {
      "cell_type": "code",
      "metadata": {
        "id": "UHS0pSk2RwNO",
        "outputId": "777c6e7a-ef4b-44f6-ce42-2f07cb580c4c"
      },
      "source": [
        "str(None)"
      ],
      "execution_count": null,
      "outputs": [
        {
          "data": {
            "text/plain": [
              "'None'"
            ]
          },
          "execution_count": 112,
          "metadata": {},
          "output_type": "execute_result"
        }
      ]
    },
    {
      "cell_type": "markdown",
      "metadata": {
        "id": "wHwH786QRwNO"
      },
      "source": [
        "# `pass`\n",
        "Esta sentencia no realiza nada. Usualmente se usa durante el desarrollo de un programa, para indicar que un bloque está pendiente de realizar, y así evitar que se genere un error."
      ]
    },
    {
      "cell_type": "code",
      "metadata": {
        "id": "vJ7IvtrsRwNP"
      },
      "source": [
        "def pasos_para_vivir_sin_problemas(nombre):\n",
        "    pass\n",
        "\n",
        "pasos_para_vivir_sin_problemas('yo')"
      ],
      "execution_count": null,
      "outputs": []
    },
    {
      "cell_type": "code",
      "metadata": {
        "id": "J7hTKFLHRwNP",
        "outputId": "34f057f5-e000-4ba9-9bdd-d1650d2f80ad"
      },
      "source": [
        "def pasos_para_vivir_sin_problemas(nombre):\n",
        "\n",
        "pasos_para_vivir_sin_problemas('yo')"
      ],
      "execution_count": null,
      "outputs": [
        {
          "ename": "IndentationError",
          "evalue": "expected an indented block (<ipython-input-120-d34593c3a56c>, line 3)",
          "output_type": "error",
          "traceback": [
            "\u001b[1;36m  File \u001b[1;32m\"<ipython-input-120-d34593c3a56c>\"\u001b[1;36m, line \u001b[1;32m3\u001b[0m\n\u001b[1;33m    pasos_para_vivir_sin_problemas('yo')\u001b[0m\n\u001b[1;37m                                 ^\u001b[0m\n\u001b[1;31mIndentationError\u001b[0m\u001b[1;31m:\u001b[0m expected an indented block\n"
          ]
        }
      ]
    },
    {
      "cell_type": "code",
      "metadata": {
        "id": "64ZFdPx2RwNP"
      },
      "source": [
        ""
      ],
      "execution_count": null,
      "outputs": []
    },
    {
      "cell_type": "code",
      "metadata": {
        "id": "mxnz2bEqRwNP"
      },
      "source": [
        ""
      ],
      "execution_count": null,
      "outputs": []
    },
    {
      "cell_type": "code",
      "metadata": {
        "id": "duZfrprvRwNP"
      },
      "source": [
        ""
      ],
      "execution_count": null,
      "outputs": []
    },
    {
      "cell_type": "code",
      "metadata": {
        "id": "0ic4QafORwNQ"
      },
      "source": [
        ""
      ],
      "execution_count": null,
      "outputs": []
    },
    {
      "cell_type": "code",
      "metadata": {
        "id": "TzyZomJVRwNQ"
      },
      "source": [
        ""
      ],
      "execution_count": null,
      "outputs": []
    },
    {
      "cell_type": "markdown",
      "metadata": {
        "id": "l2eBJ0SwRwNQ"
      },
      "source": [
        "# Reto 2\n",
        "Realice una función `promedio` que encuentre el promedio de una tupla o una lista "
      ]
    },
    {
      "cell_type": "markdown",
      "metadata": {
        "id": "-vUnqbp9RwNQ"
      },
      "source": [
        "# Ejemplo de promedio\n",
        "A continuación, haremos dos ejemplos para calcular el promedio \n",
        "\n",
        "$promedio(v)= \\frac{1}{n} \\sum_{i=1}^n v_i$\n",
        "\n",
        "donde $\\vec{v}=\\left(\\matrix{v_1\\\\v_2\\\\ \\vdots \\\\v_n}\\right)$"
      ]
    },
    {
      "cell_type": "code",
      "metadata": {
        "id": "LwureIisRwNQ"
      },
      "source": [
        "def promedio_1(numeros):\n",
        "    acumulador = 0\n",
        "    for numero in numeros:\n",
        "        acumulador = acumulador + numero\n",
        "    return acumulador/len(numeros)"
      ],
      "execution_count": null,
      "outputs": []
    },
    {
      "cell_type": "code",
      "metadata": {
        "id": "aGZyTQ0xRwNR",
        "outputId": "f2a1d9ab-7526-4223-ef93-433d7854eae4"
      },
      "source": [
        "u"
      ],
      "execution_count": null,
      "outputs": [
        {
          "data": {
            "text/plain": [
              "[11, 88, 99, 44]"
            ]
          },
          "execution_count": 113,
          "metadata": {},
          "output_type": "execute_result"
        }
      ]
    },
    {
      "cell_type": "code",
      "metadata": {
        "id": "cxwzqfHTRwNR",
        "outputId": "715a5af5-bd6f-4a42-a104-7807a05fda31"
      },
      "source": [
        "promedio_1(u)"
      ],
      "execution_count": null,
      "outputs": [
        {
          "data": {
            "text/plain": [
              "60.5"
            ]
          },
          "execution_count": 108,
          "metadata": {},
          "output_type": "execute_result"
        }
      ]
    },
    {
      "cell_type": "code",
      "metadata": {
        "id": "5qIm7jUpRwNS",
        "outputId": "3a8d27cc-d5d7-41d9-a141-d4fdec131bd4"
      },
      "source": [
        "v"
      ],
      "execution_count": null,
      "outputs": [
        {
          "data": {
            "text/plain": [
              "(11, 22, 35, 44)"
            ]
          },
          "execution_count": 114,
          "metadata": {},
          "output_type": "execute_result"
        }
      ]
    },
    {
      "cell_type": "code",
      "metadata": {
        "id": "X32zEfVsRwNS",
        "outputId": "29db24ca-7439-4af1-875c-a8fabbd69b8e"
      },
      "source": [
        "promedio_1(v)"
      ],
      "execution_count": null,
      "outputs": [
        {
          "data": {
            "text/plain": [
              "28.0"
            ]
          },
          "execution_count": 109,
          "metadata": {},
          "output_type": "execute_result"
        }
      ]
    },
    {
      "cell_type": "code",
      "metadata": {
        "id": "s7Gn8_xyRwNS"
      },
      "source": [
        "def promedio_2(numeros):\n",
        "    acumulador = 0\n",
        "    for i in range(len(numeros)):\n",
        "        acumulador = acumulador + numeros[i]\n",
        "    return acumulador/len(numeros)"
      ],
      "execution_count": null,
      "outputs": []
    },
    {
      "cell_type": "code",
      "metadata": {
        "id": "oUBDROI5RwNS",
        "outputId": "52c2e34b-3ffc-4a96-f7c6-347b09386b66"
      },
      "source": [
        "u"
      ],
      "execution_count": null,
      "outputs": [
        {
          "data": {
            "text/plain": [
              "[11, 88, 99, 44]"
            ]
          },
          "execution_count": 115,
          "metadata": {},
          "output_type": "execute_result"
        }
      ]
    },
    {
      "cell_type": "code",
      "metadata": {
        "id": "XRyvhQq1RwNS",
        "outputId": "fe6a5451-b4ba-477a-85b4-6ebbbe504dd4"
      },
      "source": [
        "promedio_2(u)"
      ],
      "execution_count": null,
      "outputs": [
        {
          "data": {
            "text/plain": [
              "60.5"
            ]
          },
          "execution_count": 111,
          "metadata": {},
          "output_type": "execute_result"
        }
      ]
    },
    {
      "cell_type": "code",
      "metadata": {
        "id": "9imI1jBCRwNS",
        "outputId": "eba179d7-8774-409c-badd-eb70cd1b0c2d"
      },
      "source": [
        "v"
      ],
      "execution_count": null,
      "outputs": [
        {
          "data": {
            "text/plain": [
              "(11, 22, 35, 44)"
            ]
          },
          "execution_count": 116,
          "metadata": {},
          "output_type": "execute_result"
        }
      ]
    },
    {
      "cell_type": "code",
      "metadata": {
        "id": "GvdH1FI-RwNT",
        "outputId": "dde4f59d-e6ce-4a99-f06b-cc3f9bfa4009"
      },
      "source": [
        "promedio_2(v)"
      ],
      "execution_count": null,
      "outputs": [
        {
          "data": {
            "text/plain": [
              "28.0"
            ]
          },
          "execution_count": 112,
          "metadata": {},
          "output_type": "execute_result"
        }
      ]
    },
    {
      "cell_type": "code",
      "metadata": {
        "id": "BFGMY8ymRwNT"
      },
      "source": [
        ""
      ],
      "execution_count": null,
      "outputs": []
    },
    {
      "cell_type": "code",
      "metadata": {
        "id": "IR0kNRIuRwNT"
      },
      "source": [
        ""
      ],
      "execution_count": null,
      "outputs": []
    }
  ]
}