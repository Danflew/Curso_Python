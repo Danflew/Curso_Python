{
  "cells": [
    {
      "cell_type": "markdown",
      "metadata": {
        "id": "view-in-github",
        "colab_type": "text"
      },
      "source": [
        "<a href=\"https://colab.research.google.com/github/GerardoMunoz/Curso_Python/blob/main/Conjunto_Lista_Tupla.ipynb\" target=\"_parent\"><img src=\"https://colab.research.google.com/assets/colab-badge.svg\" alt=\"Open In Colab\"/></a>"
      ]
    },
    {
      "cell_type": "markdown",
      "metadata": {
        "id": "HXZ5LPJRE3O_"
      },
      "source": [
        "# Conjuntos por extensión y por comprensión"
      ]
    },
    {
      "cell_type": "markdown",
      "metadata": {
        "id": "lbH8fk9uRvG_"
      },
      "source": [
        "## Conjuntos por extensión"
      ]
    },
    {
      "cell_type": "code",
      "execution_count": 1,
      "metadata": {
        "colab": {
          "base_uri": "https://localhost:8080/"
        },
        "id": "XIg-SjWyFD4o",
        "outputId": "4dbdbd19-3b6a-44bd-900c-c1dda604dccb"
      },
      "outputs": [
        {
          "output_type": "execute_result",
          "data": {
            "text/plain": [
              "{0, 3, 6, 9, 12, 15, 18, 21, 24, 27}"
            ]
          },
          "metadata": {},
          "execution_count": 1
        }
      ],
      "source": [
        "diez_mult_de_3_01={0,3,6,9,12,15,18,21,24,27}\n",
        "diez_mult_de_3_01"
      ]
    },
    {
      "cell_type": "markdown",
      "metadata": {
        "id": "i-fr8QvKR0DP"
      },
      "source": [
        "## Pertenencia a un conjunto"
      ]
    },
    {
      "cell_type": "code",
      "execution_count": 2,
      "metadata": {
        "colab": {
          "base_uri": "https://localhost:8080/"
        },
        "id": "BR3X3tzpGSgt",
        "outputId": "2f2e0d95-ff9b-4093-b0cf-1eae692766cb"
      },
      "outputs": [
        {
          "output_type": "execute_result",
          "data": {
            "text/plain": [
              "False"
            ]
          },
          "metadata": {},
          "execution_count": 2
        }
      ],
      "source": [
        "2 in diez_mult_de_3_01"
      ]
    },
    {
      "cell_type": "code",
      "execution_count": 3,
      "metadata": {
        "colab": {
          "base_uri": "https://localhost:8080/"
        },
        "id": "G1FlmqFwGXK9",
        "outputId": "8cf6b609-aa4a-4d47-b0f4-84f7531db143"
      },
      "outputs": [
        {
          "output_type": "execute_result",
          "data": {
            "text/plain": [
              "True"
            ]
          },
          "metadata": {},
          "execution_count": 3
        }
      ],
      "source": [
        "6 in diez_mult_de_3_01"
      ]
    },
    {
      "cell_type": "markdown",
      "metadata": {
        "id": "p_xlesLYR4a6"
      },
      "source": [
        "## Conjuntos no preservan el orden original"
      ]
    },
    {
      "cell_type": "code",
      "execution_count": 4,
      "metadata": {
        "colab": {
          "base_uri": "https://localhost:8080/"
        },
        "id": "SKW4uTdMFtHm",
        "outputId": "6fd15614-bec5-41b2-8ee2-1959106c9098"
      },
      "outputs": [
        {
          "output_type": "execute_result",
          "data": {
            "text/plain": [
              "{0, 3, 6, 9, 12, 15, 18, 21, 24, 27}"
            ]
          },
          "metadata": {},
          "execution_count": 4
        }
      ],
      "source": [
        "diez_mult_de_3_02={27,12,0,3,6,9,15,18,21,24}\n",
        "diez_mult_de_3_02"
      ]
    },
    {
      "cell_type": "markdown",
      "metadata": {
        "id": "nmUjTZPrR_wT"
      },
      "source": [
        "## Conjunto no repiten elemenentos"
      ]
    },
    {
      "cell_type": "code",
      "execution_count": 5,
      "metadata": {
        "id": "HQUQvEZHFtDc",
        "colab": {
          "base_uri": "https://localhost:8080/"
        },
        "outputId": "9d63b895-f392-4fc8-9f64-5b8d4fd25bae"
      },
      "outputs": [
        {
          "output_type": "execute_result",
          "data": {
            "text/plain": [
              "{0, 3, 6, 9, 12, 15, 18, 21, 24, 27}"
            ]
          },
          "metadata": {},
          "execution_count": 5
        }
      ],
      "source": [
        "diez_mult_de_3_03={0,3,6,9,12,15,18,21,24,27,27,27,27}\n",
        "diez_mult_de_3_03"
      ]
    },
    {
      "cell_type": "markdown",
      "source": [
        "## Adicionar un elemento a un conjunto"
      ],
      "metadata": {
        "id": "OSLjrAhGXZ9z"
      }
    },
    {
      "cell_type": "code",
      "source": [
        "diez_mult_de_3_03.add(30)\n",
        "diez_mult_de_3_03"
      ],
      "metadata": {
        "colab": {
          "base_uri": "https://localhost:8080/"
        },
        "id": "_CBP3tn7XfUb",
        "outputId": "9a3d8ba1-ddd0-448f-93f7-48f48a40e4a9"
      },
      "execution_count": 6,
      "outputs": [
        {
          "output_type": "execute_result",
          "data": {
            "text/plain": [
              "{0, 3, 6, 9, 12, 15, 18, 21, 24, 27, 30}"
            ]
          },
          "metadata": {},
          "execution_count": 6
        }
      ]
    },
    {
      "cell_type": "markdown",
      "source": [
        "## Borrar un elemento de un conjunto"
      ],
      "metadata": {
        "id": "RL4NV2GXXwJF"
      }
    },
    {
      "cell_type": "code",
      "source": [
        "diez_mult_de_3_03.discard(15)\n",
        "diez_mult_de_3_03"
      ],
      "metadata": {
        "colab": {
          "base_uri": "https://localhost:8080/"
        },
        "id": "EwwBLwBLXpzo",
        "outputId": "a80ca2f1-b64d-4d1b-8b07-964bf04a28d8"
      },
      "execution_count": 7,
      "outputs": [
        {
          "output_type": "execute_result",
          "data": {
            "text/plain": [
              "{0, 3, 6, 9, 12, 18, 21, 24, 27, 30}"
            ]
          },
          "metadata": {},
          "execution_count": 7
        }
      ]
    },
    {
      "cell_type": "markdown",
      "metadata": {
        "id": "zMn6XOdWV20g"
      },
      "source": [
        "## Conjuntos por comprensión"
      ]
    },
    {
      "cell_type": "code",
      "execution_count": 8,
      "metadata": {
        "id": "BussjY_cFs6q",
        "colab": {
          "base_uri": "https://localhost:8080/"
        },
        "outputId": "e679423f-6769-40a7-aa68-a784fe9512da"
      },
      "outputs": [
        {
          "output_type": "execute_result",
          "data": {
            "text/plain": [
              "{0, 3, 6, 9, 12, 15, 18, 21, 24, 27}"
            ]
          },
          "metadata": {},
          "execution_count": 8
        }
      ],
      "source": [
        "diez_mult_de_3_04={3*x for x in range(10)}\n",
        "diez_mult_de_3_04"
      ]
    },
    {
      "cell_type": "markdown",
      "metadata": {
        "id": "2cotUWUHQ1B_"
      },
      "source": [
        "# Listas por extensión y por comprensión"
      ]
    },
    {
      "cell_type": "markdown",
      "metadata": {
        "id": "DWGqYUnFQ1Co"
      },
      "source": [
        "## Listas por extensión"
      ]
    },
    {
      "cell_type": "code",
      "execution_count": 9,
      "metadata": {
        "colab": {
          "base_uri": "https://localhost:8080/"
        },
        "outputId": "ab26c705-b7c5-435b-8124-c3964b8b3ec7",
        "id": "APw6wV3BQ1Cq"
      },
      "outputs": [
        {
          "output_type": "execute_result",
          "data": {
            "text/plain": [
              "[0, 3, 6, 9, 12, 15, 18, 21, 24, 27]"
            ]
          },
          "metadata": {},
          "execution_count": 9
        }
      ],
      "source": [
        "diez_mult_de_3_11=[0,3,6,9,12,15,18,21,24,27]\n",
        "diez_mult_de_3_11"
      ]
    },
    {
      "cell_type": "markdown",
      "metadata": {
        "id": "9jAQlQvlQ1Cx"
      },
      "source": [
        "## Pertenencia a una lista"
      ]
    },
    {
      "cell_type": "code",
      "execution_count": 10,
      "metadata": {
        "colab": {
          "base_uri": "https://localhost:8080/"
        },
        "outputId": "347a8e88-2e0b-41cb-cc33-3d58b1d1c458",
        "id": "QIplaXADQ1Cy"
      },
      "outputs": [
        {
          "output_type": "execute_result",
          "data": {
            "text/plain": [
              "False"
            ]
          },
          "metadata": {},
          "execution_count": 10
        }
      ],
      "source": [
        "2 in diez_mult_de_3_11"
      ]
    },
    {
      "cell_type": "code",
      "execution_count": 11,
      "metadata": {
        "colab": {
          "base_uri": "https://localhost:8080/"
        },
        "outputId": "356a1a75-a369-42dc-fb22-bf8a7962678b",
        "id": "9T9F6KWBQ1C0"
      },
      "outputs": [
        {
          "output_type": "execute_result",
          "data": {
            "text/plain": [
              "True"
            ]
          },
          "metadata": {},
          "execution_count": 11
        }
      ],
      "source": [
        "6 in diez_mult_de_3_11"
      ]
    },
    {
      "cell_type": "markdown",
      "metadata": {
        "id": "agBbbOSIQ1C2"
      },
      "source": [
        "## Listas sí preservan el orden original"
      ]
    },
    {
      "cell_type": "code",
      "execution_count": 12,
      "metadata": {
        "colab": {
          "base_uri": "https://localhost:8080/"
        },
        "outputId": "8945942b-3657-42c2-a141-42c3f4938fbd",
        "id": "jmgVCU3oQ1C4"
      },
      "outputs": [
        {
          "output_type": "execute_result",
          "data": {
            "text/plain": [
              "[27, 12, 0, 3, 6, 9, 15, 18, 21, 24]"
            ]
          },
          "metadata": {},
          "execution_count": 12
        }
      ],
      "source": [
        "diez_mult_de_3_12=[27,12,0,3,6,9,15,18,21,24]\n",
        "diez_mult_de_3_12"
      ]
    },
    {
      "cell_type": "markdown",
      "metadata": {
        "id": "YGvdDj4HQ1C6"
      },
      "source": [
        "## Listas sí repiten elemenentos"
      ]
    },
    {
      "cell_type": "code",
      "execution_count": 13,
      "metadata": {
        "colab": {
          "base_uri": "https://localhost:8080/"
        },
        "id": "rsXlbnitQ1C7",
        "outputId": "cbfb1a3a-6b5d-4813-d925-ddf95de9ffbf"
      },
      "outputs": [
        {
          "output_type": "execute_result",
          "data": {
            "text/plain": [
              "[0, 3, 6, 9, 12, 15, 18, 21, 24, 27, 27, 27, 27]"
            ]
          },
          "metadata": {},
          "execution_count": 13
        }
      ],
      "source": [
        "diez_mult_de_3_13=[0,3,6,9,12,15,18,21,24,27,27,27,27]\n",
        "diez_mult_de_3_13"
      ]
    },
    {
      "cell_type": "markdown",
      "source": [
        "## Indexar los elementos de una lista para leerlos y escribirlos"
      ],
      "metadata": {
        "id": "HMydst56akL4"
      }
    },
    {
      "cell_type": "code",
      "source": [
        "diez_mult_de_3_13[2]"
      ],
      "metadata": {
        "id": "MZUv6YPiayr6",
        "colab": {
          "base_uri": "https://localhost:8080/"
        },
        "outputId": "347e0df2-af8b-4b17-b8fb-fedd5f063b69"
      },
      "execution_count": 14,
      "outputs": [
        {
          "output_type": "execute_result",
          "data": {
            "text/plain": [
              "6"
            ]
          },
          "metadata": {},
          "execution_count": 14
        }
      ]
    },
    {
      "cell_type": "code",
      "source": [
        "diez_mult_de_3_13[2]=60\n",
        "diez_mult_de_3_13"
      ],
      "metadata": {
        "id": "LvERNV8ta3nw",
        "colab": {
          "base_uri": "https://localhost:8080/"
        },
        "outputId": "def3b72f-a430-47de-d628-b216da16185a"
      },
      "execution_count": 15,
      "outputs": [
        {
          "output_type": "execute_result",
          "data": {
            "text/plain": [
              "[0, 3, 60, 9, 12, 15, 18, 21, 24, 27, 27, 27, 27]"
            ]
          },
          "metadata": {},
          "execution_count": 15
        }
      ]
    },
    {
      "cell_type": "markdown",
      "source": [
        "## Adicionar un elemento al final lista"
      ],
      "metadata": {
        "id": "dro_ib_uaWwZ"
      }
    },
    {
      "cell_type": "code",
      "source": [
        "diez_mult_de_3_13.append(30)\n",
        "diez_mult_de_3_13"
      ],
      "metadata": {
        "colab": {
          "base_uri": "https://localhost:8080/"
        },
        "outputId": "8b59efd1-a899-42fb-83c0-9bc8ff1b1299",
        "id": "Qfkx3yr1aWxM"
      },
      "execution_count": 16,
      "outputs": [
        {
          "output_type": "execute_result",
          "data": {
            "text/plain": [
              "[0, 3, 60, 9, 12, 15, 18, 21, 24, 27, 27, 27, 27, 30]"
            ]
          },
          "metadata": {},
          "execution_count": 16
        }
      ]
    },
    {
      "cell_type": "markdown",
      "source": [
        "## Retirar el último elemento de una lista"
      ],
      "metadata": {
        "id": "fyBj4X4rdDLD"
      }
    },
    {
      "cell_type": "code",
      "source": [
        "diez_mult_de_3_13.pop()\n",
        "diez_mult_de_3_13"
      ],
      "metadata": {
        "colab": {
          "base_uri": "https://localhost:8080/"
        },
        "outputId": "ac01e379-b9fe-451e-c7e1-f650906bab20",
        "id": "P_5OjoKXaWxP"
      },
      "execution_count": 17,
      "outputs": [
        {
          "output_type": "execute_result",
          "data": {
            "text/plain": [
              "[0, 3, 60, 9, 12, 15, 18, 21, 24, 27, 27, 27, 27]"
            ]
          },
          "metadata": {},
          "execution_count": 17
        }
      ]
    },
    {
      "cell_type": "markdown",
      "metadata": {
        "id": "Rhw9S6o8Q1C9"
      },
      "source": [
        "## Listas por comprensión"
      ]
    },
    {
      "cell_type": "code",
      "execution_count": 18,
      "metadata": {
        "colab": {
          "base_uri": "https://localhost:8080/"
        },
        "id": "MgEHBgVWQ1C-",
        "outputId": "a9659fd4-d7dd-445d-801e-a78d4882ceeb"
      },
      "outputs": [
        {
          "output_type": "execute_result",
          "data": {
            "text/plain": [
              "[0, 3, 6, 9, 12, 15, 18, 21, 24, 27]"
            ]
          },
          "metadata": {},
          "execution_count": 18
        }
      ],
      "source": [
        "diez_mult_de_3_14=[3*x for x in range(10)]\n",
        "diez_mult_de_3_14"
      ]
    },
    {
      "cell_type": "markdown",
      "metadata": {
        "id": "Jax0fRDtXd6U"
      },
      "source": [
        "## Lista creada usando un ciclo for "
      ]
    },
    {
      "cell_type": "code",
      "source": [
        "diez_mult_de_3_15 = []\n",
        "for x in range(10):\n",
        "  diez_mult_de_3_15.append(3*x)\n",
        "\n",
        "diez_mult_de_3_15"
      ],
      "metadata": {
        "colab": {
          "base_uri": "https://localhost:8080/"
        },
        "id": "Wm97fMz5UFDE",
        "outputId": "fc9b2d12-130e-4b9c-86d5-7b1cb27f3a77"
      },
      "execution_count": 19,
      "outputs": [
        {
          "output_type": "execute_result",
          "data": {
            "text/plain": [
              "[0, 3, 6, 9, 12, 15, 18, 21, 24, 27]"
            ]
          },
          "metadata": {},
          "execution_count": 19
        }
      ]
    },
    {
      "cell_type": "markdown",
      "metadata": {
        "id": "_AU9tJWgVzlJ"
      },
      "source": [
        "# Tuplas (por extensión) y generadores (por comprensión)"
      ]
    },
    {
      "cell_type": "markdown",
      "metadata": {
        "id": "yLQ0E5v-Vzlr"
      },
      "source": [
        "## Tuplas por extensión"
      ]
    },
    {
      "cell_type": "code",
      "execution_count": 20,
      "metadata": {
        "colab": {
          "base_uri": "https://localhost:8080/"
        },
        "outputId": "5725ab74-3931-48c7-c91b-1a681ee66761",
        "id": "EKzodP-3Vzlt"
      },
      "outputs": [
        {
          "output_type": "execute_result",
          "data": {
            "text/plain": [
              "(0, 3, 6, 9, 12, 15, 18, 21, 24, 27)"
            ]
          },
          "metadata": {},
          "execution_count": 20
        }
      ],
      "source": [
        "diez_mult_de_3_21=(0,3,6,9,12,15,18,21,24,27)\n",
        "diez_mult_de_3_21"
      ]
    },
    {
      "cell_type": "markdown",
      "metadata": {
        "id": "r7qanSXFVzlw"
      },
      "source": [
        "## Pertenencia a una tupla"
      ]
    },
    {
      "cell_type": "code",
      "execution_count": 21,
      "metadata": {
        "colab": {
          "base_uri": "https://localhost:8080/"
        },
        "outputId": "f6611c0f-4175-49b9-8426-d8b1ae0ce4be",
        "id": "b5OKuJdxVzlx"
      },
      "outputs": [
        {
          "output_type": "execute_result",
          "data": {
            "text/plain": [
              "True"
            ]
          },
          "metadata": {},
          "execution_count": 21
        }
      ],
      "source": [
        "12 in diez_mult_de_3_21"
      ]
    },
    {
      "cell_type": "code",
      "execution_count": 22,
      "metadata": {
        "colab": {
          "base_uri": "https://localhost:8080/"
        },
        "outputId": "8481877a-5e66-4f83-8698-1cc4c5d34137",
        "id": "8B0WNxmFVzly"
      },
      "outputs": [
        {
          "output_type": "execute_result",
          "data": {
            "text/plain": [
              "True"
            ]
          },
          "metadata": {},
          "execution_count": 22
        }
      ],
      "source": [
        "6 in diez_mult_de_3_21"
      ]
    },
    {
      "cell_type": "markdown",
      "metadata": {
        "id": "EpEGIXvJVzl0"
      },
      "source": [
        "## Tuplas sí preservan el orden original"
      ]
    },
    {
      "cell_type": "code",
      "execution_count": 23,
      "metadata": {
        "colab": {
          "base_uri": "https://localhost:8080/"
        },
        "outputId": "6b349c94-642b-48b4-f46a-3e53ef58387c",
        "id": "7H2eWnSOVzl1"
      },
      "outputs": [
        {
          "output_type": "execute_result",
          "data": {
            "text/plain": [
              "(27, 12, 0, 3, 6, 9, 15, 18, 21, 24)"
            ]
          },
          "metadata": {},
          "execution_count": 23
        }
      ],
      "source": [
        "diez_mult_de_3_22=(27,12,0,3,6,9,15,18,21,24)\n",
        "diez_mult_de_3_22"
      ]
    },
    {
      "cell_type": "markdown",
      "metadata": {
        "id": "o9J5P5gmVzl2"
      },
      "source": [
        "## Tuplas sí repiten elemenentos"
      ]
    },
    {
      "cell_type": "code",
      "execution_count": 24,
      "metadata": {
        "colab": {
          "base_uri": "https://localhost:8080/"
        },
        "outputId": "b431381e-ed40-481a-f603-9e909408271e",
        "id": "biddLC5bVzl3"
      },
      "outputs": [
        {
          "output_type": "execute_result",
          "data": {
            "text/plain": [
              "(0, 3, 6, 9, 12, 15, 18, 21, 24, 27, 27, 27, 27)"
            ]
          },
          "metadata": {},
          "execution_count": 24
        }
      ],
      "source": [
        "diez_mult_de_3_23=(0,3,6,9,12,15,18,21,24,27,27,27,27)\n",
        "diez_mult_de_3_23"
      ]
    },
    {
      "cell_type": "markdown",
      "source": [
        "## Indexar los elementos de una tupla para leerlos, pero **no** para escribirlos"
      ],
      "metadata": {
        "id": "nRcshkybeShy"
      }
    },
    {
      "cell_type": "code",
      "source": [
        "diez_mult_de_3_23[2]"
      ],
      "metadata": {
        "id": "HzQGd_JreSiV",
        "colab": {
          "base_uri": "https://localhost:8080/"
        },
        "outputId": "d86dd822-ad2e-4892-a3a2-e0bfc9473f26"
      },
      "execution_count": 25,
      "outputs": [
        {
          "output_type": "execute_result",
          "data": {
            "text/plain": [
              "6"
            ]
          },
          "metadata": {},
          "execution_count": 25
        }
      ]
    },
    {
      "cell_type": "code",
      "source": [
        "try:\n",
        "  diez_mult_de_3_23[2]=60\n",
        "except TypeError as err:\n",
        "  print('Error: ',err,'\\n')\n",
        "\n",
        "\n",
        "diez_mult_de_3_23"
      ],
      "metadata": {
        "id": "F97XYKLaeSiX",
        "colab": {
          "base_uri": "https://localhost:8080/"
        },
        "outputId": "dcb39e6c-822c-455a-b3d0-501d3d39b05b"
      },
      "execution_count": 30,
      "outputs": [
        {
          "output_type": "stream",
          "name": "stdout",
          "text": [
            "Error:  'tuple' object does not support item assignment \n",
            "\n"
          ]
        },
        {
          "output_type": "execute_result",
          "data": {
            "text/plain": [
              "(0, 3, 6, 9, 12, 15, 18, 21, 24, 27, 27, 27, 27)"
            ]
          },
          "metadata": {},
          "execution_count": 30
        }
      ]
    },
    {
      "cell_type": "markdown",
      "source": [
        "## Las tuplas no pueden cambiar sus elementos, son **inmutables**"
      ],
      "metadata": {
        "id": "cthIQlqmeUcc"
      }
    },
    {
      "cell_type": "markdown",
      "metadata": {
        "id": "iyahgJT0Vzl5"
      },
      "source": [
        "## Generadores (por comprensión)\n",
        "\n",
        "Los generadores no consumen memoria, ya que sólo se calculan cuando se requieren."
      ]
    },
    {
      "cell_type": "code",
      "execution_count": 32,
      "metadata": {
        "colab": {
          "base_uri": "https://localhost:8080/"
        },
        "outputId": "fd8ad2fb-90e4-42e4-ea99-e6e4c938a93f",
        "id": "Iz51myp6Vzl6"
      },
      "outputs": [
        {
          "output_type": "execute_result",
          "data": {
            "text/plain": [
              "<generator object <genexpr> at 0x7f2b3a27a650>"
            ]
          },
          "metadata": {},
          "execution_count": 32
        }
      ],
      "source": [
        "diez_mult_de_3_24=(3*x for x in range(10))\n",
        "diez_mult_de_3_24"
      ]
    },
    {
      "cell_type": "markdown",
      "source": [
        "Para calcular todos sus valores se pueden convertir a listas o a tuplas"
      ],
      "metadata": {
        "id": "Mz7WDpoMgIrw"
      }
    },
    {
      "cell_type": "code",
      "source": [
        "list(diez_mult_de_3_24)"
      ],
      "metadata": {
        "id": "8mgt35mzgHUI",
        "colab": {
          "base_uri": "https://localhost:8080/"
        },
        "outputId": "dba22070-5e7b-4579-def6-f8ab82f5d85e"
      },
      "execution_count": 33,
      "outputs": [
        {
          "output_type": "execute_result",
          "data": {
            "text/plain": [
              "[0, 3, 6, 9, 12, 15, 18, 21, 24, 27]"
            ]
          },
          "metadata": {},
          "execution_count": 33
        }
      ]
    },
    {
      "cell_type": "code",
      "source": [
        "tuple(diez_mult_de_3_24)"
      ],
      "metadata": {
        "id": "LiXXerqkghOR",
        "colab": {
          "base_uri": "https://localhost:8080/"
        },
        "outputId": "70d99354-2813-485d-cabc-71b723d36797"
      },
      "execution_count": 34,
      "outputs": [
        {
          "output_type": "execute_result",
          "data": {
            "text/plain": [
              "()"
            ]
          },
          "metadata": {},
          "execution_count": 34
        }
      ]
    },
    {
      "cell_type": "markdown",
      "source": [
        "Pero despúes de leido es necesario crear un nuevo generador"
      ],
      "metadata": {
        "id": "bIgAb1TUjUnm"
      }
    },
    {
      "cell_type": "code",
      "execution_count": 35,
      "metadata": {
        "colab": {
          "base_uri": "https://localhost:8080/"
        },
        "outputId": "d5570ad9-8988-4bbe-d5df-5445d42a053b",
        "id": "9v8-teBrjdtV"
      },
      "outputs": [
        {
          "output_type": "execute_result",
          "data": {
            "text/plain": [
              "<generator object <genexpr> at 0x7f2b3a2a8ad0>"
            ]
          },
          "metadata": {},
          "execution_count": 35
        }
      ],
      "source": [
        "diez_mult_de_3_25=(3*x for x in range(10))\n",
        "diez_mult_de_3_25"
      ]
    },
    {
      "cell_type": "markdown",
      "source": [
        "Para calcular todos sus valores se pueden convertir a listas o a tuplas"
      ],
      "metadata": {
        "id": "SB8Mc9P5jdtX"
      }
    },
    {
      "cell_type": "code",
      "source": [
        "tuple(diez_mult_de_3_25)"
      ],
      "metadata": {
        "colab": {
          "base_uri": "https://localhost:8080/"
        },
        "outputId": "88731ad9-6f00-4bde-cce4-7b49870087ab",
        "id": "ozyJ7PUnjdtY"
      },
      "execution_count": 38,
      "outputs": [
        {
          "output_type": "execute_result",
          "data": {
            "text/plain": [
              "(0, 3, 6, 9, 12, 15, 18, 21, 24, 27)"
            ]
          },
          "metadata": {},
          "execution_count": 38
        }
      ]
    },
    {
      "cell_type": "code",
      "source": [
        "list(diez_mult_de_3_25)"
      ],
      "metadata": {
        "colab": {
          "base_uri": "https://localhost:8080/"
        },
        "outputId": "a039cbd9-1c9c-47ef-8214-c8475fc46578",
        "id": "96GaP8N2jdtZ"
      },
      "execution_count": 39,
      "outputs": [
        {
          "output_type": "execute_result",
          "data": {
            "text/plain": [
              "[]"
            ]
          },
          "metadata": {},
          "execution_count": 39
        }
      ]
    },
    {
      "cell_type": "markdown",
      "source": [
        "|       | Conjunto | Lista | Tupla |\n",
        "|-------|----------|-------|-------|\n",
        "|Extensión| `{3,6,9}`  |`[3,6,9]`|`(3,6,9)`|\n",
        "|Pertenecia| `in`  | `in`  | `in`  |\n",
        "|Orden original| No | Sí | Sí |\n",
        "|Repetir elementos| No | Sí | Sí |\n",
        "|Usar índices | No | Sí | Sí |\n",
        "|Inmutables| No | No | Sí |\n",
        "|Adicionar elemento| `add` | `append` | No |\n",
        "|Borrar elemento| `discard` | `pop` | No |\n",
        "|Comprensión| Sí | Sí | Gen. |\n",
        "\n",
        "\n",
        "\n",
        "\n",
        "\n"
      ],
      "metadata": {
        "id": "sKpnUsHlosFn"
      }
    }
  ],
  "metadata": {
    "colab": {
      "collapsed_sections": [],
      "name": "Conjunto_Lista_Tupla.ipynb",
      "provenance": [],
      "include_colab_link": true
    },
    "kernelspec": {
      "display_name": "Python 3",
      "name": "python3"
    },
    "language_info": {
      "name": "python"
    }
  },
  "nbformat": 4,
  "nbformat_minor": 0
}