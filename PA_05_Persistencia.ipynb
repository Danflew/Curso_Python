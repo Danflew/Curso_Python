{
 "cells": [
  {
   "cell_type": "markdown",
   "metadata": {},
   "source": [
    "# Lo que hemos visto hasta ahora\n",
    "Primero vimos los tipos de datos:\n",
    "* Flotante: `float` como `3.14`\n",
    "* Entero: `int` como `2021`\n",
    "* Booleano: `bool` que son `True` y `False`\n",
    "* Un tipo que representa la nada: `NoneType` con el único valor `None`\n",
    "\n",
    "También vimos unos datos que se podían iterar. Los cuales se dividían en dos grupos:\n",
    "* Inmutables:\n",
    "  * cadenas: `str` como 'Hola Mundo' o como \"Hola otra vez\"\n",
    "  * tuplas: `tuple` como `2021,  3.14,  'Hola Mundo'`\n",
    "* Mutables:\n",
    "  * listas: `list` como `[2021,  3.14,  'Hola otra vez']`\n",
    "  * conjuntos: `set` como `{2021,  3.14,  'Hola otra vez'}`\n",
    "  * diccionarios: `dict` como `{2021:'Año de este curso',  3.14:'Perimetro sobre el radio',  'Hola Mundo':'Primera cadena usada al aprender un lenguaje de programación'}`\n",
    "  * arreglos de la librería `numpy` sobre los cuales se pueden hacer operaciones aritméticas y matriciales.  \n",
    "\n",
    "\n"
   ]
  },
  {
   "cell_type": "markdown",
   "metadata": {},
   "source": [
    "# Conjuntos.\n",
    "A diferencia de las listas y las tuplas, en un **conjunto** (`set`):\n",
    "* los elementos no se repiten, \n",
    "* pueden cambiar su puesto, \n",
    "* se definen con llaves,\n",
    "* los elementos pueden ser números, `str`, `tuple` pero no `list` (específicamente son objetos inmutables que tienen implementado el método `__hash__`)"
   ]
  },
  {
   "cell_type": "code",
   "execution_count": 76,
   "metadata": {},
   "outputs": [
    {
     "data": {
      "text/plain": [
       "{0, 1}"
      ]
     },
     "execution_count": 76,
     "metadata": {},
     "output_type": "execute_result"
    }
   ],
   "source": [
    "B = {1,0,1,0}\n",
    "B"
   ]
  },
  {
   "cell_type": "code",
   "execution_count": 77,
   "metadata": {},
   "outputs": [
    {
     "data": {
      "text/plain": [
       "{0, 1, 2, 3, 4, 5, 6, 7, 8, 9}"
      ]
     },
     "execution_count": 77,
     "metadata": {},
     "output_type": "execute_result"
    }
   ],
   "source": [
    "D = {1,3,2,6,3,9,5,7,0,4,8}\n",
    "D"
   ]
  },
  {
   "cell_type": "markdown",
   "metadata": {},
   "source": [
    "La **pertenencia a un conjunto** se comprueba con `in`"
   ]
  },
  {
   "cell_type": "code",
   "execution_count": 78,
   "metadata": {},
   "outputs": [
    {
     "data": {
      "text/plain": [
       "False"
      ]
     },
     "execution_count": 78,
     "metadata": {},
     "output_type": "execute_result"
    }
   ],
   "source": [
    "2 in B"
   ]
  },
  {
   "cell_type": "code",
   "execution_count": 79,
   "metadata": {},
   "outputs": [
    {
     "data": {
      "text/plain": [
       "True"
      ]
     },
     "execution_count": 79,
     "metadata": {},
     "output_type": "execute_result"
    }
   ],
   "source": [
    "2 in D"
   ]
  },
  {
   "cell_type": "markdown",
   "metadata": {},
   "source": [
    "En Python también se puede definir un **conjunto por comprensión**, es decir usando parámetros."
   ]
  },
  {
   "cell_type": "code",
   "execution_count": 80,
   "metadata": {},
   "outputs": [
    {
     "data": {
      "text/plain": [
       "{0, 1, 4, 9, 16, 25, 36, 49, 64, 81}"
      ]
     },
     "execution_count": 80,
     "metadata": {},
     "output_type": "execute_result"
    }
   ],
   "source": [
    "{x**2 for x in range(-5,10)}"
   ]
  },
  {
   "cell_type": "markdown",
   "metadata": {},
   "source": [
    "El **conjunto vacío** <u>no</u> se define con los corchetes sino con "
   ]
  },
  {
   "cell_type": "code",
   "execution_count": 81,
   "metadata": {},
   "outputs": [
    {
     "data": {
      "text/plain": [
       "set()"
      ]
     },
     "execution_count": 81,
     "metadata": {},
     "output_type": "execute_result"
    }
   ],
   "source": [
    "set()"
   ]
  },
  {
   "cell_type": "code",
   "execution_count": 82,
   "metadata": {},
   "outputs": [
    {
     "ename": "TypeError",
     "evalue": "unhashable type: 'list'",
     "output_type": "error",
     "traceback": [
      "\u001b[1;31m---------------------------------------------------------------------------\u001b[0m",
      "\u001b[1;31mTypeError\u001b[0m                                 Traceback (most recent call last)",
      "\u001b[1;32m<ipython-input-82-6e7c393c47f7>\u001b[0m in \u001b[0;36m<module>\u001b[1;34m\u001b[0m\n\u001b[1;32m----> 1\u001b[1;33m \u001b[1;33m{\u001b[0m\u001b[1;33m[\u001b[0m\u001b[1;36m1\u001b[0m\u001b[1;33m,\u001b[0m\u001b[1;36m2\u001b[0m\u001b[1;33m,\u001b[0m\u001b[1;36m3\u001b[0m\u001b[1;33m]\u001b[0m\u001b[1;33m,\u001b[0m\u001b[1;36m4\u001b[0m\u001b[1;33m}\u001b[0m\u001b[1;33m\u001b[0m\u001b[1;33m\u001b[0m\u001b[0m\n\u001b[0m",
      "\u001b[1;31mTypeError\u001b[0m: unhashable type: 'list'"
     ]
    }
   ],
   "source": [
    "{[1,2,3],4}"
   ]
  },
  {
   "cell_type": "markdown",
   "metadata": {},
   "source": [
    "# Diccionario\n",
    "Un **diccionario** (`dict`) se parece a un conjunto, pero a cada elemento del diccionario se le asocia un valor (elemento : valor)."
   ]
  },
  {
   "cell_type": "code",
   "execution_count": 83,
   "metadata": {},
   "outputs": [
    {
     "data": {
      "text/plain": [
       "{'nombre': 'La pandemia del 2020',\n",
       " 'año_de_publicacion': 2310,\n",
       " 'genero': 'Historia'}"
      ]
     },
     "execution_count": 83,
     "metadata": {},
     "output_type": "execute_result"
    }
   ],
   "source": [
    "libro_1={\n",
    "    'nombre':'La pandemia del 2020', \n",
    "    'año_de_publicacion':2310, \n",
    "    'genero':'Historia'\n",
    "}\n",
    "\n",
    "libro_1"
   ]
  },
  {
   "cell_type": "markdown",
   "metadata": {},
   "source": [
    "Dado un elemento es posible recuperar su valor"
   ]
  },
  {
   "cell_type": "code",
   "execution_count": 84,
   "metadata": {},
   "outputs": [
    {
     "data": {
      "text/plain": [
       "'La pandemia del 2020'"
      ]
     },
     "execution_count": 84,
     "metadata": {},
     "output_type": "execute_result"
    }
   ],
   "source": [
    "libro_1['nombre']"
   ]
  },
  {
   "cell_type": "markdown",
   "metadata": {},
   "source": [
    "De manera similar es posible adicionar, cambiar o eliminar un elemento:valor"
   ]
  },
  {
   "cell_type": "code",
   "execution_count": 85,
   "metadata": {},
   "outputs": [
    {
     "data": {
      "text/plain": [
       "{'nombre': 'La pandemia del 2020',\n",
       " 'año_de_publicacion': 2310,\n",
       " 'genero': 'Historia',\n",
       " 'autor': 'Covid Covidez'}"
      ]
     },
     "execution_count": 85,
     "metadata": {},
     "output_type": "execute_result"
    }
   ],
   "source": [
    "libro_1['autor']='Covid Covidez'\n",
    "libro_1"
   ]
  },
  {
   "cell_type": "code",
   "execution_count": 86,
   "metadata": {},
   "outputs": [
    {
     "data": {
      "text/plain": [
       "{'nombre': 'La pandemia del 2020',\n",
       " 'año_de_publicacion': 3333,\n",
       " 'genero': 'Historia',\n",
       " 'autor': 'Covid Covidez'}"
      ]
     },
     "execution_count": 86,
     "metadata": {},
     "output_type": "execute_result"
    }
   ],
   "source": [
    "libro_1['año_de_publicacion']=3333\n",
    "libro_1"
   ]
  },
  {
   "cell_type": "code",
   "execution_count": 87,
   "metadata": {},
   "outputs": [
    {
     "data": {
      "text/plain": [
       "{'nombre': 'La pandemia del 2020',\n",
       " 'año_de_publicacion': 3333,\n",
       " 'autor': 'Covid Covidez'}"
      ]
     },
     "execution_count": 87,
     "metadata": {},
     "output_type": "execute_result"
    }
   ],
   "source": [
    "del libro_1['genero']\n",
    "libro_1"
   ]
  },
  {
   "cell_type": "code",
   "execution_count": 88,
   "metadata": {},
   "outputs": [
    {
     "data": {
      "text/plain": [
       "{'nombre': 'La rutina diaria a finales del siglo XX',\n",
       " 'genero': 'Humor',\n",
       " 'año_de_publicacion': 2222}"
      ]
     },
     "execution_count": 88,
     "metadata": {},
     "output_type": "execute_result"
    }
   ],
   "source": [
    "libro_2=dict(\n",
    "    nombre='La rutina diaria a finales del siglo XX', \n",
    "    genero='Humor', \n",
    "    año_de_publicacion=2222)\n",
    "libro_2"
   ]
  },
  {
   "cell_type": "markdown",
   "metadata": {},
   "source": [
    "También es posible crear diccionarios por comprensión"
   ]
  },
  {
   "cell_type": "code",
   "execution_count": 89,
   "metadata": {},
   "outputs": [
    {
     "data": {
      "text/plain": [
       "{0: 0.7618351319926817,\n",
       " 1: 0.5766231545127123,\n",
       " 2: 0.7935493841726842,\n",
       " 3: 0.3160884411860153,\n",
       " 4: 0.1955792954747282}"
      ]
     },
     "execution_count": 89,
     "metadata": {},
     "output_type": "execute_result"
    }
   ],
   "source": [
    "import random\n",
    "clave={x:random.random() for x in range(5)}\n",
    "clave"
   ]
  },
  {
   "cell_type": "markdown",
   "metadata": {},
   "source": [
    "# `with` \n",
    "La sentencia `with` se utiliza con objetos que tienen definido los métodos `__enter__` y `__exit__` como se muestra en el siguiente ejemplo."
   ]
  },
  {
   "cell_type": "code",
   "execution_count": 90,
   "metadata": {},
   "outputs": [
    {
     "name": "stdout",
     "output_type": "stream",
     "text": [
      "Antes del bloque\n",
      "Ya entré\n",
      "Esto recibí: Hola Mundo\n",
      "Ya salí: None None None\n",
      "Después del bloque\n"
     ]
    }
   ],
   "source": [
    "class Ejemplo:\n",
    "    def __enter__(self):\n",
    "        print('Ya entré')\n",
    "        return 'Hola Mundo'\n",
    "    def __exit__(self, tipo_err, error, err_info):\n",
    "        print('Ya salí:',tipo_err, error, err_info)\n",
    "\n",
    "        \n",
    "print('Antes del bloque')        \n",
    "with Ejemplo() as x:\n",
    "    print('Esto recibí:', x)\n",
    "print('Después del bloque')"
   ]
  },
  {
   "cell_type": "code",
   "execution_count": 91,
   "metadata": {},
   "outputs": [
    {
     "name": "stdout",
     "output_type": "stream",
     "text": [
      "Antes del bloque\n",
      "Ya entré\n",
      "Vamos a dividir por cero\n",
      "Ya salí: <class 'ZeroDivisionError'> division by zero <traceback object at 0x000001FA2AF48EC8>\n"
     ]
    },
    {
     "ename": "ZeroDivisionError",
     "evalue": "division by zero",
     "output_type": "error",
     "traceback": [
      "\u001b[1;31m---------------------------------------------------------------------------\u001b[0m",
      "\u001b[1;31mZeroDivisionError\u001b[0m                         Traceback (most recent call last)",
      "\u001b[1;32m<ipython-input-91-f5185fa69be0>\u001b[0m in \u001b[0;36m<module>\u001b[1;34m\u001b[0m\n\u001b[0;32m      2\u001b[0m \u001b[1;32mwith\u001b[0m \u001b[0mEjemplo\u001b[0m\u001b[1;33m(\u001b[0m\u001b[1;33m)\u001b[0m \u001b[1;32mas\u001b[0m \u001b[0mx\u001b[0m\u001b[1;33m:\u001b[0m\u001b[1;33m\u001b[0m\u001b[1;33m\u001b[0m\u001b[0m\n\u001b[0;32m      3\u001b[0m     \u001b[0mprint\u001b[0m\u001b[1;33m(\u001b[0m\u001b[1;34m'Vamos a dividir por cero'\u001b[0m\u001b[1;33m)\u001b[0m\u001b[1;33m\u001b[0m\u001b[1;33m\u001b[0m\u001b[0m\n\u001b[1;32m----> 4\u001b[1;33m     \u001b[0mprint\u001b[0m\u001b[1;33m(\u001b[0m\u001b[1;36m1\u001b[0m\u001b[1;33m/\u001b[0m\u001b[1;36m0\u001b[0m\u001b[1;33m)\u001b[0m\u001b[1;33m\u001b[0m\u001b[1;33m\u001b[0m\u001b[0m\n\u001b[0m\u001b[0;32m      5\u001b[0m     \u001b[0mprint\u001b[0m\u001b[1;33m(\u001b[0m\u001b[1;34m'Ya dividí por cero'\u001b[0m\u001b[1;33m)\u001b[0m\u001b[1;33m\u001b[0m\u001b[1;33m\u001b[0m\u001b[0m\n\u001b[0;32m      6\u001b[0m \u001b[0mprint\u001b[0m\u001b[1;33m(\u001b[0m\u001b[1;34m'Después del bloque'\u001b[0m\u001b[1;33m)\u001b[0m\u001b[1;33m\u001b[0m\u001b[1;33m\u001b[0m\u001b[0m\n",
      "\u001b[1;31mZeroDivisionError\u001b[0m: division by zero"
     ]
    }
   ],
   "source": [
    "print('Antes del bloque')        \n",
    "with Ejemplo() as x:\n",
    "    print('Vamos a dividir por cero')\n",
    "    print(1/0)\n",
    "    print('Ya dividí por cero')\n",
    "print('Después del bloque')"
   ]
  },
  {
   "cell_type": "markdown",
   "metadata": {},
   "source": [
    "# Leer y escribir archivos de texto\n",
    "La función incorporada\n",
    "* `open(file, mode='r', buffering=-1, encoding=None, errors=None, newline=None, closefd=True, opener=None)` \n",
    "permite leer y/o escribir un archivo. Por ejemplo."
   ]
  },
  {
   "cell_type": "code",
   "execution_count": 92,
   "metadata": {},
   "outputs": [
    {
     "name": "stdout",
     "output_type": "stream",
     "text": [
      "Archivo: <_io.TextIOWrapper name='test.txt' mode='w' encoding='utf-8'>\n"
     ]
    }
   ],
   "source": [
    "with open(\"test.txt\", mode='w', encoding='utf-8') as archivo:\n",
    "    print('Archivo:',archivo)\n",
    "    archivo.write('Esto queda escrito en el archivo')"
   ]
  },
  {
   "cell_type": "code",
   "execution_count": 93,
   "metadata": {},
   "outputs": [
    {
     "name": "stdout",
     "output_type": "stream",
     "text": [
      "Esto queda escrito en el archivo\n"
     ]
    }
   ],
   "source": [
    "with open(\"test.txt\", mode='r', encoding='utf-8') as archivo:\n",
    "    texto = archivo.read()\n",
    "print(texto)"
   ]
  },
  {
   "cell_type": "markdown",
   "metadata": {},
   "source": [
    " Los parámetros de `open` son:\n",
    "* `file` es el nombre del archivo, \n",
    "* `mode` está dado por \n",
    "  * 'r': abierto para lectura (por defecto)\n",
    "  * 'w': abierto para escritura\n",
    "  * 'x': abierto para creación en exclusiva, falla si el fichero ya existe\n",
    "  * ’a’: abierto para escritura, añadiendo al final del fichero si este existe\n",
    "  * 'b': modo binario\n",
    "  * ’t’: modo texto (por defecto)\n",
    "  * ’+’: abierto para actualizar (lectura y escritura)\n",
    "* `encoding` corresponde a la codificación, recomiendo usar `utf-8`\n",
    "* Los otros parámetros recomiendo no cambiarlos.  \n",
    "\n",
    "Como el objeto que retorna `open` implementa las funciones `__enter__` y `__exit__` puede ser usado con `with`, lo cual simplifica la codificación y el manejo de errores.\n",
    "\n",
    "Además de ser iterable, puede proveer los siguientes atributos y métodos:\n",
    "* `close()`: Cierra el stream. Cuando se usa `with` no hay que llamarlo porque `__exit__` lo llama.\n",
    "* `closed` : Es `True` si está cerrado el stream.\n",
    "* `fileno()`: Retorna el descriptor de archivo subyacente (un número de tipo entero).\n",
    "* `flush()`: Vacía los buffers de grabación del stream si corresponde. \n",
    "* `isatty()`: Retorna `True` si el stream es interactiva (ej., si está conectado a un terminal o dispositivo tty).\n",
    "* `readable()`: Retorna `True` si el stream puede ser leída. Si es `False`, el método read() lanzará un OSError.\n",
    "* `readline(size=-1)`: Lee y retorna una línea del stream. Si size (tamaño) es especificado, se capturará un máximo de ése mismo tamaño especificado en bytes.\n",
    "* `readlines(hint=-1)`: Lee y retorna una lista de líneas del stream. hint puede ser especificado para controlar el número de líneas que se lee: no se leerán más líneas si el tamaño total (en bytes / caracteres) de todas las líneas excede hint.\n",
    "* `seek(offset, whence=SEEK_SET)`: Cambiar la posición del stream al dado byte offset. offset se interpreta en relación con la posición indicada por whence. El valor dado para whence es SEEK_SET. Valores para whence son:\n",
    "* `seekable()`: Retorna `True` si el stream apoya acceso aleatorio. Si retorna `False`, seek(), tell() y truncate() lanzarán OSError.\n",
    "* `tell()`:Retorna la posición actual del stream.\n",
    "* `truncate(size=None)`: Cambia el tamaño del stream al size dado en bytes (o la posición actual si no se especifica size). \n",
    "* `writable()` Retorna True si el stream apoya grabación. Si retorna False, write() y truncate() lanzarán OSError.\n",
    "* `writelines(lines)`: Escribir una lista de líneas al stream. No se agrega separadores de líneas, así que es usual que las líneas tengan separador al final.\n",
    "* `__del__()`: Llama `close()`.\n",
    "* `read(size=-1)`:Lee hasta el size de los bytes del objeto y los retorna. \n",
    "* `write(b)`: Escribe  b al stream subyacente y retorna la cantidad de bytes grabadas."
   ]
  },
  {
   "cell_type": "markdown",
   "metadata": {},
   "source": [
    "# Leer y escribir arreglos de numpy\n",
    "\n",
    "Numpy tiene sus propias librerías para escribir y leer sus arreglos.\n",
    "\n",
    "`numpy.save(file, arr, allow_pickle=True, fix_imports=True)`"
   ]
  },
  {
   "cell_type": "code",
   "execution_count": 94,
   "metadata": {},
   "outputs": [
    {
     "data": {
      "text/plain": [
       "array([[ 0,  1,  2,  3,  4,  5,  6,  7,  8,  9],\n",
       "       [10, 11, 12, 13, 14, 15, 16, 17, 18, 19],\n",
       "       [20, 21, 22, 23, 24, 25, 26, 27, 28, 29],\n",
       "       [30, 31, 32, 33, 34, 35, 36, 37, 38, 39],\n",
       "       [40, 41, 42, 43, 44, 45, 46, 47, 48, 49]])"
      ]
     },
     "execution_count": 94,
     "metadata": {},
     "output_type": "execute_result"
    }
   ],
   "source": [
    "import numpy as np\n",
    "A=np.arange(50).reshape(5,10)\n",
    "A"
   ]
  },
  {
   "cell_type": "code",
   "execution_count": 95,
   "metadata": {},
   "outputs": [],
   "source": [
    "np.save('arreglo_A.npy', A)"
   ]
  },
  {
   "cell_type": "code",
   "execution_count": 96,
   "metadata": {},
   "outputs": [
    {
     "data": {
      "text/plain": [
       "array([[ 0,  1,  2,  3,  4,  5,  6,  7,  8,  9],\n",
       "       [10, 11, 12, 13, 14, 15, 16, 17, 18, 19],\n",
       "       [20, 21, 22, 23, 24, 25, 26, 27, 28, 29],\n",
       "       [30, 31, 32, 33, 34, 35, 36, 37, 38, 39],\n",
       "       [40, 41, 42, 43, 44, 45, 46, 47, 48, 49]])"
      ]
     },
     "execution_count": 96,
     "metadata": {},
     "output_type": "execute_result"
    }
   ],
   "source": [
    "A_leido=np.load('arreglo_A.npy')\n",
    "A_leido"
   ]
  },
  {
   "cell_type": "markdown",
   "metadata": {},
   "source": [
    "Sin embargo, en la literatura puede encontrar muchas otras opciones."
   ]
  },
  {
   "cell_type": "markdown",
   "metadata": {},
   "source": [
    "# Pandas\n",
    "Ver '10 minutes to pandas'"
   ]
  },
  {
   "cell_type": "markdown",
   "metadata": {},
   "source": [
    "# Bases de datos\n",
    "Una universidad tiene muchas tablas. Por ejemplo:\n",
    "* cursos dados cada semestre\n",
    "* profesores\n",
    "* programas\n",
    "* materias\n",
    "* espacios físicos\n",
    "* egresados\n",
    "* seminarios y congresos\n",
    "\n",
    "Además, algunas de las tablas están relacionadas con otras y se pueden hacer consultas que involucren las diferentes tablas. Por ejemplo, el listado de los correos electrónicos de los profesores que van a usar un determinado salón durante un determinado seminario.\n",
    "\n",
    "Para administrar estas tablas se utilizan **Sistemas de administración de bases de datos** (**RDBMS**). Estos sistemas son gestionados mediante sentencias **SQL**. Pandas permite conectarse a algunos RDBMS y ejecutar consulta incluso con sentencias SQL.\n",
    "\n",
    "Recientemente, con la explosión de información digital, resulta muy costoso o prácticamente imposible realizar una estructura detallada sobre algunos conjuntos de datos; lo cual motivó la creación de nuevas formas de consultar las bases de datos no estructuradas. Estas formas se conocen como **NoSQL**. Una de estas formas está basada en los diccionarios es decir parejas de llave-valor y se pueden almacenar en el formato **JSON** (JavaScript Object Notation)."
   ]
  },
  {
   "cell_type": "markdown",
   "metadata": {},
   "source": [
    "# Leer y escribir archivos  JSON\n",
    "En JSON se puede almacenar los siguientes tipos de datos:\n",
    "* `float`\n",
    "* `str`\n",
    "* `list`\n",
    "* `dict`\n",
    "* `bool` \n",
    "* `NoneType`\n",
    " \n",
    "Los datos booleanos van en minúscula y el tipo nulo es `null`.\n",
    "\n",
    "<!-- Resulta que con un diccionario prácticamente se puede modelar un objeto de Python, en donde las llaves son los atributos (o las funciones) y su valor es el contenido o dirección de memoria. -->\n"
   ]
  },
  {
   "cell_type": "code",
   "execution_count": 4,
   "metadata": {},
   "outputs": [
    {
     "data": {
      "text/plain": [
       "[{'nombre': 'La novela más larga', 'género': 'novela', 'autor': 'Elif'},\n",
       " {'nombre': 'Filosofía del electrón',\n",
       "  'género': [{'ciencias': {'física': 'partículas'}}, 'Filosofía'],\n",
       "  'autor': [{'Instituto de altas energías': ['Gonzalo Rodríguez',\n",
       "     'Rodrigo González'],\n",
       "    'Centro Filosófico del Sur': 'Dolores de Rodríguez'}]}]"
      ]
     },
     "execution_count": 4,
     "metadata": {},
     "output_type": "execute_result"
    }
   ],
   "source": [
    "libreria=[\n",
    "    {\n",
    "        'nombre':'La novela más larga',\n",
    "        'género':'novela',\n",
    "        'autor' :'Elif'\n",
    "    },\n",
    "    {\n",
    "        'nombre':'Filosofía del electrón',\n",
    "        'género':[\n",
    "            {\n",
    "                'ciencias':{\n",
    "                    'física':'partículas'\n",
    "                }\n",
    "            },\n",
    "            'Filosofía'\n",
    "        ],\n",
    "        'autor' : [\n",
    "            {\n",
    "                'Instituto de altas energías':[\n",
    "                    'Gonzalo Rodríguez',\n",
    "                    'Rodrigo González'\n",
    "                ],\n",
    "                'Centro Filosófico del Sur': 'Dolores de Rodríguez'\n",
    "            }\n",
    "        ]\n",
    "    }\n",
    "]\n",
    "\n",
    "libreria"
   ]
  },
  {
   "cell_type": "code",
   "execution_count": 5,
   "metadata": {},
   "outputs": [],
   "source": [
    "import json\n",
    "\n",
    "with open('libreria.json', 'w') as archivo:\n",
    "    json.dump(libreria,archivo)"
   ]
  },
  {
   "cell_type": "code",
   "execution_count": 6,
   "metadata": {},
   "outputs": [
    {
     "data": {
      "text/plain": [
       "[{'nombre': 'La novela más larga', 'género': 'novela', 'autor': 'Elif'},\n",
       " {'nombre': 'Filosofía del electrón',\n",
       "  'género': [{'ciencias': {'física': 'partículas'}}, 'Filosofía'],\n",
       "  'autor': [{'Instituto de altas energías': ['Gonzalo Rodríguez',\n",
       "     'Rodrigo González'],\n",
       "    'Centro Filosófico del Sur': 'Dolores de Rodríguez'}]}]"
      ]
     },
     "execution_count": 6,
     "metadata": {},
     "output_type": "execute_result"
    }
   ],
   "source": [
    "with open('libreria.json', 'r') as archivo:\n",
    "    libreria_leida=json.load(archivo)\n",
    "libreria_leida"
   ]
  }
 ],
 "metadata": {
  "kernelspec": {
   "display_name": "Python 3",
   "language": "python",
   "name": "python3"
  },
  "language_info": {
   "codemirror_mode": {
    "name": "ipython",
    "version": 3
   },
   "file_extension": ".py",
   "mimetype": "text/x-python",
   "name": "python",
   "nbconvert_exporter": "python",
   "pygments_lexer": "ipython3",
   "version": "3.7.4"
  }
 },
 "nbformat": 4,
 "nbformat_minor": 4
}
