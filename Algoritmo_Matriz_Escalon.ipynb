{
  "nbformat": 4,
  "nbformat_minor": 0,
  "metadata": {
    "colab": {
      "provenance": [],
      "authorship_tag": "ABX9TyO+YOU0UJxS5YGYVK3fINrw",
      "include_colab_link": true
    },
    "kernelspec": {
      "name": "python3",
      "display_name": "Python 3"
    },
    "language_info": {
      "name": "python"
    }
  },
  "cells": [
    {
      "cell_type": "markdown",
      "metadata": {
        "id": "view-in-github",
        "colab_type": "text"
      },
      "source": [
        "<a href=\"https://colab.research.google.com/github/GerardoMunoz/Curso_Python/blob/main/Algoritmo_Matriz_Escalon.ipynb\" target=\"_parent\"><img src=\"https://colab.research.google.com/assets/colab-badge.svg\" alt=\"Open In Colab\"/></a>"
      ]
    },
    {
      "cell_type": "code",
      "source": [
        "import numpy as np"
      ],
      "metadata": {
        "id": "qGGGL-4njkkT"
      },
      "execution_count": 1,
      "outputs": []
    },
    {
      "cell_type": "markdown",
      "source": [
        "Habilidades utilizadas:\n",
        "* Habilidades para el trabajo en equipo, ya que deben paralelizar las tareas a realizar y luego deben integrar los trabajos individuales.\n",
        "* Habilidades para gestión de proyectos, ya que se ilustran metodologías ágiles.\n",
        "* Habilidades analíticas, ya que se debe generalizar el procedimiento realizado mediante un algoritmo.\n",
        "* Habilidades para realizar código en Python\n",
        "* Habilidades para probar código\n",
        "* Habilidades para medir y comparar el desempeño en tiempo y recursos utilizados\n",
        "* Habilidades para poder comprender un programa ya desarrollado\n",
        "* Habilidades para consultar documentación y autoaprendizaje"
      ],
      "metadata": {
        "id": "NY1YsxdOHnAE"
      }
    },
    {
      "cell_type": "markdown",
      "source": [
        "# Algoritmo de Eliminación de Gauss\n",
        "\n",
        "## Pasos para obtener la forma escalón\n",
        " [Nakos, Sec. 1.2]\n",
        "1. Vaya a la columna extrema izquierda que no sea de ceros.\n",
        "2. Si el primer renglón tiene un cero en la columna del paso (1), intercámbielo con uno que tenga un elemento no cero en la misma columna.\n",
        "3. Obtenga ceros debajo del elemento delantero, sumando múltiplos adecuados del renglón superior a los renglones debajo de él.\n",
        "4. Cubra el renglón superior y repita el mismo proceso comenzando por el paso (1) aplicado a la sub-matriz restante. Repita este proceso con el resto de los renglones.\n",
        "\n",
        "\n",
        "## Paso para obtener la forma escalón reducida\n",
        "5. Comenzando con el último renglón no cero, avance hacia arriba: para cada renglón obtenga un 1 delantero e introduzca ceros arriba de él, sumando múltiplos adecuados a los renglones correspondientes.\n",
        "\n",
        "## Ejemplo\n",
        "En el siguiente enlace se presenta un ejemplo.\n",
        "https://colab.research.google.com/github/GerardoMunoz/PresentacionesAlgebraLineal/blob/main/AL06_OpElem.ipynb#scrollTo=kBa6oyX1FRLa\n",
        "\n",
        "## Ejercicio:\n",
        "\n",
        "Implemente en Python el algoritmo de Eliminación de Gauss utilizando los principios de las metodologías Agiles.\n",
        "\n",
        "## Desarrollo\n",
        "\n",
        "La metodología a implementar consiste en proponer al menos una función para cada uno de lo pasos propuestos y luego determinar cuales pasos son los más representativos aplicable al mayor número de matrices.\n",
        "\n",
        "### Funciones propuestas\n",
        "\n",
        "\n",
        "A continuación vamos a desarrollar el algoritmo con un programa en Python utilizando la librería `numpy`. Para lo cual se esbozan las siguientes funciones, las cuales se pueden asociar a los pasos del algoritmo.\n",
        "\n",
        "\n",
        "\n"
      ],
      "metadata": {
        "id": "WDEvRYndRs1H"
      }
    },
    {
      "cell_type": "code",
      "execution_count": 2,
      "metadata": {
        "id": "GEGiuKF6LMMX"
      },
      "outputs": [],
      "source": [
        "# 1. Vaya a la columna extrema izquierda que no sea de ceros.\n",
        "\n",
        "def columna_izquierda_no_ceros(M):\n",
        "  columna = 0\n",
        "  ... #Código en construcción\n",
        "  return columna\n"
      ]
    },
    {
      "cell_type": "code",
      "source": [
        "# 2. Si el primer renglón tiene un cero en la columna del paso (1),\n",
        "# intercámbielo con uno que tenga un elemento no cero en la misma\n",
        "# columna.\n",
        "\n",
        "def intercambia_si_es_cero(M,col):\n",
        "  ... #Código en construcción\n",
        "  return M"
      ],
      "metadata": {
        "id": "k7Pclt29UlbC"
      },
      "execution_count": 3,
      "outputs": []
    },
    {
      "cell_type": "code",
      "source": [
        "# 3. Obtenga ceros debajo del elemento delantero, sumando múltiplos adecuados del\n",
        "# renglón superior a los renglones debajo de él.\n",
        "\n",
        "def elimina_ceros_debajo(M,col):\n",
        "  ... #Código en construcción\n",
        "  return M"
      ],
      "metadata": {
        "id": "pd6mV70mVFn4"
      },
      "execution_count": 4,
      "outputs": []
    },
    {
      "cell_type": "code",
      "source": [
        "# 4. Cubra el renglón superior y repita el mismo proceso\n",
        "# comenzando por el paso (1) aplicado a la sub-matriz restante.\n",
        "# Repita este proceso con el resto de los renglones.\n",
        "\n",
        "def repite_elimina_abajo_a_submatrices(M,col):\n",
        "  ... #Código en construcción\n",
        "  return M"
      ],
      "metadata": {
        "id": "PNepJjyqVk9G"
      },
      "execution_count": 5,
      "outputs": []
    },
    {
      "cell_type": "code",
      "source": [
        "# 5. Comenzando con el último renglón no cero,\n",
        "# avance hacia arriba: para cada renglón obtenga un 1\n",
        "# delantero e introduzca ceros arriba de él,\n",
        "# sumando múltiplos adecuados a los renglones correspondientes\n",
        "\n",
        "def uno_delantero_y_ceros_arriba(M,delantero):\n",
        "  ... #Código en construcción\n",
        "  return M"
      ],
      "metadata": {
        "id": "Q6iIpZQWWXD1"
      },
      "execution_count": 6,
      "outputs": []
    },
    {
      "cell_type": "code",
      "source": [
        "def repite_elimina_arriba_a_renglones(M,col):\n",
        "  ... #Código en construcción\n",
        "  return M"
      ],
      "metadata": {
        "id": "-foUqWdAWsvc"
      },
      "execution_count": 7,
      "outputs": []
    },
    {
      "cell_type": "markdown",
      "source": [
        "### Priorizar los pasos\n",
        "\n",
        "Los pasos requeridos por todas las matrices son el 3 y el 4, los cuales se realizarán de primeras para obtener la matriz escalón de algunas matrices (las matrices invertibles).\n",
        "\n",
        "Luego, se desarrollará el paso 1, de esta forma podemos obtener matrices escalón de matrices no invertibles.\n",
        "\n",
        "El paso 2 es muy esporádico. Sin embargo, al implementarlo quedan cubiertos todos los casos para obtener la matriz escalón.\n",
        "\n",
        "Finalmente se realiza el paso 5 que permite obtener matrices escalón reducidas a partir de matrices escalón."
      ],
      "metadata": {
        "id": "DQ1DLjQ9WJbR"
      }
    },
    {
      "cell_type": "markdown",
      "source": [
        "# Generalización para obtener ceros bajo el pivote."
      ],
      "metadata": {
        "id": "1jAk0EAxzXWB"
      }
    },
    {
      "cell_type": "markdown",
      "source": [
        "Comenzamos seleccionando algunos pasos fáciles de generalizar. El paso seleccionado es el paso 3 donde  el patrón observado es\n",
        "\n",
        "```\n",
        "M[i,:] = M[i,:] + M[j,:]*M[i,k]/M[j,k]\n",
        "M[i+1,:] = M[i+1,:] + M[j,:]*M[i+1,k]/M[j,k]\n",
        "repite hasta el último renglón\n",
        "```\n",
        "\n",
        "Para repetir se puede utilizar un `while` *mientras* el renglón no sea el último. También, se puede repetir con un `for` *para* los renglones que faltan, ya que desde el comienzo se pueden calcular.  En este caso utilizaremos el `for`.  "
      ],
      "metadata": {
        "id": "6piJurEsY34f"
      }
    },
    {
      "cell_type": "code",
      "source": [
        "def elimina_ceros_debajo(M,ren,col):\n",
        "  #El pivote debe ser diferente de cero\n",
        "  m,n=M.shape\n",
        "  for i in range(ren+1,m):\n",
        "    M[i,:] = M[i,:] - M[ren,:]*M[i,col]/M[ren,col]\n",
        "  return M\n",
        ""
      ],
      "metadata": {
        "id": "EkMTlkl6Y3KT"
      },
      "execution_count": 8,
      "outputs": []
    },
    {
      "cell_type": "markdown",
      "source": [
        "Ahora probamos el código\n"
      ],
      "metadata": {
        "id": "h21pwbZDocuJ"
      }
    },
    {
      "cell_type": "code",
      "source": [
        "M0=np.array([\n",
        "    [ 2.0,  3],\n",
        "    [ 5,  7],\n",
        "    [11, 13],\n",
        "])\n",
        "\n",
        "M1=elimina_ceros_debajo(M0,0,0)\n",
        "M1"
      ],
      "metadata": {
        "colab": {
          "base_uri": "https://localhost:8080/"
        },
        "id": "hYKeICAikfb9",
        "outputId": "f0ce3c86-cfe3-4dfe-c3c6-ce49245d6359"
      },
      "execution_count": 9,
      "outputs": [
        {
          "output_type": "execute_result",
          "data": {
            "text/plain": [
              "array([[ 2. ,  3. ],\n",
              "       [ 0. , -0.5],\n",
              "       [ 0. , -3.5]])"
            ]
          },
          "metadata": {},
          "execution_count": 9
        }
      ]
    },
    {
      "cell_type": "code",
      "source": [
        "M2=elimina_ceros_debajo(M1,1,1)\n",
        "M2"
      ],
      "metadata": {
        "colab": {
          "base_uri": "https://localhost:8080/"
        },
        "id": "jWT3i8RHndMv",
        "outputId": "1c0ab990-b568-41f1-c296-3e242d0de758"
      },
      "execution_count": 10,
      "outputs": [
        {
          "output_type": "execute_result",
          "data": {
            "text/plain": [
              "array([[ 2. ,  3. ],\n",
              "       [ 0. , -0.5],\n",
              "       [ 0. ,  0. ]])"
            ]
          },
          "metadata": {},
          "execution_count": 10
        }
      ]
    },
    {
      "cell_type": "markdown",
      "source": [
        "# Obtener ceros para todas las columnas\n",
        "\n",
        "Ahora voy a realizar el paso 4, el cual puede omitir los pasos 1 y 2 para algunas matrices. En particular con matrices invertibles.\n",
        "\n"
      ],
      "metadata": {
        "id": "Q70rVnyNp1yV"
      }
    },
    {
      "cell_type": "code",
      "source": [
        "def repite_elimina_abajo_a_submatrices(M):\n",
        "  m,n = M.shape\n",
        "  for j in range(m):\n",
        "    M = elimina_ceros_debajo(M,j,j)\n",
        "  return M\n",
        "\n",
        "M0=np.array([\n",
        "    [ 2.0,  3, -1],\n",
        "    [ 5,  7,  -2],\n",
        "    [11, 13, -3],\n",
        "])\n",
        "\n",
        "M2=repite_elimina_abajo_a_submatrices(M0)\n",
        "M2"
      ],
      "metadata": {
        "colab": {
          "base_uri": "https://localhost:8080/"
        },
        "id": "9IJGLL0Lqu_z",
        "outputId": "9cd34396-f2c7-4e64-a8a4-3d89e3068165"
      },
      "execution_count": 11,
      "outputs": [
        {
          "output_type": "execute_result",
          "data": {
            "text/plain": [
              "array([[ 2. ,  3. , -1. ],\n",
              "       [ 0. , -0.5,  0.5],\n",
              "       [ 0. ,  0. , -1. ]])"
            ]
          },
          "metadata": {},
          "execution_count": 11
        }
      ]
    },
    {
      "cell_type": "markdown",
      "source": [
        "# Evitar columnas de ceros\n",
        "\n",
        "Para generalizar a matrices no invertibles necesitamos detectar si debajo del pivote hay ceros.\n"
      ],
      "metadata": {
        "id": "NZbF30ZNr7HE"
      }
    },
    {
      "cell_type": "code",
      "source": [
        "def columna_izquierda_no_ceros (M,ren,col):\n",
        "  m,n=M.shape\n",
        "  for j in range(col,n):\n",
        "    if M[ren:,j].any():\n",
        "      break\n",
        "  ######## En que caso se ejecuta el  `else` en un for ##############\n",
        "  else:\n",
        "    j = n\n",
        "  ##################################################################\n",
        "  return j\n",
        "\n",
        "M=np.array([\n",
        "      [ 2. ,  3. , -1. ],\n",
        "      [ 0. , 0. ,  0.5],\n",
        "      [ 0. ,  0. , -1. ]\n",
        "    ])\n",
        "\n",
        "columna_izquierda_no_ceros(M,0,0)"
      ],
      "metadata": {
        "colab": {
          "base_uri": "https://localhost:8080/"
        },
        "id": "7hnW5swxtY9o",
        "outputId": "605b820e-d7da-4b01-b9da-83d7e9849b62"
      },
      "execution_count": 12,
      "outputs": [
        {
          "output_type": "execute_result",
          "data": {
            "text/plain": [
              "0"
            ]
          },
          "metadata": {},
          "execution_count": 12
        }
      ]
    },
    {
      "cell_type": "code",
      "source": [
        "columna_izquierda_no_ceros(M,1,0)"
      ],
      "metadata": {
        "colab": {
          "base_uri": "https://localhost:8080/"
        },
        "id": "C2KkrQlHvekX",
        "outputId": "12a03e84-dce2-4c4a-d612-4d6948081ad5"
      },
      "execution_count": 13,
      "outputs": [
        {
          "output_type": "execute_result",
          "data": {
            "text/plain": [
              "2"
            ]
          },
          "metadata": {},
          "execution_count": 13
        }
      ]
    },
    {
      "cell_type": "markdown",
      "source": [
        "\n",
        "\n",
        "Ahora generalizamos la función `repite_elimina_abajo_a_submatrices` para algunas matrices no invertibles"
      ],
      "metadata": {
        "id": "KOOMj86svmH_"
      }
    },
    {
      "cell_type": "code",
      "source": [
        "def repite_elimina_abajo(M):\n",
        "  m,n = M.shape\n",
        "  col=0\n",
        "  for ren in range(m):\n",
        "    col=columna_izquierda_no_ceros(M,ren,col)\n",
        "    ######### Explique para que se requieren   ############################\n",
        "    ######### las siguientes dos instrucciones ############################\n",
        "    if col==n:\n",
        "      break\n",
        "    #######################################################################\n",
        "    M = elimina_ceros_debajo(M,ren,col)\n",
        "  return M\n",
        "\n",
        "M0=np.array([\n",
        "    [ 2.0,  4, -1,  4, -1],\n",
        "    [ 5,  20,  -2.5,  10,  -2.5],\n",
        "    [11, 22, -5.5, 2, -5.5],\n",
        "    [11, 22, -5.5, 22, -5.5],\n",
        "    [11, 22, -5.5, 22, -5.5],\n",
        "])\n",
        "\n",
        "M2 = repite_elimina_abajo_a_submatrices(M0)\n",
        "M2"
      ],
      "metadata": {
        "colab": {
          "base_uri": "https://localhost:8080/"
        },
        "id": "OSHiZbbWw4xb",
        "outputId": "9d963b34-35f9-4e63-8590-ae2d1a37c8db"
      },
      "execution_count": 14,
      "outputs": [
        {
          "output_type": "stream",
          "name": "stderr",
          "text": [
            "<ipython-input-8-f8f9e6129907>:5: RuntimeWarning: invalid value encountered in divide\n",
            "  M[i,:] = M[i,:] - M[ren,:]*M[i,col]/M[ren,col]\n"
          ]
        },
        {
          "output_type": "execute_result",
          "data": {
            "text/plain": [
              "array([[  2.,   4.,  -1.,   4.,  -1.],\n",
              "       [  0.,  10.,   0.,   0.,   0.],\n",
              "       [  0.,   0.,   0., -20.,   0.],\n",
              "       [ nan,  nan,  nan,  nan,  nan],\n",
              "       [ nan,  nan,  nan,  nan,  nan]])"
            ]
          },
          "metadata": {},
          "execution_count": 14
        }
      ]
    },
    {
      "cell_type": "markdown",
      "source": [
        "### Cuando el pivote es cero\n",
        "\n",
        "Ahora sí se implementa el  paso 2. Para identificar y corregir si el pivote es cero."
      ],
      "metadata": {
        "id": "a6WRG6QQ52uD"
      }
    },
    {
      "cell_type": "code",
      "source": [
        "def intercambia_si_es_cero(M,ren,col):\n",
        "  m,n=M.shape\n",
        "  if 0==M[ren,col]:\n",
        "    for i in range(ren,m):\n",
        "      if 0!=M[i,col]:\n",
        "        M[[i,ren]]=M[[ren,i]]\n",
        "        break\n",
        "  return M\n",
        "\n",
        "M0=np.array([[  0,   4.,  -1.,   4.,  -1.],\n",
        "       [  0.,  10.,   0.,   0.,   0.],\n",
        "       [  2,   0.,   0., -20.,   0.],\n",
        "       [  0.,   0.,   0.,   0.,   0.],\n",
        "       [  0.,   0.,   0.,   0.,   0.]])\n",
        "\n",
        "intercambia_si_es_cero(M0,0,0)"
      ],
      "metadata": {
        "colab": {
          "base_uri": "https://localhost:8080/"
        },
        "id": "G1ycEji06GJl",
        "outputId": "2b7d7875-2b1f-41b9-baa3-b305a8ebf943"
      },
      "execution_count": 15,
      "outputs": [
        {
          "output_type": "execute_result",
          "data": {
            "text/plain": [
              "array([[  2.,   0.,   0., -20.,   0.],\n",
              "       [  0.,  10.,   0.,   0.,   0.],\n",
              "       [  0.,   4.,  -1.,   4.,  -1.],\n",
              "       [  0.,   0.,   0.,   0.,   0.],\n",
              "       [  0.,   0.,   0.,   0.,   0.]])"
            ]
          },
          "metadata": {},
          "execution_count": 15
        }
      ]
    },
    {
      "cell_type": "markdown",
      "source": [
        "A continuación se integra la rutina al resto del programa."
      ],
      "metadata": {
        "id": "fCCwAvb68-Tg"
      }
    },
    {
      "cell_type": "code",
      "source": [
        "def repite_elimina_abajo(M):\n",
        "  m,n = M.shape\n",
        "  col=0\n",
        "  for ren in range(m):\n",
        "    col=columna_izquierda_no_ceros(M,ren,col)\n",
        "    if col==n:\n",
        "      break\n",
        "    intercambia_si_es_cero(M,ren,col)\n",
        "    M = elimina_ceros_debajo(M,ren,col)\n",
        "  return M\n",
        "\n",
        "M0=np.array([\n",
        "    [ 0.0,  0, -1,  4, -0],\n",
        "    [ 5,  10,  -2.5,  10,  -2.5],\n",
        "    [11, 22, -5.5, 22, -5.5],\n",
        "    [11, 22, -5.5, 22, -5.5],\n",
        "    [11, 22, -5.5, 22, -5],\n",
        "    [11, 22, -5.5, 22, -5],\n",
        "\n",
        "])\n",
        "\n",
        "M2=repite_elimina_abajo(M0)\n",
        "M2\n"
      ],
      "metadata": {
        "colab": {
          "base_uri": "https://localhost:8080/"
        },
        "id": "fTLc7yrZ3l6P",
        "outputId": "dbfe3508-57c5-47c0-8d26-2e2b3232a908"
      },
      "execution_count": 24,
      "outputs": [
        {
          "output_type": "execute_result",
          "data": {
            "text/plain": [
              "array([[ 5. , 10. , -2.5, 10. , -2.5],\n",
              "       [ 0. ,  0. , -1. ,  4. ,  0. ],\n",
              "       [ 0. ,  0. ,  0. ,  0. ,  0.5],\n",
              "       [ 0. ,  0. ,  0. ,  0. ,  0. ],\n",
              "       [ 0. ,  0. ,  0. ,  0. ,  0. ],\n",
              "       [ 0. ,  0. ,  0. ,  0. ,  0. ]])"
            ]
          },
          "metadata": {},
          "execution_count": 24
        }
      ]
    },
    {
      "cell_type": "markdown",
      "source": [
        "## Ejercicio:\n",
        "\n",
        "### Obtener ceros arriba de los pivotes\n",
        "\n",
        "Continue desarrollando el paso faltante, puede desarrollar el código para obtener ceros arriba del pivote o modificar el anterior código para obtener ceros arriba del pivote cuando se obtienen abajo del pivote (Gauss-Jordan)."
      ],
      "metadata": {
        "id": "YlLf1dK64Ng2"
      }
    },
    {
      "cell_type": "markdown",
      "source": [
        "### Verificación final\n",
        "\n",
        "Proponga un conjunto de matrices con características que prueben los diferentes casos y realice un programa que pueda probar el código realizado. Corrija los errores si se presentan."
      ],
      "metadata": {
        "id": "OYhMs07x4Xqf"
      }
    },
    {
      "cell_type": "markdown",
      "source": [
        "## Librería array\n",
        "La librería array permite ahorrar espacio con arreglos de números. La cual se documenta en el siguiente enlace https://docs.python.org/es/3/library/array.html\n",
        "\n",
        "## Ejercicio\n",
        "Implemente en array las funciones que se utilizaron de numpy en la eliminación de Gauss. Ya que array es de una dimensión puede implementar una matriz como un vector, donde el primer elemento almacena el número de columnas.\n",
        "\n"
      ],
      "metadata": {
        "id": "C_1rJZDG5lS8"
      }
    },
    {
      "cell_type": "markdown",
      "source": [
        "# Ejercicio\n",
        "Calcule la complejidad algorítmica del anterior algorítmo en cuanto tiempo y recursos utilizados en términos del número de renglones y columnas"
      ],
      "metadata": {
        "id": "FdAXXxYmEflS"
      }
    }
  ]
}