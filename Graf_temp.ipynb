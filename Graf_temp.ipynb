{
  "cells": [
    {
      "cell_type": "markdown",
      "metadata": {
        "id": "view-in-github",
        "colab_type": "text"
      },
      "source": [
        "<a href=\"https://colab.research.google.com/github/GerardoMunoz/Curso_Python/blob/main/Graf_temp.ipynb\" target=\"_parent\"><img src=\"https://colab.research.google.com/assets/colab-badge.svg\" alt=\"Open In Colab\"/></a>"
      ]
    },
    {
      "cell_type": "markdown",
      "source": [
        "# Esta es una celda de texto en Markdown\n",
        "\n",
        "El símbolo `#` se utiliza para los títulos"
      ],
      "metadata": {
        "id": "lav7IERqDe0c"
      }
    },
    {
      "cell_type": "code",
      "source": [
        "# Esta es una celda de código en Python\n",
        "\n",
        "# El símbolo `#` se utiliza para colocar comentarios "
      ],
      "metadata": {
        "id": "oNSLa9U5DjKG"
      },
      "execution_count": null,
      "outputs": []
    },
    {
      "cell_type": "markdown",
      "metadata": {
        "id": "ymV53nNaZhTi"
      },
      "source": [
        "# Proyecto: Graficar las temperaturas leídas \n",
        "\n",
        "\n",
        "\n",
        "por un conversor análogoa a digital (ADC)\n",
        "\n",
        "\n",
        "\n",
        "\n",
        "\n",
        "El archivo `Temperatura_24h.csv`, que está en la carpeta `datos`, contiene la temperatura tomada cada hora, durante 24 horas, comenzando a las 18 horas. \n",
        "\n",
        "El valor de la temperatura corresponde a un número entre 0 a 255, que es el valor entregado por el ADC. Para convertir las temperaturas a °C, se sabe que:\n",
        "* el menor valor, del ADC en el archivo, correponde a 12°C \n",
        "* el mayor valor, del ADC en el archivo, correponde a 25°C.\n",
        "\n",
        "Hay que realizar un grafico que muestre la temperetarua en °C y su respectiva hora."
      ]
    },
    {
      "cell_type": "markdown",
      "metadata": {
        "id": "9i7lB5y7Rnw5"
      },
      "source": [
        "## os\n",
        "* `os.getcwd()` Conocer el camino al directorio actual \n",
        "* `os.listdir()` Listar los archivos del directorio actual\n",
        "* `os.chdir(directorio)` Cambiar a un `directorio`"
      ]
    },
    {
      "cell_type": "code",
      "execution_count": null,
      "metadata": {
        "colab": {
          "base_uri": "https://localhost:8080/",
          "height": 36
        },
        "id": "aXHPUcRpRRod",
        "outputId": "91dea7d1-2cdf-4374-969f-4b0af8b50228",
        "collapsed": true
      },
      "outputs": [
        {
          "output_type": "execute_result",
          "data": {
            "text/plain": [
              "'/content'"
            ],
            "application/vnd.google.colaboratory.intrinsic+json": {
              "type": "string"
            }
          },
          "metadata": {},
          "execution_count": 2
        }
      ],
      "source": [
        "import os\n",
        "os.getcwd()"
      ]
    },
    {
      "cell_type": "code",
      "source": [
        "print(f'El directorio actual es {os.getcwd()}. Ups, olvidé saludar. \"Hola Mundo\"' )"
      ],
      "metadata": {
        "colab": {
          "base_uri": "https://localhost:8080/"
        },
        "id": "SAwRCQM32eyR",
        "outputId": "bdc019d2-5ec7-43b5-8ee2-1dce93aca692"
      },
      "execution_count": null,
      "outputs": [
        {
          "output_type": "stream",
          "name": "stdout",
          "text": [
            "El directorio actual es /content. Ups, olvidé saludar. \"Hola Mundo\"\n"
          ]
        }
      ]
    },
    {
      "cell_type": "code",
      "execution_count": null,
      "metadata": {
        "colab": {
          "base_uri": "https://localhost:8080/"
        },
        "id": "_E7JfiZgv9Lp",
        "outputId": "362147eb-aac9-4ef7-91b7-30c5d56b2717"
      },
      "outputs": [
        {
          "output_type": "execute_result",
          "data": {
            "text/plain": [
              "['.config', 'datos', '.ipynb_checkpoints', 'sample_data']"
            ]
          },
          "metadata": {},
          "execution_count": 4
        }
      ],
      "source": [
        "os.listdir()"
      ]
    },
    {
      "cell_type": "code",
      "execution_count": null,
      "metadata": {
        "id": "bRQNvFNav9Lp"
      },
      "outputs": [],
      "source": [
        "os.chdir('/content/datos')"
      ]
    },
    {
      "cell_type": "code",
      "execution_count": null,
      "metadata": {
        "colab": {
          "base_uri": "https://localhost:8080/",
          "height": 36
        },
        "id": "_C-7zQGRv9Lq",
        "outputId": "4ed0ee1f-2934-4cfa-f86f-b3d77ffc1aef"
      },
      "outputs": [
        {
          "output_type": "execute_result",
          "data": {
            "text/plain": [
              "'/content/datos'"
            ],
            "application/vnd.google.colaboratory.intrinsic+json": {
              "type": "string"
            }
          },
          "metadata": {},
          "execution_count": 6
        }
      ],
      "source": [
        "os.getcwd()"
      ]
    },
    {
      "cell_type": "code",
      "execution_count": null,
      "metadata": {
        "colab": {
          "base_uri": "https://localhost:8080/"
        },
        "id": "5oXjjcf8v9Lq",
        "outputId": "ca0f83c7-df7a-462a-e44b-e4a51e336f6c"
      },
      "outputs": [
        {
          "output_type": "execute_result",
          "data": {
            "text/plain": [
              "['Temperatura_24h.csv']"
            ]
          },
          "metadata": {},
          "execution_count": 7
        }
      ],
      "source": [
        "os.listdir()"
      ]
    },
    {
      "cell_type": "markdown",
      "metadata": {
        "id": "f6J3z97nv9Lr"
      },
      "source": [
        "## Leer un archivo\n",
        "* `with open` ... `as` ..."
      ]
    },
    {
      "cell_type": "code",
      "execution_count": null,
      "metadata": {
        "colab": {
          "base_uri": "https://localhost:8080/",
          "height": 54
        },
        "id": "GItP81nyv9Ls",
        "outputId": "e6bd5528-204d-4ac0-a896-ad75bc8d2164"
      },
      "outputs": [
        {
          "output_type": "execute_result",
          "data": {
            "text/plain": [
              "'185, 183, 180, 169, 146, 129, 110,  89,  72,  48,  39,  35,  28, 39,  48,  67,  85, 111, 139, 164, 183, 203, 224, 236'"
            ],
            "application/vnd.google.colaboratory.intrinsic+json": {
              "type": "string"
            }
          },
          "metadata": {},
          "execution_count": 8
        }
      ],
      "source": [
        "with open('Temperatura_24h.csv') as f:\n",
        "         datos_leidos = f.read()\n",
        "\n",
        "datos_leidos"
      ]
    },
    {
      "cell_type": "code",
      "source": [
        "type(datos_leidos)"
      ],
      "metadata": {
        "colab": {
          "base_uri": "https://localhost:8080/"
        },
        "id": "iP-BmgllxPxl",
        "outputId": "407d83d5-2372-47c2-feeb-b24fc76a36a7"
      },
      "execution_count": null,
      "outputs": [
        {
          "output_type": "execute_result",
          "data": {
            "text/plain": [
              "str"
            ]
          },
          "metadata": {},
          "execution_count": 9
        }
      ]
    },
    {
      "cell_type": "markdown",
      "source": [
        "## Dividir la cadena (`split`)"
      ],
      "metadata": {
        "id": "1xOsgoJ8xOTE"
      }
    },
    {
      "cell_type": "code",
      "source": [
        "lista_de_cadenas = datos_leidos.split(',')\n",
        "lista_de_cadenas"
      ],
      "metadata": {
        "colab": {
          "base_uri": "https://localhost:8080/"
        },
        "id": "SKzs5Jv-ynqM",
        "outputId": "00a09d5b-8d71-4f25-916c-78d06aa69b99"
      },
      "execution_count": null,
      "outputs": [
        {
          "output_type": "execute_result",
          "data": {
            "text/plain": [
              "['185',\n",
              " ' 183',\n",
              " ' 180',\n",
              " ' 169',\n",
              " ' 146',\n",
              " ' 129',\n",
              " ' 110',\n",
              " '  89',\n",
              " '  72',\n",
              " '  48',\n",
              " '  39',\n",
              " '  35',\n",
              " '  28',\n",
              " ' 39',\n",
              " '  48',\n",
              " '  67',\n",
              " '  85',\n",
              " ' 111',\n",
              " ' 139',\n",
              " ' 164',\n",
              " ' 183',\n",
              " ' 203',\n",
              " ' 224',\n",
              " ' 236']"
            ]
          },
          "metadata": {},
          "execution_count": 10
        }
      ]
    },
    {
      "cell_type": "code",
      "source": [
        "type(lista_de_cadenas)"
      ],
      "metadata": {
        "colab": {
          "base_uri": "https://localhost:8080/"
        },
        "id": "F4uWFOaAzhzA",
        "outputId": "3d1d2738-0306-4722-8426-5af696bbcf38"
      },
      "execution_count": null,
      "outputs": [
        {
          "output_type": "execute_result",
          "data": {
            "text/plain": [
              "list"
            ]
          },
          "metadata": {},
          "execution_count": 11
        }
      ]
    },
    {
      "cell_type": "markdown",
      "source": [
        "## Acceso a los elementos de la lista"
      ],
      "metadata": {
        "id": "nqNr4RPj1U0j"
      }
    },
    {
      "cell_type": "code",
      "source": [
        "lista_de_cadenas[0]"
      ],
      "metadata": {
        "colab": {
          "base_uri": "https://localhost:8080/",
          "height": 36
        },
        "id": "8blsL0Ho0cKa",
        "outputId": "f2c76050-aeac-4df5-8026-5744455a59c6"
      },
      "execution_count": null,
      "outputs": [
        {
          "output_type": "execute_result",
          "data": {
            "text/plain": [
              "'185'"
            ],
            "application/vnd.google.colaboratory.intrinsic+json": {
              "type": "string"
            }
          },
          "metadata": {},
          "execution_count": 12
        }
      ]
    },
    {
      "cell_type": "code",
      "source": [
        "type(lista_de_cadenas[0])"
      ],
      "metadata": {
        "colab": {
          "base_uri": "https://localhost:8080/"
        },
        "id": "9Exc1zZP7sWT",
        "outputId": "f16d9cac-6eff-471d-c08f-4769c7899d62"
      },
      "execution_count": null,
      "outputs": [
        {
          "output_type": "execute_result",
          "data": {
            "text/plain": [
              "str"
            ]
          },
          "metadata": {},
          "execution_count": 13
        }
      ]
    },
    {
      "cell_type": "markdown",
      "source": [
        "## Convertir a entero (`int`)"
      ],
      "metadata": {
        "id": "qr0ng6qG7_KN"
      }
    },
    {
      "cell_type": "code",
      "source": [
        "int(lista_de_cadenas[0])"
      ],
      "metadata": {
        "colab": {
          "base_uri": "https://localhost:8080/"
        },
        "id": "6NCo_9uU0gnc",
        "outputId": "69ee8e10-2a99-4935-ff78-b4418393fbbf"
      },
      "execution_count": null,
      "outputs": [
        {
          "output_type": "execute_result",
          "data": {
            "text/plain": [
              "185"
            ]
          },
          "metadata": {},
          "execution_count": 14
        }
      ]
    },
    {
      "cell_type": "code",
      "source": [
        "type(int(lista_de_cadenas[0]))"
      ],
      "metadata": {
        "colab": {
          "base_uri": "https://localhost:8080/"
        },
        "id": "pl--HxON8aB3",
        "outputId": "3d01d541-b6ef-4f0b-f847-47319eedd01b"
      },
      "execution_count": null,
      "outputs": [
        {
          "output_type": "execute_result",
          "data": {
            "text/plain": [
              "int"
            ]
          },
          "metadata": {},
          "execution_count": 15
        }
      ]
    },
    {
      "cell_type": "markdown",
      "source": [
        "## Longitud de una lista (`len`)"
      ],
      "metadata": {
        "id": "pKLzU1rC1ozI"
      }
    },
    {
      "cell_type": "code",
      "source": [
        "n=len(lista_de_cadenas)\n",
        "n"
      ],
      "metadata": {
        "colab": {
          "base_uri": "https://localhost:8080/"
        },
        "id": "gc9_HJfN0Lf2",
        "outputId": "2610eedc-3d2b-4694-b6f9-586aa465360a"
      },
      "execution_count": null,
      "outputs": [
        {
          "output_type": "execute_result",
          "data": {
            "text/plain": [
              "24"
            ]
          },
          "metadata": {},
          "execution_count": 16
        }
      ]
    },
    {
      "cell_type": "code",
      "source": [
        "type(n)"
      ],
      "metadata": {
        "colab": {
          "base_uri": "https://localhost:8080/"
        },
        "id": "gB3E0LiF0T2Q",
        "outputId": "c219fa9d-5d6a-43cc-d736-625b9e363032"
      },
      "execution_count": null,
      "outputs": [
        {
          "output_type": "execute_result",
          "data": {
            "text/plain": [
              "int"
            ]
          },
          "metadata": {},
          "execution_count": 17
        }
      ]
    },
    {
      "cell_type": "markdown",
      "metadata": {
        "id": "Qa1jw1QQRv-E"
      },
      "source": [
        "## Crear una lista vacía (`[]`)"
      ]
    },
    {
      "cell_type": "code",
      "source": [
        "nueva_lista = []\n",
        "nueva_lista"
      ],
      "metadata": {
        "colab": {
          "base_uri": "https://localhost:8080/"
        },
        "id": "sHfuYXxa6XIU",
        "outputId": "125cb08f-70e8-46fe-e960-cf5df9f31ef8"
      },
      "execution_count": null,
      "outputs": [
        {
          "output_type": "execute_result",
          "data": {
            "text/plain": [
              "[]"
            ]
          },
          "metadata": {},
          "execution_count": 18
        }
      ]
    },
    {
      "cell_type": "markdown",
      "source": [
        "## Adicionar un elemento a la lista (`append`)"
      ],
      "metadata": {
        "id": "Jo3Wp6cE6tBD"
      }
    },
    {
      "cell_type": "code",
      "source": [
        "nueva_lista.append(int(lista_de_cadenas[0]))\n",
        "nueva_lista"
      ],
      "metadata": {
        "id": "DDH2jqG77AC3",
        "colab": {
          "base_uri": "https://localhost:8080/"
        },
        "outputId": "ec12001c-3c67-4e5f-fd23-5cdaad48d759"
      },
      "execution_count": null,
      "outputs": [
        {
          "output_type": "execute_result",
          "data": {
            "text/plain": [
              "[185]"
            ]
          },
          "metadata": {},
          "execution_count": 19
        }
      ]
    },
    {
      "cell_type": "code",
      "source": [
        "nueva_lista.append(int(lista_de_cadenas[1]))\n",
        "nueva_lista"
      ],
      "metadata": {
        "colab": {
          "base_uri": "https://localhost:8080/"
        },
        "id": "JP_HonsT-GNt",
        "outputId": "98116d47-f4c0-43ac-d674-0c6adf2e6cab"
      },
      "execution_count": null,
      "outputs": [
        {
          "output_type": "execute_result",
          "data": {
            "text/plain": [
              "[185, 183]"
            ]
          },
          "metadata": {},
          "execution_count": 20
        }
      ]
    },
    {
      "cell_type": "code",
      "source": [
        "nueva_lista.append(int(lista_de_cadenas[2]))\n",
        "nueva_lista"
      ],
      "metadata": {
        "colab": {
          "base_uri": "https://localhost:8080/"
        },
        "id": "b6ftMn-s-JrA",
        "outputId": "ffefe179-17ae-4e82-e63f-77de2fa11bb1"
      },
      "execution_count": null,
      "outputs": [
        {
          "output_type": "execute_result",
          "data": {
            "text/plain": [
              "[185, 183, 180]"
            ]
          },
          "metadata": {},
          "execution_count": 21
        }
      ]
    },
    {
      "cell_type": "markdown",
      "source": [
        "## Iterar sobre un rango de números"
      ],
      "metadata": {
        "id": "awPjKLsa1-ao"
      }
    },
    {
      "cell_type": "code",
      "source": [
        "for i in range(3,n):\n",
        "  print(f'El item {i} leido es {lista_de_cadenas[i]}')\n",
        "  nueva_lista.append(int(lista_de_cadenas[i]))"
      ],
      "metadata": {
        "colab": {
          "base_uri": "https://localhost:8080/"
        },
        "id": "OQtDuy_vzs2n",
        "outputId": "998742a3-9b6c-448f-d1ef-66b6fdcb7696"
      },
      "execution_count": null,
      "outputs": [
        {
          "output_type": "stream",
          "name": "stdout",
          "text": [
            "El item 3 leido es  169\n",
            "El item 4 leido es  146\n",
            "El item 5 leido es  129\n",
            "El item 6 leido es  110\n",
            "El item 7 leido es   89\n",
            "El item 8 leido es   72\n",
            "El item 9 leido es   48\n",
            "El item 10 leido es   39\n",
            "El item 11 leido es   35\n",
            "El item 12 leido es   28\n",
            "El item 13 leido es  39\n",
            "El item 14 leido es   48\n",
            "El item 15 leido es   67\n",
            "El item 16 leido es   85\n",
            "El item 17 leido es  111\n",
            "El item 18 leido es  139\n",
            "El item 19 leido es  164\n",
            "El item 20 leido es  183\n",
            "El item 21 leido es  203\n",
            "El item 22 leido es  224\n",
            "El item 23 leido es  236\n"
          ]
        }
      ]
    },
    {
      "cell_type": "code",
      "source": [
        "nueva_lista"
      ],
      "metadata": {
        "colab": {
          "base_uri": "https://localhost:8080/"
        },
        "id": "ObTm1ciQ-ZEn",
        "outputId": "c2350714-686c-4877-ff42-e1367994c93a"
      },
      "execution_count": null,
      "outputs": [
        {
          "output_type": "execute_result",
          "data": {
            "text/plain": [
              "[185,\n",
              " 183,\n",
              " 180,\n",
              " 169,\n",
              " 146,\n",
              " 129,\n",
              " 110,\n",
              " 89,\n",
              " 72,\n",
              " 48,\n",
              " 39,\n",
              " 35,\n",
              " 28,\n",
              " 39,\n",
              " 48,\n",
              " 67,\n",
              " 85,\n",
              " 111,\n",
              " 139,\n",
              " 164,\n",
              " 183,\n",
              " 203,\n",
              " 224,\n",
              " 236]"
            ]
          },
          "metadata": {},
          "execution_count": 23
        }
      ]
    },
    {
      "cell_type": "markdown",
      "source": [
        "## Valores máximo (`max`) y mínimo (`min`) de una lista"
      ],
      "metadata": {
        "id": "TKNXLDwG_ATo"
      }
    },
    {
      "cell_type": "code",
      "source": [
        "max(nueva_lista) # correponde a 25°C"
      ],
      "metadata": {
        "colab": {
          "base_uri": "https://localhost:8080/"
        },
        "id": "5wqnxlmd_Mz0",
        "outputId": "f0eef811-3600-4290-da56-37b3ecad1ce5"
      },
      "execution_count": null,
      "outputs": [
        {
          "output_type": "execute_result",
          "data": {
            "text/plain": [
              "236"
            ]
          },
          "metadata": {},
          "execution_count": 24
        }
      ]
    },
    {
      "cell_type": "code",
      "source": [
        "min(nueva_lista) # correponde a 12°C"
      ],
      "metadata": {
        "colab": {
          "base_uri": "https://localhost:8080/"
        },
        "id": "BpML-1Nd_SeO",
        "outputId": "d31358e8-b618-47ce-eca9-bf5755a77596"
      },
      "execution_count": null,
      "outputs": [
        {
          "output_type": "execute_result",
          "data": {
            "text/plain": [
              "28"
            ]
          },
          "metadata": {},
          "execution_count": 25
        }
      ]
    },
    {
      "cell_type": "markdown",
      "source": [
        "# Transformación de ADC a °C, usando $y=mx+b$\n",
        "\n",
        "$236 \\rightarrow 25$\n",
        "\n",
        "$28 \\rightarrow 12$\n",
        "\n",
        "\n"
      ],
      "metadata": {
        "id": "7nRAJ2UoF39p"
      }
    },
    {
      "cell_type": "code",
      "source": [
        "[x1, y1] = [236, 25]\n",
        "[x2, y2] = [28, 12]\n",
        "\n",
        "def ADC2gradosC(valor_ADC):\n",
        "  valor_grdosC = (y2-y1)/(x2-x1)*(valor_ADC-x1)+y1\n",
        "  return valor_grdosC\n",
        "\n",
        "ADC2gradosC(236)"
      ],
      "metadata": {
        "colab": {
          "base_uri": "https://localhost:8080/"
        },
        "id": "8WFGAqP0GdfB",
        "outputId": "ab44ec40-e2f1-40a2-bcac-863f2210a516"
      },
      "execution_count": null,
      "outputs": [
        {
          "output_type": "execute_result",
          "data": {
            "text/plain": [
              "25.0"
            ]
          },
          "metadata": {},
          "execution_count": 26
        }
      ]
    },
    {
      "cell_type": "code",
      "source": [
        "ADC2gradosC(28)"
      ],
      "metadata": {
        "colab": {
          "base_uri": "https://localhost:8080/"
        },
        "id": "CqFhrY0FI2yD",
        "outputId": "aedc9be3-fe3a-4b20-93c0-19c6766008ae"
      },
      "execution_count": null,
      "outputs": [
        {
          "output_type": "execute_result",
          "data": {
            "text/plain": [
              "12.0"
            ]
          },
          "metadata": {},
          "execution_count": 27
        }
      ]
    },
    {
      "cell_type": "markdown",
      "source": [
        "## Iterar sobre los elementos de una lista"
      ],
      "metadata": {
        "id": "Vkcn36H2FPI3"
      }
    },
    {
      "cell_type": "code",
      "source": [
        "lista_en_gradosC = []\n",
        "for valor_ADC in nueva_lista:\n",
        "  valor_grdosC = ADC2gradosC(valor_ADC)\n",
        "  print(f'El valor del ADC {valor_ADC} es {valor_grdosC}°C')\n",
        "  lista_en_gradosC.append(valor_grdosC)"
      ],
      "metadata": {
        "colab": {
          "base_uri": "https://localhost:8080/"
        },
        "id": "VOPemzc_FS-L",
        "outputId": "983a96c0-1ad6-4d9a-812a-69a7e2f1d468"
      },
      "execution_count": null,
      "outputs": [
        {
          "output_type": "stream",
          "name": "stdout",
          "text": [
            "El valor del ADC 185 es 21.8125°C\n",
            "El valor del ADC 183 es 21.6875°C\n",
            "El valor del ADC 180 es 21.5°C\n",
            "El valor del ADC 169 es 20.8125°C\n",
            "El valor del ADC 146 es 19.375°C\n",
            "El valor del ADC 129 es 18.3125°C\n",
            "El valor del ADC 110 es 17.125°C\n",
            "El valor del ADC 89 es 15.8125°C\n",
            "El valor del ADC 72 es 14.75°C\n",
            "El valor del ADC 48 es 13.25°C\n",
            "El valor del ADC 39 es 12.6875°C\n",
            "El valor del ADC 35 es 12.4375°C\n",
            "El valor del ADC 28 es 12.0°C\n",
            "El valor del ADC 39 es 12.6875°C\n",
            "El valor del ADC 48 es 13.25°C\n",
            "El valor del ADC 67 es 14.4375°C\n",
            "El valor del ADC 85 es 15.5625°C\n",
            "El valor del ADC 111 es 17.1875°C\n",
            "El valor del ADC 139 es 18.9375°C\n",
            "El valor del ADC 164 es 20.5°C\n",
            "El valor del ADC 183 es 21.6875°C\n",
            "El valor del ADC 203 es 22.9375°C\n",
            "El valor del ADC 224 es 24.25°C\n",
            "El valor del ADC 236 es 25.0°C\n"
          ]
        }
      ]
    },
    {
      "cell_type": "code",
      "source": [
        "lista_en_gradosC"
      ],
      "metadata": {
        "colab": {
          "base_uri": "https://localhost:8080/"
        },
        "id": "pceJFKC2KOfZ",
        "outputId": "1f0ee7e6-0855-4a40-a3f4-4a7782810913"
      },
      "execution_count": null,
      "outputs": [
        {
          "output_type": "execute_result",
          "data": {
            "text/plain": [
              "[21.8125,\n",
              " 21.6875,\n",
              " 21.5,\n",
              " 20.8125,\n",
              " 19.375,\n",
              " 18.3125,\n",
              " 17.125,\n",
              " 15.8125,\n",
              " 14.75,\n",
              " 13.25,\n",
              " 12.6875,\n",
              " 12.4375,\n",
              " 12.0,\n",
              " 12.6875,\n",
              " 13.25,\n",
              " 14.4375,\n",
              " 15.5625,\n",
              " 17.1875,\n",
              " 18.9375,\n",
              " 20.5,\n",
              " 21.6875,\n",
              " 22.9375,\n",
              " 24.25,\n",
              " 25.0]"
            ]
          },
          "metadata": {},
          "execution_count": 29
        }
      ]
    },
    {
      "cell_type": "code",
      "source": [
        "lista_en_gradosC[0]"
      ],
      "metadata": {
        "colab": {
          "base_uri": "https://localhost:8080/"
        },
        "id": "o19uPpWlKQ2D",
        "outputId": "22e8bdd4-6ef5-4d56-9f4f-10a886f68984"
      },
      "execution_count": null,
      "outputs": [
        {
          "output_type": "execute_result",
          "data": {
            "text/plain": [
              "21.8125"
            ]
          },
          "metadata": {},
          "execution_count": 30
        }
      ]
    },
    {
      "cell_type": "code",
      "source": [
        "type(lista_en_gradosC[0])"
      ],
      "metadata": {
        "colab": {
          "base_uri": "https://localhost:8080/"
        },
        "id": "Qv157kZBKT8j",
        "outputId": "cb76b0a4-6e43-41e4-f294-1f2e4fe39d32"
      },
      "execution_count": null,
      "outputs": [
        {
          "output_type": "execute_result",
          "data": {
            "text/plain": [
              "float"
            ]
          },
          "metadata": {},
          "execution_count": 31
        }
      ]
    },
    {
      "cell_type": "markdown",
      "metadata": {
        "id": "SweLt9GoR4AK"
      },
      "source": [
        "## Graficar una lista de datos utilizando `matplotLib`\n",
        "\n",
        "https://matplotlib.org/3.5.0/tutorials/introductory/pyplot.html"
      ]
    },
    {
      "cell_type": "code",
      "source": [
        "import matplotlib.pyplot as plt\n",
        "plt.plot(lista_en_gradosC)\n",
        "plt.show()"
      ],
      "metadata": {
        "colab": {
          "base_uri": "https://localhost:8080/",
          "height": 265
        },
        "id": "71mFHFX8LO8a",
        "outputId": "c7b6310d-990b-4927-f117-fea62c793d05"
      },
      "execution_count": null,
      "outputs": [
        {
          "output_type": "display_data",
          "data": {
            "text/plain": [
              "<Figure size 432x288 with 1 Axes>"
            ],
            "image/png": "[encoded data removed]"
          },
          "metadata": {
            "needs_background": "light"
          }
        }
      ]
    },
    {
      "cell_type": "markdown",
      "metadata": {
        "id": "j8RjFGdaSFZa"
      },
      "source": [
        "Recordemos que la primera temperatura es a las 18:00. Para colacar las estiquetas tienen que estar en el orden adecuado y ser de tipo `str`"
      ]
    },
    {
      "cell_type": "code",
      "source": [
        "rango=list(range(24))\n",
        "rango"
      ],
      "metadata": {
        "colab": {
          "base_uri": "https://localhost:8080/"
        },
        "id": "AyyAAd0eMbLL",
        "outputId": "64db0940-23ce-4ea6-c164-e79345f796eb"
      },
      "execution_count": null,
      "outputs": [
        {
          "output_type": "execute_result",
          "data": {
            "text/plain": [
              "[0,\n",
              " 1,\n",
              " 2,\n",
              " 3,\n",
              " 4,\n",
              " 5,\n",
              " 6,\n",
              " 7,\n",
              " 8,\n",
              " 9,\n",
              " 10,\n",
              " 11,\n",
              " 12,\n",
              " 13,\n",
              " 14,\n",
              " 15,\n",
              " 16,\n",
              " 17,\n",
              " 18,\n",
              " 19,\n",
              " 20,\n",
              " 21,\n",
              " 22,\n",
              " 23]"
            ]
          },
          "metadata": {},
          "execution_count": 33
        }
      ]
    },
    {
      "cell_type": "code",
      "source": [
        "horas_dia_anterior = rango[18:24]\n",
        "#horas_dia_anterior = rango[18:]\n",
        "horas_dia_anterior"
      ],
      "metadata": {
        "colab": {
          "base_uri": "https://localhost:8080/"
        },
        "id": "Fa7R9WstMlE3",
        "outputId": "eae41c52-80cd-4d2d-fc49-988b225fcfff"
      },
      "execution_count": null,
      "outputs": [
        {
          "output_type": "execute_result",
          "data": {
            "text/plain": [
              "[18, 19, 20, 21, 22, 23]"
            ]
          },
          "metadata": {},
          "execution_count": 34
        }
      ]
    },
    {
      "cell_type": "code",
      "source": [
        "horas_dia_siguiente = rango[0:18]\n",
        "#horas_dia_siguiente = rango[:18]\n",
        "horas_dia_siguiente"
      ],
      "metadata": {
        "colab": {
          "base_uri": "https://localhost:8080/"
        },
        "id": "NtGXck1LNBgo",
        "outputId": "11b73332-a35e-49a7-e86a-2f6370681101"
      },
      "execution_count": null,
      "outputs": [
        {
          "output_type": "execute_result",
          "data": {
            "text/plain": [
              "[0, 1, 2, 3, 4, 5, 6, 7, 8, 9, 10, 11, 12, 13, 14, 15, 16, 17]"
            ]
          },
          "metadata": {},
          "execution_count": 35
        }
      ]
    },
    {
      "cell_type": "code",
      "source": [
        "horas = horas_dia_anterior + horas_dia_siguiente\n",
        "horas"
      ],
      "metadata": {
        "colab": {
          "base_uri": "https://localhost:8080/"
        },
        "id": "xHrvwTUANQtu",
        "outputId": "69ae3d98-a372-4ea0-aae6-38853f87e2c9"
      },
      "execution_count": null,
      "outputs": [
        {
          "output_type": "execute_result",
          "data": {
            "text/plain": [
              "[18,\n",
              " 19,\n",
              " 20,\n",
              " 21,\n",
              " 22,\n",
              " 23,\n",
              " 0,\n",
              " 1,\n",
              " 2,\n",
              " 3,\n",
              " 4,\n",
              " 5,\n",
              " 6,\n",
              " 7,\n",
              " 8,\n",
              " 9,\n",
              " 10,\n",
              " 11,\n",
              " 12,\n",
              " 13,\n",
              " 14,\n",
              " 15,\n",
              " 16,\n",
              " 17]"
            ]
          },
          "metadata": {},
          "execution_count": 36
        }
      ]
    },
    {
      "cell_type": "code",
      "source": [
        "hora_en_str = []\n",
        "for hora in horas:\n",
        "  hora_en_str.append(str(hora))\n",
        "\n",
        "hora_en_str "
      ],
      "metadata": {
        "colab": {
          "base_uri": "https://localhost:8080/"
        },
        "id": "J7QyA5NKOd41",
        "outputId": "71ab2539-c1b7-4afd-b94e-806bab6afa17"
      },
      "execution_count": null,
      "outputs": [
        {
          "output_type": "execute_result",
          "data": {
            "text/plain": [
              "['18',\n",
              " '19',\n",
              " '20',\n",
              " '21',\n",
              " '22',\n",
              " '23',\n",
              " '0',\n",
              " '1',\n",
              " '2',\n",
              " '3',\n",
              " '4',\n",
              " '5',\n",
              " '6',\n",
              " '7',\n",
              " '8',\n",
              " '9',\n",
              " '10',\n",
              " '11',\n",
              " '12',\n",
              " '13',\n",
              " '14',\n",
              " '15',\n",
              " '16',\n",
              " '17']"
            ]
          },
          "metadata": {},
          "execution_count": 37
        }
      ]
    },
    {
      "cell_type": "code",
      "source": [
        "plt.plot(hora_en_str,lista_en_gradosC)\n",
        "plt.show()"
      ],
      "metadata": {
        "colab": {
          "base_uri": "https://localhost:8080/",
          "height": 265
        },
        "id": "uiZXvd54NcdA",
        "outputId": "f6195b76-8e59-4622-f5f7-2618fbd2cb37"
      },
      "execution_count": null,
      "outputs": [
        {
          "output_type": "display_data",
          "data": {
            "text/plain": [
              "<Figure size 432x288 with 1 Axes>"
            ],
            "image/png": "[encoded data removed]"
          },
          "metadata": {
            "needs_background": "light"
          }
        }
      ]
    }
  ],
  "metadata": {
    "colab": {
      "name": "Graf_temp.ipynb",
      "provenance": [],
      "collapsed_sections": [],
      "include_colab_link": true
    },
    "kernelspec": {
      "display_name": "Python 3",
      "name": "python3"
    },
    "language_info": {
      "codemirror_mode": {
        "name": "ipython",
        "version": 3
      },
      "file_extension": ".py",
      "mimetype": "text/x-python",
      "name": "python",
      "nbconvert_exporter": "python",
      "pygments_lexer": "ipython3",
      "version": "3.9.5"
    }
  },
  "nbformat": 4,
  "nbformat_minor": 0
}