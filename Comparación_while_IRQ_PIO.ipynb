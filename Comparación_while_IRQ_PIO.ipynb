{
  "nbformat": 4,
  "nbformat_minor": 0,
  "metadata": {
    "colab": {
      "provenance": [],
      "authorship_tag": "ABX9TyNhVYKvTynkXpfEfrOOg68s",
      "include_colab_link": true
    },
    "kernelspec": {
      "name": "python3",
      "display_name": "Python 3"
    },
    "language_info": {
      "name": "python"
    }
  },
  "cells": [
    {
      "cell_type": "markdown",
      "metadata": {
        "id": "view-in-github",
        "colab_type": "text"
      },
      "source": [
        "<a href=\"https://colab.research.google.com/github/GerardoMunoz/Curso_Python/blob/main/Comparaci%C3%B3n_while_IRQ_PIO.ipynb\" target=\"_parent\"><img src=\"https://colab.research.google.com/assets/colab-badge.svg\" alt=\"Open In Colab\"/></a>"
      ]
    },
    {
      "cell_type": "markdown",
      "source": [
        "#  Practica 1: Control de LED con Botón\n",
        "\n",
        "## Introducción\n",
        "En esta práctica, aprenderemos a controlar el parpadeo de un LED utilizando un botón. Exploraremos 3 formas distintas de programación en la Raspberry Pi Pico (W) usando Micropython.\n",
        "\n",
        "## Materiales\n",
        "- Raspberry Pi Pico (W)\n",
        "- LED\n",
        "- Botón\n",
        "- Resistencias (según necesidad)\n",
        "- Cables de conexión\n",
        "\n",
        "## Programación\n",
        "A continuación, presentamos tres enfoques distintos para hacer parpadear el LED mientras se presiona el botón.\n",
        "### Código con while\n",
        "\n",
        "```python\n",
        "from machine import Pin\n",
        "import time\n",
        "\n",
        "led_pin = Pin(0, Pin.OUT)   \n",
        "button_pin = Pin(15, Pin.IN,Pin.PULL_UP)  \n",
        "\n",
        "while True:\n",
        "    button_state = button_pin.value()\n",
        "    if button_state == 0:\n",
        "        led_pin.toggle()  \n",
        "\n",
        "```\n",
        "\n",
        "\n",
        "### Código con IRQ\n",
        "\n",
        "```python\n",
        "from machine import Pin,Timer\n",
        "\n",
        "pin_led = Pin(0, mode=Pin.OUT)\n",
        "pin_button = Pin(15, mode=Pin.IN, pull=Pin.PULL_UP)\n",
        "\n",
        "def toggle_led(t:Timer):\n",
        "    pin_led(not pin_led() and pin_button())\n",
        "\n",
        "Timer().init(mode=Timer.PERIODIC, period= 500, callback=toggle_led)\n",
        "```\n",
        "\n",
        "\n",
        "\n",
        "\n",
        "### Código con PIO\n",
        "```python\n",
        "import time\n",
        "import rp2\n",
        "from machine import Pin\n",
        "\n",
        "\n",
        "@rp2.asm_pio(set_init=rp2.PIO.OUT_LOW)\n",
        "def blink():\n",
        "    wrap_target()\n",
        "    jmp(pin, \"one\")    \n",
        "    set(pins, 1)   [31]\n",
        "    label(\"one\")\n",
        "    nop()          [31]\n",
        "    nop()          [31]\n",
        "    nop()          [31]\n",
        "    nop()          [31]\n",
        "    set(pins, 0)   [31]\n",
        "    nop()          [31]\n",
        "    nop()          [31]\n",
        "    nop()          [31]\n",
        "    nop()          [31]\n",
        "    wrap()\n",
        "\n",
        "sm = rp2.StateMachine(0, blink, freq=2000, set_base=Pin(0),jmp_pin=Pin(15))\n",
        "sm.active(1)\n",
        "\n",
        "```\n",
        "\n",
        "\n",
        "## Ejercicio de documentación\n",
        "1. Comente los códigos.\n",
        "2. ¿Puede predecir si el LED parpadea al oprimir el botón o al soltar el botón?\n",
        "2. Calcule el valor de la fracuencia en cada caso.\n",
        "3. Determine los pines usados y realice el montaje.\n",
        "3. Ejecute el código y mida la frecuencia y el error.\n",
        "4. Describa como puede modificar la frecuencia y cual sería la máxima en cada caso, debe consultar la el menor valor de `period` en `Timer`. El mayor vlor de `freq` en  `StateMachine``es 1'250,000 Hz.\n",
        "5. Modifique los programas para aumentar a la máxima frecuaencia  y mida la fracuencia y el error.\n",
        "\n",
        "\n",
        "\n",
        "\n",
        "## Conclusiones:\n",
        "1. Enumenre las ventajas y deventajas de cada uno de los programas.\n",
        "2. Describa en que casos es convenientne cada uno de los programas.\n",
        "3. ¿Cual es la diferencia entre time y timer?\n",
        "\n",
        "\n",
        "\n"
      ],
      "metadata": {
        "id": "g6KeV7eVBTY8"
      }
    },
    {
      "cell_type": "code",
      "execution_count": null,
      "metadata": {
        "id": "o3_ouyPtBKcN"
      },
      "outputs": [],
      "source": []
    }
  ]
}