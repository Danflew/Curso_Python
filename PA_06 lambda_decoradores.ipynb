{
 "cells": [
  {
   "cell_type": "markdown",
   "metadata": {},
   "source": [
    "# `map` \n",
    "`map(funcion,iterable)`  devuelve un iterable aplicando la función a cada uno de los elementos."
   ]
  },
  {
   "cell_type": "code",
   "execution_count": 12,
   "metadata": {},
   "outputs": [
    {
     "data": {
      "text/plain": [
       "<map at 0x21be7936648>"
      ]
     },
     "execution_count": 12,
     "metadata": {},
     "output_type": "execute_result"
    }
   ],
   "source": [
    "def cuadrado(x):\n",
    "    return x**2\n",
    "\n",
    "y=map(cuadrado,[1,-2,-3,5])\n",
    "y"
   ]
  },
  {
   "cell_type": "code",
   "execution_count": 13,
   "metadata": {},
   "outputs": [
    {
     "data": {
      "text/plain": [
       "(1, 4, 9, 25)"
      ]
     },
     "execution_count": 13,
     "metadata": {},
     "output_type": "execute_result"
    }
   ],
   "source": [
    "tuple(y)"
   ]
  },
  {
   "cell_type": "markdown",
   "metadata": {},
   "source": [
    "Si la función tiene más de un parámetro se requiere el mismo número de iterables. "
   ]
  },
  {
   "cell_type": "code",
   "execution_count": 17,
   "metadata": {},
   "outputs": [
    {
     "data": {
      "text/plain": [
       "(2.4, 3.1, 2.1, 3.4, 3.45)"
      ]
     },
     "execution_count": 17,
     "metadata": {},
     "output_type": "execute_result"
    }
   ],
   "source": [
    "def nota_final(corte1,corte2,ex_final):\n",
    "    return (35*corte1 + 35*corte2 + 30*ex_final)/100\n",
    "\n",
    "y=tuple(map(nota_final,[2,3,2,5,4],[4,5,4,3,5],[1,1,0,2,1]))\n",
    "y"
   ]
  },
  {
   "cell_type": "markdown",
   "metadata": {},
   "source": [
    "#  `filter`\n",
    "`filter(funcion,iterable)`  devuelve un iterable sólo con los valores que da `True` la función."
   ]
  },
  {
   "cell_type": "code",
   "execution_count": 14,
   "metadata": {},
   "outputs": [
    {
     "data": {
      "text/plain": [
       "<filter at 0x21be793d748>"
      ]
     },
     "execution_count": 14,
     "metadata": {},
     "output_type": "execute_result"
    }
   ],
   "source": [
    "def positivo(x):\n",
    "    return x>0\n",
    "\n",
    "y=filter(positivo,[1,-2,-3,5])\n",
    "y"
   ]
  },
  {
   "cell_type": "code",
   "execution_count": 15,
   "metadata": {},
   "outputs": [
    {
     "data": {
      "text/plain": [
       "(1, 5)"
      ]
     },
     "execution_count": 15,
     "metadata": {},
     "output_type": "execute_result"
    }
   ],
   "source": [
    "tuple(y)"
   ]
  },
  {
   "cell_type": "markdown",
   "metadata": {},
   "source": [
    "# Funciones `lambda`\n",
    "`lambda` permite crear funciones con una sola sentencia"
   ]
  },
  {
   "cell_type": "code",
   "execution_count": 16,
   "metadata": {},
   "outputs": [
    {
     "data": {
      "text/plain": [
       "<function __main__.<lambda>(x, y)>"
      ]
     },
     "execution_count": 16,
     "metadata": {},
     "output_type": "execute_result"
    }
   ],
   "source": [
    "suma = lambda x,y:x+y\n",
    "suma"
   ]
  },
  {
   "cell_type": "code",
   "execution_count": 17,
   "metadata": {},
   "outputs": [
    {
     "data": {
      "text/plain": [
       "5"
      ]
     },
     "execution_count": 17,
     "metadata": {},
     "output_type": "execute_result"
    }
   ],
   "source": [
    "suma(2,3)"
   ]
  },
  {
   "cell_type": "markdown",
   "metadata": {},
   "source": [
    "Las funciones lambda usualmente se utilizan para crear funciones sencillas como parámetros. Por ejemplo, en las funciones `map` o `filter`. "
   ]
  },
  {
   "cell_type": "code",
   "execution_count": 18,
   "metadata": {},
   "outputs": [
    {
     "data": {
      "text/plain": [
       "(1, 4, 9, 25)"
      ]
     },
     "execution_count": 18,
     "metadata": {},
     "output_type": "execute_result"
    }
   ],
   "source": [
    "tuple(map(lambda x:x**2,[1,-2,-3,5]))"
   ]
  },
  {
   "cell_type": "code",
   "execution_count": 19,
   "metadata": {},
   "outputs": [
    {
     "data": {
      "text/plain": [
       "(1, 5)"
      ]
     },
     "execution_count": 19,
     "metadata": {},
     "output_type": "execute_result"
    }
   ],
   "source": [
    "tuple(filter(lambda x:x>0,[1,-2,-3,5]))"
   ]
  },
  {
   "cell_type": "markdown",
   "metadata": {},
   "source": [
    "\n",
    "# Aplicación de  iterables a las funciones\n",
    "## Desempaquetar iterables\n",
    "Los argumentos de una función pueden ser pasados por un iterable precedido del asterisco. Esto se conoce como desempaquetar argumentos."
   ]
  },
  {
   "cell_type": "code",
   "execution_count": 20,
   "metadata": {},
   "outputs": [
    {
     "name": "stdout",
     "output_type": "stream",
     "text": [
      "primer argumento:  3\n",
      "segundo argumento:  8\n",
      "tercer argumento:  2\n"
     ]
    }
   ],
   "source": [
    "def ejemplo1(a,b,c):\n",
    "    print('primer argumento: ',a)\n",
    "    print('segundo argumento: ',b)\n",
    "    print('tercer argumento: ',c)\n",
    "\n",
    "ejemplo1(3, 8, 2)    "
   ]
  },
  {
   "cell_type": "code",
   "execution_count": 21,
   "metadata": {},
   "outputs": [
    {
     "data": {
      "text/plain": [
       "[3, 8, 2]"
      ]
     },
     "execution_count": 21,
     "metadata": {},
     "output_type": "execute_result"
    }
   ],
   "source": [
    "d=[3, 8, 2]\n",
    "d"
   ]
  },
  {
   "cell_type": "code",
   "execution_count": 22,
   "metadata": {},
   "outputs": [
    {
     "name": "stdout",
     "output_type": "stream",
     "text": [
      "primer argumento:  3\n",
      "segundo argumento:  8\n",
      "tercer argumento:  2\n"
     ]
    }
   ],
   "source": [
    "ejemplo1(*d)"
   ]
  },
  {
   "cell_type": "markdown",
   "metadata": {},
   "source": [
    "## Empaquetar iterables\n",
    "También es posible empaquetar los argumentos como se ilustra en el siguiente ejemplo."
   ]
  },
  {
   "cell_type": "code",
   "execution_count": 23,
   "metadata": {},
   "outputs": [
    {
     "name": "stdout",
     "output_type": "stream",
     "text": [
      "primer argumento:  3\n",
      "segundo argumento:  (8, 2)\n"
     ]
    }
   ],
   "source": [
    "def ejemplo2(a,*b):\n",
    "    print('primer argumento: ',a)\n",
    "    print('segundo argumento: ',b)\n",
    "    \n",
    "ejemplo2(3, 8, 2)"
   ]
  },
  {
   "cell_type": "markdown",
   "metadata": {},
   "source": [
    "\n",
    "# Aplicación de diccionarios  a las funciones\n",
    "## Desempaquetar diccionarios\n",
    "Sabemos que, en una función, después de los argumentos dados por posición, se pueden dar los argumentos dados por nombre. Los diccionarios (precedidos de dos asteriscos) permiten desempaquetar argumentos dados por nombre. "
   ]
  },
  {
   "cell_type": "code",
   "execution_count": 2,
   "metadata": {},
   "outputs": [
    {
     "name": "stdout",
     "output_type": "stream",
     "text": [
      "primer argumento:  7\n",
      "segundo argumento:  5\n",
      "tercer argumento:  4\n"
     ]
    }
   ],
   "source": [
    "def ejemplo1(a,b,c):\n",
    "    print('primer argumento: ',a)\n",
    "    print('segundo argumento: ',b)\n",
    "    print('tercer argumento: ',c)\n",
    "\n",
    "ejemplo1(b=5, c=4, a=7)    "
   ]
  },
  {
   "cell_type": "code",
   "execution_count": 25,
   "metadata": {},
   "outputs": [
    {
     "data": {
      "text/plain": [
       "{'b': 1, 'c': 2, 'a': 3}"
      ]
     },
     "execution_count": 25,
     "metadata": {},
     "output_type": "execute_result"
    }
   ],
   "source": [
    "d=dict(b=1, c=2, a=3)\n",
    "d"
   ]
  },
  {
   "cell_type": "code",
   "execution_count": 26,
   "metadata": {},
   "outputs": [
    {
     "name": "stdout",
     "output_type": "stream",
     "text": [
      "primer argumento:  3\n",
      "segundo argumento:  1\n",
      "tercer argumento:  2\n"
     ]
    }
   ],
   "source": [
    "ejemplo1(**d)"
   ]
  },
  {
   "cell_type": "markdown",
   "metadata": {},
   "source": [
    "## Empaquetar diccionarios\n",
    "También es posible empaquetar los argumentos como se ilustra en el siguiente ejemplo."
   ]
  },
  {
   "cell_type": "code",
   "execution_count": 1,
   "metadata": {},
   "outputs": [
    {
     "name": "stdout",
     "output_type": "stream",
     "text": [
      "primer argumento:  2\n",
      "segundo argumento:  {'b': 3, 'c': 8}\n"
     ]
    }
   ],
   "source": [
    "def ejemplo3(a,**b):\n",
    "    print('primer argumento: ',a)\n",
    "    print('segundo argumento: ',b)\n",
    "    \n",
    "ejemplo3(b=3, c=8, a=2)"
   ]
  },
  {
   "cell_type": "markdown",
   "metadata": {},
   "source": [
    "# Decoradores de funciones\n",
    "Un decorador permite alterar los parámetros y el resultado de una función"
   ]
  },
  {
   "cell_type": "code",
   "execution_count": 34,
   "metadata": {},
   "outputs": [],
   "source": [
    "def decorador(para_decorar):\n",
    "    def la_decoracion(a,b):\n",
    "        print('decora los argumentos')\n",
    "        a=float(a)\n",
    "        b=float(b)\n",
    "                   \n",
    "        r = para_decorar(a,b)\n",
    "\n",
    "        print('decora el resultado')\n",
    "        r='¡'+str(r)+'!'\n",
    "\n",
    "        return r\n",
    "    \n",
    "\n",
    "    return la_decoracion\n",
    "\n",
    "\n",
    "@decorador \n",
    "def adicionar(a, b):\n",
    "    print(a,'+',b,'=',a+b)\n",
    "    return a + b\n",
    "\n",
    "\n",
    "@decorador \n",
    "def sustraer(a, b):\n",
    "    print(a,'-',b,'=',a-b)\n",
    "    return a - b\n",
    "    "
   ]
  },
  {
   "cell_type": "code",
   "execution_count": 35,
   "metadata": {},
   "outputs": [
    {
     "name": "stdout",
     "output_type": "stream",
     "text": [
      "decora los argumentos\n",
      "2.0 + 3.0 = 5.0\n",
      "decora el resultado\n"
     ]
    },
    {
     "data": {
      "text/plain": [
       "'¡5.0!'"
      ]
     },
     "execution_count": 35,
     "metadata": {},
     "output_type": "execute_result"
    }
   ],
   "source": [
    "adicionar(2,3)"
   ]
  },
  {
   "cell_type": "code",
   "execution_count": 36,
   "metadata": {},
   "outputs": [
    {
     "name": "stdout",
     "output_type": "stream",
     "text": [
      "decora los argumentos\n",
      "4.0 - 3.0 = 1.0\n",
      "decora el resultado\n"
     ]
    },
    {
     "data": {
      "text/plain": [
       "'¡1.0!'"
      ]
     },
     "execution_count": 36,
     "metadata": {},
     "output_type": "execute_result"
    }
   ],
   "source": [
    "sustraer(4,3)"
   ]
  }
 ],
 "metadata": {
  "kernelspec": {
   "display_name": "Python 3",
   "language": "python",
   "name": "python3"
  },
  "language_info": {
   "codemirror_mode": {
    "name": "ipython",
    "version": 3
   },
   "file_extension": ".py",
   "mimetype": "text/x-python",
   "name": "python",
   "nbconvert_exporter": "python",
   "pygments_lexer": "ipython3",
   "version": "3.7.4"
  }
 },
 "nbformat": 4,
 "nbformat_minor": 4
}
